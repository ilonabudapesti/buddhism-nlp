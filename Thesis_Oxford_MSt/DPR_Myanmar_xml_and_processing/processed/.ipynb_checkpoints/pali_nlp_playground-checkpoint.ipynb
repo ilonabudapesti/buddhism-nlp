{
 "cells": [
  {
   "cell_type": "code",
   "execution_count": 8,
   "metadata": {
    "collapsed": false
   },
   "outputs": [
    {
     "name": "stdout",
     "output_type": "stream",
     "text": [
      "Pretty printing has been turned ON\n",
      "['a10a.xml', 'a10m.xml', 'a10t.xml', 'a11a.xml', 'a11m.xml', 'a11t.xml', 'a1a.xml', 'a1m.xml', 'a1t.xml', 'a2a.xml', 'a2m.xml', 'a2t.xml', 'a3a.xml', 'a3m.xml', 'a3t.xml', 'a4a.xml', 'a4m.xml', 'a4t.xml', 'a5a.xml', 'a5m.xml', 'a5t.xml', 'a6a.xml', 'a6m.xml', 'a6t.xml', 'a7a.xml', 'a7m.xml', 'a7t.xml', 'a8a.xml', 'a8m.xml', 'a8t.xml', 'a9a.xml', 'a9m.xml', 'a9t.xml', 'b1m.xml', 'b2m.xml', 'd1a.xml', 'd1m.xml', 'd1t.xml', 'd2a.xml', 'd2m.xml', 'd2t.xml', 'd3a.xml', 'd3m.xml', 'd3t.xml', 'g1m.xml', 'g2m.xml', 'g3m.xml', 'g4m.xml', 'g5m.xml', 'k10a.xml', 'k10m.xml', 'k11m.xml', 'k12a.xml', 'k12m.xml', 'k13a.xml', 'k13m.xml', 'k14a.xml', 'k14m.xml', 'k15a.xml', 'k15m.xml', 'k16m.xml', 'k17m.xml', 'k18m.xml', 'k19m.xml', 'k1a.xml', 'k1m.xml', 'k20m.xml', 'k21m.xml', 'k2a.xml', 'k2m.xml', 'k3a.xml', 'k3m.xml', 'k4a.xml', 'k4m.xml', 'k5a.xml', 'k5m.xml', 'k6a.xml', 'k6m.xml', 'k7a.xml', 'k7m.xml', 'k8a.xml', 'k8m.xml', 'k9a.xml', 'k9m.xml', 'm1a.xml', 'm1m.xml', 'm1t.xml', 'm2a.xml', 'm2m.xml', 'm2t.xml', 'm3a.xml', 'm3m.xml', 'm3t.xml', 's1a.xml', 's1m.xml', 's1t.xml', 's2a.xml', 's2m.xml', 's2t.xml', 's3a.xml', 's3m.xml', 's3t.xml', 's4a.xml', 's4m.xml', 's4t.xml', 's5a.xml', 's5m.xml', 's5t.xml', 'v10t.xml', 'v1a.xml', 'v1m.xml', 'v1t.xml', 'v2a.xml', 'v2m.xml', 'v2t.xml', 'v3a.xml', 'v3m.xml', 'v3t.xml', 'v4a.xml', 'v4m.xml', 'v4t.xml', 'v5a.xml', 'v5m.xml', 'v5t.xml', 'v6a.xml', 'v6m.xml', 'v6t.xml', 'v7t.xml', 'v8t.xml', 'v9t.xml', 'x1a.xml', 'x1m.xml', 'x2a.xml', 'x2m.xml', 'y10m.xml', 'y11m.xml', 'y12m.xml', 'y13m.xml', 'y14m.xml', 'y1a.xml', 'y1m.xml', 'y1t.xml', 'y2a.xml', 'y2m.xml', 'y2t.xml', 'y3a.xml', 'y3m.xml', 'y3t.xml', 'y4a.xml', 'y4m.xml', 'y4t.xml', 'y5a.xml', 'y5m.xml', 'y5t.xml', 'y6a.xml', 'y6m.xml', 'y6t.xml', 'y7m.xml', 'y8m.xml', 'y9a.xml', 'y9m.xml', 'y9t.xml']\n"
     ]
    },
    {
     "data": {
      "text/plain": [
       "90083712"
      ]
     },
     "execution_count": 8,
     "metadata": {},
     "output_type": "execute_result"
    }
   ],
   "source": [
    "%pprint\n",
    "import nltk, os, matplotlib\n",
    "from bs4 import BeautifulSoup\n",
    "%matplotlib inline\n",
    "\n",
    "# list of xml files\n",
    "\n",
    "fileids = os.listdir(\"..\")\n",
    "fileids = [f for f in fileids if len(f) < 9 and 'xml' in f ]\n",
    "print(fileids)\n",
    "raw = ''\n",
    "c = open('corpusinxml.txt','w')\n",
    "for fileid in fileids:\n",
    "    f = open(\"../\" + fileid)\n",
    "    for line in f:\n",
    "        raw += line\n",
    "        c.write(line)\n",
    "c.close()\n",
    "len(raw)"
   ]
  },
  {
   "cell_type": "code",
   "execution_count": 10,
   "metadata": {
    "collapsed": false
   },
   "outputs": [],
   "source": [
    "f = open('corpusinxml.txt')\n",
    "raw = f.read()\n",
    "raw2 = BeautifulSoup(raw, 'lxml').get_text()\n",
    "c = open('corpustextonly.txt','w')\n",
    "c.write(raw2)\n",
    "c.close()"
   ]
  },
  {
   "cell_type": "code",
   "execution_count": 11,
   "metadata": {
    "collapsed": false
   },
   "outputs": [
    {
     "data": {
      "text/plain": [
       "['namo',\n",
       " 'tassa',\n",
       " 'bhagavato',\n",
       " 'arahato',\n",
       " 'aṅguttaranikāye',\n",
       " 'paṭhamapaṇṇāsakaṃ',\n",
       " 'ānisaṃsavaggo',\n",
       " 'kimatthiyasuttavaṇṇanā',\n",
       " 'dasakanipātassa',\n",
       " 'paṭhame',\n",
       " 'anavajjasīlāni',\n",
       " 'amaṅkubhāvassa',\n",
       " 'avippaṭisārassa',\n",
       " 'atthāya',\n",
       " 'saṃvattantīti',\n",
       " 'so',\n",
       " 'nesaṃ',\n",
       " 'ānisaṃsoti',\n",
       " 'nāma',\n",
       " 'taruṇavipassanā',\n",
       " 'nāma',\n",
       " 'balavavipassanā',\n",
       " 'nāma',\n",
       " 'maggo',\n",
       " 'nāma',\n",
       " 'arahattaphalaṃ',\n",
       " 'nāma',\n",
       " 'paccavekkhaṇañāṇaṃ',\n",
       " 'arahattatthāya',\n",
       " 'gacchanti',\n",
       " 'cetanākaraṇīyasuttavaṇṇanā',\n",
       " 'dutiye',\n",
       " 'cetanāya',\n",
       " 'na',\n",
       " 'cetetvā',\n",
       " 'kappetvā',\n",
       " 'pakappetvā',\n",
       " 'kātabbaṃ',\n",
       " 'dhammasabhāvo',\n",
       " 'eso',\n",
       " 'kāraṇaniyamo',\n",
       " 'ayaṃ',\n",
       " 'pavattenti',\n",
       " 'paripuṇṇaṃ',\n",
       " 'karonti',\n",
       " 'pāraṃ',\n",
       " 'orimatīrabhūtā',\n",
       " 'tebhūmakavaṭṭā',\n",
       " 'nibbānapāraṃ',\n",
       " 'gamanatthāya']"
      ]
     },
     "execution_count": 11,
     "metadata": {},
     "output_type": "execute_result"
    }
   ],
   "source": [
    "from nltk import word_tokenize\n",
    "tokens = word_tokenize(raw2)\n",
    "tokens = [t.lower() for t in tokens \n",
    "          if \"^ea^\" not in t \n",
    "          and \"^eb^\" not in t\n",
    "          and t.isalpha()]\n",
    "tokens[:50]"
   ]
  },
  {
   "cell_type": "code",
   "execution_count": 12,
   "metadata": {
    "collapsed": false
   },
   "outputs": [
    {
     "name": "stdout",
     "output_type": "stream",
     "text": [
      "dhammaṃ paṭicca; dhammo uppajjati; uppajjati hetupaccayā; atha kho;\n",
      "hevaṃ vattabbe; eseva nayo; tasmiṃ samaye; kho bhikkhave; tesaṃ\n",
      "tattha; ārammaṇapaccayena paccayo; āpatti dukkaṭassa; tenupasaṅkami\n",
      "upasaṅkamitvā; paraṃ maraṇā; puna caparaṃ; upanissayapaccayena\n",
      "paccayo; kāyassa bhedā; dhammassa ārammaṇapaccayena; kha yassa; pana\n",
      "samayena; atha naṃ\n"
     ]
    }
   ],
   "source": [
    "text = nltk.Text(tokens)\n",
    "text.collocations()"
   ]
  },
  {
   "cell_type": "code",
   "execution_count": 14,
   "metadata": {
    "collapsed": false
   },
   "outputs": [
    {
     "data": {
      "text/plain": [
       "[('ca', 124664),\n",
       " ('na', 115997),\n",
       " ('ti', 100631),\n",
       " ('vā', 86685),\n",
       " ('hoti', 56120),\n",
       " ('pana', 55227),\n",
       " ('taṃ', 48846),\n",
       " ('tattha', 42965),\n",
       " ('kho', 42961),\n",
       " ('evaṃ', 41307),\n",
       " ('so', 39691),\n",
       " ('bhikkhave', 32747),\n",
       " ('nāma', 32175),\n",
       " ('te', 31782),\n",
       " ('tassa', 29663),\n",
       " ('hi', 28832),\n",
       " ('vuttaṃ', 23984),\n",
       " ('nti', 22969),\n",
       " ('attho', 20175),\n",
       " ('ayaṃ', 20132),\n",
       " ('tena', 19863),\n",
       " ('viya', 19721),\n",
       " ('me', 19462),\n",
       " ('tesaṃ', 19068),\n",
       " ('atha', 18408),\n",
       " ('dhammaṃ', 17971),\n",
       " ('bhagavā', 17081),\n",
       " ('dhammo', 16889),\n",
       " ('uppajjati', 16857),\n",
       " ('katvā', 16826),\n",
       " ('paccayo', 16463),\n",
       " ('dhammā', 16308),\n",
       " ('yaṃ', 15895),\n",
       " ('ekaṃ', 15311),\n",
       " ('āha', 15143),\n",
       " ('idaṃ', 15058),\n",
       " ('paṭicca', 14963),\n",
       " ('yathā', 14905),\n",
       " ('no', 14823),\n",
       " ('bhante', 14781),\n",
       " ('tasmā', 14600),\n",
       " ('bhikkhu', 13841),\n",
       " ('tato', 13812),\n",
       " ('attano', 13470),\n",
       " ('dve', 13458),\n",
       " ('yo', 13386),\n",
       " ('ettha', 12278),\n",
       " ('tathā', 11925),\n",
       " ('tīṇi', 11289),\n",
       " ('atthi', 11206)]"
      ]
     },
     "execution_count": 14,
     "metadata": {},
     "output_type": "execute_result"
    }
   ],
   "source": [
    "fd = nltk.FreqDist(text)\n",
    "fd.most_common(50)"
   ]
  },
  {
   "cell_type": "code",
   "execution_count": null,
   "metadata": {
    "collapsed": true
   },
   "outputs": [],
   "source": []
  },
  {
   "cell_type": "code",
   "execution_count": 16,
   "metadata": {
    "collapsed": false
   },
   "outputs": [
    {
     "name": "stdout",
     "output_type": "stream",
     "text": [
      "Displaying 25 of 8792 matches:\n",
      "so tasmiṃ samaye āvuso tasmiṃ samaye ahaṃ bhavanirodho nibbāna nti imāya phala\n",
      "āmaṃ jhāyaṃ evaṃ kilesasenaṃ jinitvā ahaṃ ekakova jhāyanto sukhaṃ anubujjhiṃ s\n",
      "to bahiddhā pavattānaṃ no ca me sace ahaṃ atīte na bhavissaṃ etarahipi me ayaṃ\n",
      "taṃ upakāraṃ sandhāya kataññutaṃ kho ahaṃ bhante kataveditaṃ sampassamāno ti ā\n",
      " me atthi nu kho paṭiladdhaviseso so ahaṃ maraṇamañce nipannakāle sabrahmacārī\n",
      "natthampetaṃ vuttaṃ tatiyavāre yesaṃ ahaṃ te tesaṃ devānaṃ vā manussānaṃ vā te\n",
      "diṭṭhīnaṃ samugghātakattā taṃ sabbaṃ ahaṃ jānāmi kiṃkāraṇā ahaṃ vakkhāmi āhune\n",
      "ttā taṃ sabbaṃ ahaṃ jānāmi kiṃkāraṇā ahaṃ vakkhāmi āhuneyyasuttādivaṇṇanā satt\n",
      "ā nāma patiṭṭhaṃ labhati cāhaṃ ko ca ahaṃ ko hatthināgo ko ahampi tiracchānaga\n",
      " sacchikiriyāya saṃvattanti visārado ahaṃ ānanda tattha paṭijānāmi tesaṃ tathā\n",
      "dasa pañhā dasuddesā dasa imassa kho ahaṃ āvuso bhagavatā saṃkhittena bhāsitas\n",
      "pahāraṃ upadaṃsesī ti kataññutaṃ kho ahaṃ bhante kataveditaṃ sampassamāno bhag\n",
      "ammatāya kusaladhammatāya idampi kho ahaṃ bhante atthavasaṃ sampassamāno bhaga\n",
      " kusalasīlena samannāgato idampi kho ahaṃ bhante atthavasaṃ sampassamāno bhaga\n",
      "āni senāsanāni paṭisevati idampi kho ahaṃ bhante atthavasaṃ sampassamāno bhaga\n",
      "ccayabhesajjaparikkhārena idampi kho ahaṃ bhante atthavasaṃ sampassamāno bhaga\n",
      "raṃ puññakkhettaṃ lokassa idampi kho ahaṃ bhante atthavasaṃ sampassamāno bhaga\n",
      "akicchalābhī akasiralābhī idampi kho ahaṃ bhante atthavasaṃ sampassamāno bhaga\n",
      "akicchalābhī akasiralābhī idampi kho ahaṃ bhante atthavasaṃ sampassamāno bhaga\n",
      "ṃ pubbenivāsaṃ anussarati idampi kho ahaṃ bhante atthavasaṃ sampassamāno bhaga\n",
      "ākammūpage satte pajānāti idampi kho ahaṃ bhante atthavasaṃ sampassamāno bhaga\n",
      "atvā upasampajja viharati idampi kho ahaṃ bhante atthavasaṃ sampassamāno bhaga\n",
      "na abhiṇhaṃ paccavekkhitabbaṃ nu kho ahaṃ suññāgāre pabbajitena abhiṇhaṃ pacca\n",
      "mmesu pageva parihāniṃ vuḍḍhiñca kho ahaṃ bhikkhave vaṇṇayāmi kusalesu dhammes\n",
      "amasamagatikā bhavissanti evaṃ vutte ahaṃ bhante migasālaṃ upāsikaṃ etadavocaṃ\n"
     ]
    }
   ],
   "source": [
    "text.concordance('ahaṃ')"
   ]
  },
  {
   "cell_type": "code",
   "execution_count": 17,
   "metadata": {
    "collapsed": false
   },
   "outputs": [
    {
     "name": "stdout",
     "output_type": "stream",
     "text": [
      "Displaying 25 of 3271 matches:\n",
      "sa gotamassa dhammadesanāya saddhiṃ amhākaṃ dhammadesanaṃ amhākaṃ vā dhammadesa\n",
      "anāya saddhiṃ amhākaṃ dhammadesanaṃ amhākaṃ vā dhammadesanāya saddhiṃ samaṇassa\n",
      "cetiyaṃ pūjimhā ti kathetuṃ vaṭṭati amhākaṃ ñātakā sūrā samatthā ti vā pubbe ma\n",
      " bhikkhuno kālakato pitā vā mātā vā amhākaṃ ñātakatthero sīlavā kalyāṇadhammo t\n",
      "māsi therā disvāva ime paccayā neva amhākaṃ na kokālikassa kappantī ti paṭikkhi\n",
      "o atthaṃ nīharitvā dassetā no yathā amhākaṃ bhagavā byākareyya ajitasuttavaṇṇan\n",
      " nānākaraṇaṃ samaṇassa vā gotamassa amhākaṃ vā yadidaṃ dhammadesanāya vā dhamma\n",
      "ṃ piṇḍāya pavisimhā tesaṃ no bhante amhākaṃ etadahosi kho tāva sāvatthiyaṃ piṇḍ\n",
      " nānākaraṇaṃ samaṇassa vā gotamassa amhākaṃ vā yadidaṃ dhammadesanāya vā dhamma\n",
      "aṃ paviṭṭho ca tathā tesaṃ no āvuso amhākaṃ acirapakkantassa bhagavato etadahos\n",
      "sa vitthārena atthaṃ tesaṃ no āvuso amhākaṃ etadahosi kho āyasmā ānando satthu \n",
      "ave veditabbo tathā tesaṃ no bhante amhākaṃ acirapakkantassa bhagavato etadahos\n",
      "a vitthārena atthaṃ tesaṃ no bhante amhākaṃ etadahosi kho āyasmā ānando satthu \n",
      "o paribbājako bhagavantaṃ etadavoca amhākaṃ bho gotama paṇḍito nāma sabrahmacār\n",
      "mo yathā attho tathā tesaṃ no āvuso amhākaṃ acirapakkantassa bhagavato etadahos\n",
      "sa vitthārena atthaṃ tesaṃ no āvuso amhākaṃ etadahosi kho āyasmā mahākaccāno sa\n",
      "ave veditabbo tathā tesaṃ no bhante amhākaṃ acirapakkantassa bhagavato etadahos\n",
      "a vitthārena atthaṃ tesaṃ no bhante amhākaṃ etadahosi kho āyasmā mahākaccāno sa\n",
      "ke nigame pubbe kira jā aṭṭha ādayo amhākaṃ bodhisatto kapiyoniyaṃ nibbatto mah\n",
      "baddho eko vihāro nāma natthi tasmā amhākaṃ anibaddhavihārena viharantānaṃ kena\n",
      "i gosāmikā disvā ayaṃ ettakaṃ kālaṃ amhākaṃ dhenū duhī ti tajjetvā attano gāviy\n",
      "atha naṃ sabbahatthino sannipatitvā amhākaṃ verī ti vicuṇṇayiṃsu evaṃ tāva itth\n",
      "hehi saddhiṃ bhikkhusaṅgho gacchatu amhākaṃ asukatthero anumodanaṃ karissatī ti\n",
      "gatosi paṭisāmehīti subbaco bhikkhu amhākaṃ ācariyo ajānitvā evaṃ na vakkhatī t\n",
      "so cintesi atthi nu kho idaṃ sukhaṃ amhākaṃ ācariyassā ti so āvajjento therassa\n"
     ]
    }
   ],
   "source": [
    "text.concordance('amhākaṃ')"
   ]
  },
  {
   "cell_type": "code",
   "execution_count": 18,
   "metadata": {
    "collapsed": false
   },
   "outputs": [
    {
     "name": "stdout",
     "output_type": "stream",
     "text": [
      "Displaying 19 of 19 matches:\n",
      "ppavedite ayaṃ kho panāvuso amhākaṃ asmākaṃ bhagavatā bhagavato dhammo svākkhāt\n",
      "aṃmamaṃ naṃsesvamussa savibhattissa asmākaṃ mamaṃ honti vā yathākkamaṃ asmākaṃ \n",
      " asmākaṃ mamaṃ honti vā yathākkamaṃ asmākaṃ amhākaṃ mamaṃ mama simhi amhassa sa\n",
      "i amhebhi mayhaṃ mama amhaṃ amhākaṃ asmākaṃ mayā amhehi amhebhi mayhaṃ mama amh\n",
      "i amhebhi mayhaṃ mama amhaṃ amhākaṃ asmākaṃ mayi amhesu asmesu ettha pana katha\n",
      "smiṃ vuttā ayañhi suddhakattuvisaye asmākaṃ ruci sukhatīti sukhito dukkhatīti d\n",
      "akārena pāḷiyo paṭibhanti no tattha asmākaṃ khantiyā dajjā dajja ntiādīni satta\n",
      "i tesaṃ doso hotīti na hoti suṇātha asmākaṃ sodhanaṃ tathā hi aṭṭhakathācariyeh\n",
      "kvaci tumhaṃ tumhākaṃ amhaṃ amhākaṃ asmākaṃ vā pañcamiyaṃ amhatumhanturāja iccā\n",
      "ggaho tumhaṃ tumhākaṃ amhaṃ amhākaṃ asmākaṃ dhammatā smiṃmhī ti vattate sabbesa\n",
      " puriso nāma dullabho tena kāraṇena asmākaṃ evarūpesu ṭhānesu adhivāsanakhantiy\n",
      "ṃ kumāro kathessatī ti vadati nāyaṃ asmākaṃ ruccati ettha nipātamattaṃ vidhuro \n",
      "ā ñātisaṅghassa mantaraṃ adassanena asmākaṃ dukkhaṃ bahūsu tesaṃ sokavighātāya \n",
      "bhāyāmi sumukha sāmāya lakkhaṇūruyā asmākaṃ vadhamaññāya athattānaṃ pākahaṃsā c\n",
      "itāva puttānaṃ bhūtānaṃ dharaṇīriva asmākaṃ adhipannānaṃ khamassu rājakuñjarā t\n",
      "ā ñātisaṅghassa mantaraṃ adassanena asmākaṃ amhākaṃ dukkhaṃ bahūsu tesaṃ sokavi\n",
      "bhāyāmi sumukha sāmāya lakkhaṇūruyā asmākaṃ vadhamaññāya athattānaṃ pākahaṃsā c\n",
      "itāva puttānaṃ bhūtānaṃ dharaṇīriva asmākaṃ adhipannānaṃ khamassu rājakuñjara e\n",
      "nasaṇḍaṃ anuppattā ayuttaṃ kho pana asmākaṃ ayyesu idha vasantesu puttadāre gah\n"
     ]
    }
   ],
   "source": [
    "text.concordance('asmākaṃ')"
   ]
  },
  {
   "cell_type": "code",
   "execution_count": null,
   "metadata": {
    "collapsed": true
   },
   "outputs": [],
   "source": []
  },
  {
   "cell_type": "code",
   "execution_count": 34,
   "metadata": {
    "collapsed": false
   },
   "outputs": [
    {
     "data": {
      "text/plain": [
       "['v1m.xml', 'v2m.xml', 'v3m.xml', 'v4m.xml', 'v5m.xml', 'v6m.xml']"
      ]
     },
     "execution_count": 34,
     "metadata": {},
     "output_type": "execute_result"
    }
   ],
   "source": [
    "# The three 'baskets' of the Buddhist Canon are Vinaya, Sutta, and Abhidhamma\n",
    "\n",
    "# make vinaya text, mūla only\n",
    "vinaya_files=[f for f in os.listdir() if f[0] == 'v' and f[-5]=='m']\n",
    "vinaya_files"
   ]
  },
  {
   "cell_type": "code",
   "execution_count": 36,
   "metadata": {
    "collapsed": false
   },
   "outputs": [
    {
     "name": "stdout",
     "output_type": "stream",
     "text": [
      "v1m.xml 69771\n",
      "v2m.xml 46150\n",
      "v3m.xml 31302\n",
      "v4m.xml 100456\n",
      "v5m.xml 94064\n",
      "v6m.xml 61914\n",
      "vinaya tokens 403657\n"
     ]
    }
   ],
   "source": [
    "vinaya_tokens = []\n",
    "for fileid in vinaya_files:\n",
    "    f = open(fileid)\n",
    "    raw = f.read()\n",
    "    raw2 = BeautifulSoup(raw, 'lxml').get_text()\n",
    "    tokens = word_tokenize(raw2)\n",
    "    tokens = [t.lower() for t in tokens \n",
    "          if \"^ea^\" not in t \n",
    "          and \"^eb^\" not in t\n",
    "          and t.isalpha()]\n",
    "    print(fileid, len(tokens), 'cumulative', len(vinaya_tokens))\n",
    "    vinaya_tokens.extend(tokens)\n",
    "print('vinaya tokens', len(vinaya_tokens))"
   ]
  },
  {
   "cell_type": "code",
   "execution_count": 20,
   "metadata": {
    "collapsed": false
   },
   "outputs": [
    {
     "data": {
      "text/plain": [
       "['a10m.xml', 'a11m.xml', 'a1m.xml', 'a2m.xml', 'a3m.xml', 'a4m.xml', 'a5m.xml', 'a6m.xml', 'a7m.xml', 'a8m.xml', 'a9m.xml', 'd1m.xml', 'd2m.xml', 'd3m.xml', 'k10m.xml', 'k11m.xml', 'k12m.xml', 'k13m.xml', 'k14m.xml', 'k15m.xml', 'k16m.xml', 'k17m.xml', 'k18m.xml', 'k19m.xml', 'k1m.xml', 'k20m.xml', 'k21m.xml', 'k2m.xml', 'k3m.xml', 'k4m.xml', 'k5m.xml', 'k6m.xml', 'k7m.xml', 'k8m.xml', 'k9m.xml', 'm1m.xml', 'm2m.xml', 'm3m.xml', 's1m.xml', 's2m.xml', 's3m.xml', 's4m.xml', 's5m.xml']"
      ]
     },
     "execution_count": 20,
     "metadata": {},
     "output_type": "execute_result"
    }
   ],
   "source": [
    "# make sutta text, mūla only\n",
    "sutta_files = [f for f in os.listdir() if f[0] in 'dmsak' and f[-5]=='m']\n",
    "sutta_files"
   ]
  },
  {
   "cell_type": "code",
   "execution_count": 26,
   "metadata": {
    "collapsed": false
   },
   "outputs": [
    {
     "name": "stdout",
     "output_type": "stream",
     "text": [
      "a10m.xml 45990\n",
      "a11m.xml 8095\n",
      "a1m.xml 7530\n",
      "a2m.xml 9420\n",
      "a3m.xml 37783\n",
      "a4m.xml 48188\n",
      "a5m.xml 43596\n",
      "a6m.xml 26897\n",
      "a7m.xml 21592\n",
      "a8m.xml 29842\n",
      "a9m.xml 16757\n",
      "d1m.xml 43569\n",
      "d2m.xml 51792\n",
      "d3m.xml 43343\n",
      "k10m.xml 62048\n",
      "k11m.xml 12254\n",
      "k12m.xml 9564\n",
      "k13m.xml 3762\n",
      "k14m.xml 42057\n",
      "k15m.xml 46897\n",
      "k16m.xml 73095\n",
      "k17m.xml 48428\n",
      "k18m.xml 72520\n",
      "k19m.xml 71467\n",
      "k1m.xml 1131\n",
      "k20m.xml 28007\n",
      "k21m.xml 33035\n",
      "k2m.xml 5295\n",
      "k3m.xml 20253\n",
      "k4m.xml 11675\n",
      "k5m.xml 20119\n",
      "k6m.xml 12236\n",
      "k7m.xml 10321\n",
      "k8m.xml 15237\n",
      "k9m.xml 6004\n",
      "m1m.xml 80387\n",
      "m2m.xml 89322\n",
      "m3m.xml 69114\n",
      "s1m.xml 37052\n",
      "s2m.xml 41180\n",
      "s3m.xml 43465\n",
      "s4m.xml 65319\n",
      "s5m.xml 68748\n",
      "sutta tokens 1534386\n",
      "130210\n"
     ]
    }
   ],
   "source": [
    "sutta_tokens = []\n",
    "for fileid in sutta_files:\n",
    "    f = open(fileid)\n",
    "    raw = f.read()\n",
    "    raw2 = BeautifulSoup(raw, 'lxml').get_text()\n",
    "    tokens = word_tokenize(raw2)\n",
    "    tokens = [t.lower() for t in tokens \n",
    "          if \"^ea^\" not in t \n",
    "          and \"^eb^\" not in t\n",
    "          and t.isalpha()]\n",
    "    print(fileid, len(tokens))\n",
    "    sutta_tokens.extend(tokens)\n",
    "print('sutta tokens', len(sutta_tokens))\n"
   ]
  },
  {
   "cell_type": "code",
   "execution_count": null,
   "metadata": {
    "collapsed": false
   },
   "outputs": [],
   "source": [
    "print(len(set(sutta_tokens)))\n",
    "sutta_text = nltk.Text(sutta_tokens)\n",
    "sutta_text.collocations()\n",
    "fd = nltk.FreqDist(sutta_text)\n",
    "fd.most_common(50)\n",
    "fd.plot(cumulative=True)"
   ]
  },
  {
   "cell_type": "code",
   "execution_count": 33,
   "metadata": {
    "collapsed": false
   },
   "outputs": [
    {
     "data": {
      "text/plain": [
       "63629"
      ]
     },
     "execution_count": 33,
     "metadata": {},
     "output_type": "execute_result"
    }
   ],
   "source": [
    "dir(fd)\n",
    "len(fd.hapaxes())"
   ]
  },
  {
   "cell_type": "code",
   "execution_count": 37,
   "metadata": {
    "collapsed": false
   },
   "outputs": [
    {
     "data": {
      "text/plain": [
       "['x1m.xml', 'x2m.xml']"
      ]
     },
     "execution_count": 37,
     "metadata": {},
     "output_type": "execute_result"
    }
   ],
   "source": [
    "# make abhidamma text , mūla only\n",
    "abhi_files = [f for f in os.listdir() if f[0] == 'x'  and f[-5]=='m']\n",
    "abhi_files"
   ]
  },
  {
   "cell_type": "code",
   "execution_count": 39,
   "metadata": {
    "collapsed": false
   },
   "outputs": [
    {
     "name": "stdout",
     "output_type": "stream",
     "text": [
      "x1m.xml 59416 cumulative 0\n",
      "x2m.xml 54952 cumulative 59416\n",
      "abhidamma tokens 114368\n"
     ]
    }
   ],
   "source": [
    "abhidhamma_tokens = []\n",
    "for fileid in abhi_files:\n",
    "    f = open(fileid)\n",
    "    raw = f.read()\n",
    "    raw2 = BeautifulSoup(raw, 'lxml').get_text()\n",
    "    tokens = word_tokenize(raw2)\n",
    "    tokens = [t.lower() for t in tokens \n",
    "          if \"^ea^\" not in t \n",
    "          and \"^eb^\" not in t\n",
    "          and t.isalpha()]\n",
    "    print(fileid, len(tokens), 'cumulative', len(abhidhamma_tokens))\n",
    "    abhidhamma_tokens.extend(tokens)\n",
    "print('abhidamma tokens', len(abhidhamma_tokens))"
   ]
  },
  {
   "cell_type": "code",
   "execution_count": 6,
   "metadata": {
    "collapsed": true
   },
   "outputs": [],
   "source": [
    "# let's make one file per basket\n",
    "\n",
    "import fileinput\n",
    "\n",
    "def concatenate_files(input_list_of_files, output_filename):\n",
    "    with open(output_filename, 'w') as fout, fileinput.input(input_list_of_files) as fin:\n",
    "        for line in fin:\n",
    "            fout.write(line)\n",
    "\n",
    "concatenate_files(vinaya_files, 'Vinaya_all.xml')\n",
    "concatenate_files(sutta_files, 'Sutta_all.xml')\n",
    "concatenate_files(abhi_files, 'Abhi_all.xml')"
   ]
  },
  {
   "cell_type": "code",
   "execution_count": 7,
   "metadata": {
    "collapsed": false
   },
   "outputs": [
    {
     "data": {
      "text/plain": [
       "[('a', 203324), (' ', 106267), ('t', 93484), ('i', 73559), ('ā', 67499), ('h', 54430), ('n', 49690), ('s', 46956), ('e', 42924), ('^', 38652), ('b', 34787), ('p', 33930), ('v', 33841), ('k', 32515), ('d', 28254), ('m', 24764), ('ṃ', 23419), ('u', 23202), ('o', 19931), ('y', 18647), ('r', 17627), ('c', 16454), ('.', 15513), ('ṭ', 14386), ('g', 11785), ('ī', 9567), ('ṇ', 9464), ('j', 8080), ('ñ', 7548), ('‘', 6894), ('’', 6882), (',', 6545), ('l', 6360), ('\\n', 5258), ('ū', 2976), ('ṅ', 2590), ('0', 2264), ('1', 2159), ('2', 1980), ('T', 1767), ('ḍ', 1483), ('A', 1452), ('P', 1296), ('V', 1277), ('S', 1260), ('ḷ', 1114), ('M', 1040), ('3', 1020), ('4', 808), ('K', 754), ('5', 733), ('Y', 681), ('6', 679), ('E', 676), ('8', 623), ('N', 613), ('9', 591), ('7', 576), ('D', 521), ('(', 510), (')', 510), ('…', 460), ('-', 450), ('U', 417), ('I', 401), ('B', 367), ('C', 329), ('Ā', 288), ('G', 172), ('R', 143), (';', 120), ('L', 97), ('–', 90), ('H', 90), ('?', 79), ('J', 68), ('O', 63), ('Ñ', 23), ('Ṭ', 21), ('Ū', 12), ('Ī', 6)]"
      ]
     },
     "execution_count": 7,
     "metadata": {},
     "output_type": "execute_result"
    }
   ],
   "source": [
    "with open('vinaya_all.xml') as pf:\n",
    "    soup = BeautifulSoup(pf, 'xml')\n",
    "    \n",
    "v = nltk.Text(soup.text)\n",
    "cfdv = nltk.FreqDist(v)\n",
    "\n",
    "# letter distribution, note the capital letters are broken out\n",
    "cfdv.most_common()"
   ]
  },
  {
   "cell_type": "code",
   "execution_count": 8,
   "metadata": {
    "collapsed": false
   },
   "outputs": [
    {
     "data": {
      "image/png": "[encoded data removed]",
      "text/plain": [
       "<matplotlib.figure.Figure object at 0x10e7eb208>"
      ]
     },
     "metadata": {},
     "output_type": "display_data"
    }
   ],
   "source": [
    "%matplotlib inline\n",
    "cfdv.plot()"
   ]
  },
  {
   "cell_type": "code",
   "execution_count": 9,
   "metadata": {
    "collapsed": false
   },
   "outputs": [
    {
     "data": {
      "text/plain": [
       "[('a', 204776), ('t', 95251), ('i', 73960), ('ā', 67787), ('h', 54520), ('n', 50303), ('s', 48216), ('e', 43600), ('p', 35226), ('b', 35154), ('v', 35118), ('k', 33269), ('d', 28775), ('m', 25804), ('u', 23619), ('ṃ', 23419), ('o', 19994), ('y', 19328), ('r', 17770), ('c', 16783), ('ṭ', 14407), ('g', 11957), ('ī', 9573), ('ṇ', 9464), ('j', 8148), ('ñ', 7571), ('l', 6457), ('ū', 2988), ('ṅ', 2590), ('ḍ', 1483), ('ḷ', 1114)]"
      ]
     },
     "execution_count": 9,
     "metadata": {},
     "output_type": "execute_result"
    }
   ],
   "source": [
    "v2 = [s.lower() for s in v if s.isalpha()]\n",
    "v3 = ''.join(v2)\n",
    "\n",
    "v4 = nltk.Text(v3)\n",
    "cfdv4 = nltk.FreqDist(v4)\n",
    "\n",
    "# letter distribution, note the capital letters are broken out\n",
    "cfdv4.most_common()"
   ]
  },
  {
   "cell_type": "code",
   "execution_count": 25,
   "metadata": {
    "collapsed": false
   },
   "outputs": [
    {
     "name": "stdout",
     "output_type": "stream",
     "text": [
      "['v', 'i', 'm', 'a', 't', 'i', 'v', 'i', 'n', 'o', 'd', 'a', 'n', 'ī', 'ṭ', 'ī', 'k', 'ā', 'p', 'a', 'ṭ', 'h', 'a', 'm', 'o', 'b', 'h', 'ā', 'g', 'o', 'g', 'a', 'n', 't', 'h', 'ā', 'r', 'a', 'm', 'b', 'h', 'a', 'k', 'a', 't', 'h', 'ā', 'n', 'a', 'm', 'o', 't', 'a', 's', 's', 'a', 'b', 'h', 'a', 'g', 'a', 'v', 'a', 't', 'o', 'a', 'r', 'a', 'h', 'a', 't', 'o', 's', 'a', 'm', 'm', 'ā', 's', 'a', 'm', 'b', 'u', 'd', 'd', 'h', 'a', 's', 's', 'a', 'v', 'i', 'n', 'a', 'y', 'a', 'p', 'i', 'ṭ', 'a', 'k']\n"
     ]
    },
    {
     "data": {
      "image/png": "[encoded data removed]",
      "text/plain": [
       "<matplotlib.figure.Figure object at 0x1130d3908>"
      ]
     },
     "metadata": {},
     "output_type": "display_data"
    },
    {
     "data": {
      "text/plain": [
       "[('a', 204776), ('t', 95251), ('i', 73960), ('ā', 67787), ('h', 54520), ('n', 50303), ('s', 48216), ('e', 43600), ('p', 35226), ('b', 35154), ('v', 35118), ('k', 33269), ('d', 28775), ('m', 25804), ('u', 23619), ('ṃ', 23419), ('o', 19994), ('y', 19328), ('r', 17770), ('c', 16783), ('ṭ', 14407), ('g', 11957), ('ī', 9573), ('ṇ', 9464), ('j', 8148), ('ñ', 7571), ('l', 6457), ('ū', 2988), ('ṅ', 2590), ('ḍ', 1483), ('ḷ', 1114)]"
      ]
     },
     "execution_count": 25,
     "metadata": {},
     "output_type": "execute_result"
    }
   ],
   "source": [
    "def letter_distribution(xmlfile):\n",
    "    with open(xmlfile) as f:\n",
    "        soup = BeautifulSoup(f, 'xml')\n",
    "    soup = [s.lower() for s in soup.text if s.isalpha()]\n",
    "    print(soup[:100])\n",
    "    soup = ''.join(soup)\n",
    "    soup = nltk.Text(soup)\n",
    "    fd = nltk.FreqDist(soup)\n",
    "    fd.plot()\n",
    "    return fd.most_common()\n",
    "\n",
    "letter_distribution('Vinaya_all.xml')\n",
    "    "
   ]
  },
  {
   "cell_type": "code",
   "execution_count": 15,
   "metadata": {
    "collapsed": false
   },
   "outputs": [
    {
     "data": {
      "image/png": "[encoded data removed]",
      "text/plain": [
       "<matplotlib.figure.Figure object at 0x11434ddd8>"
      ]
     },
     "metadata": {},
     "output_type": "display_data"
    },
    {
     "data": {
      "text/plain": [
       "[('a', 15665), ('t', 6945), ('i', 5643), ('ā', 5169), ('h', 4229), ('s', 3939), ('n', 3838), ('e', 3488), ('b', 3041), ('v', 2617), ('p', 2553), ('k', 2424), ('m', 2322), ('d', 2035), ('ṃ', 1979), ('o', 1884), ('u', 1794), ('y', 1504), ('r', 1501), ('c', 1216), ('ṭ', 1116), ('g', 894), ('ṇ', 790), ('ī', 727), ('ñ', 682), ('j', 622), ('l', 583), ('ū', 262), ('ṅ', 143), ('ḍ', 70), ('ḷ', 45)]"
      ]
     },
     "execution_count": 15,
     "metadata": {},
     "output_type": "execute_result"
    }
   ],
   "source": [
    "letter_distribution('Sutta_all.xml')"
   ]
  },
  {
   "cell_type": "code",
   "execution_count": 16,
   "metadata": {
    "collapsed": false
   },
   "outputs": [
    {
     "data": {
      "image/png": "[encoded data removed]",
      "text/plain": [
       "<matplotlib.figure.Figure object at 0x114364dd8>"
      ]
     },
     "metadata": {},
     "output_type": "display_data"
    },
    {
     "data": {
      "text/plain": [
       "[('a', 148838), ('t', 66079), ('i', 51594), ('ā', 50224), ('h', 41294), ('s', 38560), ('n', 36724), ('e', 32570), ('b', 31368), ('p', 24927), ('v', 24920), ('k', 21303), ('d', 21043), ('m', 19691), ('u', 17019), ('o', 17007), ('ṃ', 16624), ('y', 14947), ('r', 13916), ('c', 11549), ('ṭ', 8732), ('g', 8319), ('ī', 6765), ('j', 6112), ('ṇ', 5940), ('l', 5176), ('ñ', 5090), ('ū', 2661), ('ṅ', 1602), ('ḍ', 771), ('ḷ', 519)]"
      ]
     },
     "execution_count": 16,
     "metadata": {},
     "output_type": "execute_result"
    }
   ],
   "source": [
    "letter_distribution('Abhi_all.xml')"
   ]
  },
  {
   "cell_type": "code",
   "execution_count": 29,
   "metadata": {
    "collapsed": false
   },
   "outputs": [
    {
     "name": "stdout",
     "output_type": "stream",
     "text": [
      "1028424\n",
      "vimativinodanīṭīkāpaṭhamobhāgoganthārambhakathānamotassabhagavatoarahatosammāsambuddhassavinayapiṭak\n"
     ]
    },
    {
     "data": {
      "text/plain": [
       "['v', 'i', 'm', 'a', 't', 'i', 'v', 'i', 'n', 'o']"
      ]
     },
     "execution_count": 29,
     "metadata": {},
     "output_type": "execute_result"
    }
   ],
   "source": [
    "# conditional frequency distribution\n",
    "\n",
    "def soupify(xmlfile):\n",
    "    with open(xmlfile) as f:\n",
    "        soup = BeautifulSoup(f, 'xml')\n",
    "    soup = [s.lower() for s in soup.text if s.isalpha()]\n",
    "    soup = ''.join(soup)\n",
    "    print(len(soup))\n",
    "    print(soup[:100])\n",
    "    soup = nltk.Text(soup)\n",
    "    return soup\n",
    "\n",
    "soupify('Vinaya_all.xml')[:10]"
   ]
  },
  {
   "cell_type": "code",
   "execution_count": null,
   "metadata": {
    "collapsed": false
   },
   "outputs": [],
   "source": [
    "cfd = nltk.ConditionalFreqDist([s for s in soupify('Vinaya_all.xml')])"
   ]
  },
  {
   "cell_type": "code",
   "execution_count": 41,
   "metadata": {
    "collapsed": false
   },
   "outputs": [
    {
     "name": "stdout",
     "output_type": "stream",
     "text": [
      "1028424\n",
      "vimativinodanīṭīkāpaṭhamobhāgoganthārambhakathānamotassabhagavatoarahatosammāsambuddhassavinayapiṭak\n",
      "79720\n",
      "namotassabhagavatoarahatosammāsambuddhassaaṅguttaranikāyedasakanipātaaṭṭhakathāpaṭhamapaṇṇāsakaṃānis\n",
      "751884\n",
      "namotassabhagavatoarahatosammāsambuddhassavisuddhimaggamahāṭīkāpaṭhamobhāgoganthārambhakathāsaddhamm\n"
     ]
    },
    {
     "data": {
      "text/plain": [
       "<MLEProbDist based on 0 samples>"
      ]
     },
     "execution_count": 41,
     "metadata": {},
     "output_type": "execute_result"
    }
   ],
   "source": [
    "files = ['Vinaya_all.xml', 'Sutta_all.xml', 'Abhi_all.xml']\n",
    "\n",
    "cfd = nltk.ConditionalFreqDist(\n",
    "        (fileid, s) \n",
    "        for fileid in files\n",
    "        for s in soupify(fileid)\n",
    ")\n",
    "cpd = nltk.ConditionalProbDist(cfd, nltk.MLEProbDist)\n",
    "\n",
    "\n",
    "#WAT how come the sutta has such a low total count? \n",
    "#The file sizes would have made me think differently\n",
    "#sutta 32MB, vinaya 16MB, abhi 4 MB ..."
   ]
  },
  {
   "cell_type": "code",
   "execution_count": 52,
   "metadata": {
    "collapsed": false,
    "scrolled": true
   },
   "outputs": [
    {
     "name": "stdout",
     "output_type": "stream",
     "text": [
      "0.018828399397892624\n",
      "0.01727886552628099\n"
     ]
    },
    {
     "data": {
      "text/plain": [
       "0.018508174133243956"
      ]
     },
     "execution_count": 52,
     "metadata": {},
     "output_type": "execute_result"
    }
   ],
   "source": [
    "print(cpd['Sutta_all.xml'].prob('r'))\n",
    "print(cpd['Vinaya_all.xml'].prob('r'))\n",
    "cpd['Abhi_all.xml'].prob('r')"
   ]
  },
  {
   "cell_type": "code",
   "execution_count": 60,
   "metadata": {
    "collapsed": false
   },
   "outputs": [],
   "source": [
    "pd1 = cpd['Sutta_all.xml']\n",
    "fd1 = nltk.FreqDist((s, pd1.prob(s)) for s in pd1.samples())"
   ]
  },
  {
   "cell_type": "code",
   "execution_count": 87,
   "metadata": {
    "collapsed": false
   },
   "outputs": [
    {
     "data": {
      "image/png": "[encoded data removed]",
      "text/plain": [
       "<matplotlib.figure.Figure object at 0x114345e10>"
      ]
     },
     "metadata": {},
     "output_type": "display_data"
    }
   ],
   "source": [
    "fd1 = pd1.freqdist()\n",
    "allfds = [cpd[fn].freqdist() for fn in files]\n",
    "fd1.plot()"
   ]
  },
  {
   "cell_type": "code",
   "execution_count": 90,
   "metadata": {
    "collapsed": false
   },
   "outputs": [
    {
     "name": "stdout",
     "output_type": "stream",
     "text": [
      "[('m', 0.025090818572884335), ('u', 0.02296620848988355), ('j', 0.007922802268325127), ('y', 0.018793804889811985), ('ā', 0.06591347537591499), ('s', 0.04688338661874869), ('n', 0.048912705265532506), ('i', 0.07191586349598998), ('v', 0.03414739445987258), ('e', 0.04239496550061064), ('ū', 0.0029054164430235), ('ṃ', 0.02277173617107341), ('l', 0.006278538812785388), ('a', 0.19911631778332672), ('ī', 0.009308417539847378), ('o', 0.019441397711449752), ('g', 0.011626527580064253), ('b', 0.03418239947725841), ('k', 0.032349497872472835), ('d', 0.027979704868808974), ('ṭ', 0.014008813485488476), ('r', 0.01727886552628099), ('ḷ', 0.001083210815772483), ('h', 0.05301315410764432), ('p', 0.034252409512030055), ('t', 0.09261841419492349), ('c', 0.016319144632952944), ('ḍ', 0.0014420122439771923), ('ṅ', 0.0025184165285913203), ('ṇ', 0.009202430126095852), ('ñ', 0.0073617496285578714)]\n"
     ]
    }
   ],
   "source": [
    "unsorted_list = [(x, allfds[0].freq(x)) for x in allfds[0].keys()]\n",
    "print(unsorted_list)"
   ]
  },
  {
   "cell_type": "code",
   "execution_count": 91,
   "metadata": {
    "collapsed": false
   },
   "outputs": [
    {
     "name": "stdout",
     "output_type": "stream",
     "text": [
      "[('a', 0.19911631778332672), ('b', 0.03418239947725841), ('c', 0.016319144632952944), ('d', 0.027979704868808974), ('e', 0.04239496550061064), ('g', 0.011626527580064253), ('h', 0.05301315410764432), ('i', 0.07191586349598998), ('j', 0.007922802268325127), ('k', 0.032349497872472835), ('l', 0.006278538812785388), ('m', 0.025090818572884335), ('n', 0.048912705265532506), ('o', 0.019441397711449752), ('p', 0.034252409512030055), ('r', 0.01727886552628099), ('s', 0.04688338661874869), ('t', 0.09261841419492349), ('u', 0.02296620848988355), ('v', 0.03414739445987258), ('y', 0.018793804889811985), ('ñ', 0.0073617496285578714), ('ā', 0.06591347537591499), ('ī', 0.009308417539847378), ('ū', 0.0029054164430235), ('ḍ', 0.0014420122439771923), ('ḷ', 0.001083210815772483), ('ṃ', 0.02277173617107341), ('ṅ', 0.0025184165285913203), ('ṇ', 0.009202430126095852), ('ṭ', 0.014008813485488476)]\n"
     ]
    }
   ],
   "source": [
    "sorted_list = sorted(unsorted_list)\n",
    "print(sorted_list)"
   ]
  },
  {
   "cell_type": "code",
   "execution_count": 92,
   "metadata": {
    "collapsed": false
   },
   "outputs": [
    {
     "name": "stdout",
     "output_type": "stream",
     "text": [
      "('a', 'b', 'c', 'd', 'e', 'g', 'h', 'i', 'j', 'k', 'l', 'm', 'n', 'o', 'p', 'r', 's', 't', 'u', 'v', 'y', 'ñ', 'ā', 'ī', 'ū', 'ḍ', 'ḷ', 'ṃ', 'ṅ', 'ṇ', 'ṭ')\n",
      "(0.19911631778332672, 0.03418239947725841, 0.016319144632952944, 0.027979704868808974, 0.04239496550061064, 0.011626527580064253, 0.05301315410764432, 0.07191586349598998, 0.007922802268325127, 0.032349497872472835, 0.006278538812785388, 0.025090818572884335, 0.048912705265532506, 0.019441397711449752, 0.034252409512030055, 0.01727886552628099, 0.04688338661874869, 0.09261841419492349, 0.02296620848988355, 0.03414739445987258, 0.018793804889811985, 0.0073617496285578714, 0.06591347537591499, 0.009308417539847378, 0.0029054164430235, 0.0014420122439771923, 0.001083210815772483, 0.02277173617107341, 0.0025184165285913203, 0.009202430126095852, 0.014008813485488476)\n"
     ]
    }
   ],
   "source": [
    "xlabs, vals = zip(*sorted_list)\n",
    "print(xlabs)\n",
    "print(vals)"
   ]
  },
  {
   "cell_type": "code",
   "execution_count": 83,
   "metadata": {
    "collapsed": false
   },
   "outputs": [],
   "source": [
    "allxlabs, allvals = [], []\n",
    "for fd in allfds:\n",
    "    arr = sorted([(x, fd.freq(x)) for x in fd.keys()])\n",
    "    xlabs, vals = zip(*arr)\n",
    "    allxlabs.append(xlabs)\n",
    "    allvals.append(vals)\n",
    "assert(allxlabs[0]==allxlabs[1] and allxlabs[1]==allxlabs[2])"
   ]
  },
  {
   "cell_type": "code",
   "execution_count": 86,
   "metadata": {
    "collapsed": false
   },
   "outputs": [
    {
     "data": {
      "text/plain": [
       "<matplotlib.legend.Legend object at 0x120f8fcf8>"
      ]
     },
     "execution_count": 86,
     "metadata": {},
     "output_type": "execute_result"
    },
    {
     "data": {
      "image/png": "[encoded data removed]",
      "text/plain": [
       "<matplotlib.figure.Figure object at 0x112644748>"
      ]
     },
     "metadata": {},
     "output_type": "display_data"
    }
   ],
   "source": [
    "import matplotlib.pyplot as plt\n",
    "import matplotlib as mpl\n",
    "mpl.rcParams['font.family'] = 'Arial'\n",
    "nvals = len(allvals[0])\n",
    "plt.plot(range(nvals), allvals[0], label=files[0])\n",
    "plt.plot(range(nvals), allvals[1], label=files[1])\n",
    "plt.plot(range(nvals), allvals[2], label=files[2])\n",
    "plt.xticks(range(nvals), allxlabs[0])\n",
    "plt.legend()"
   ]
  },
  {
   "cell_type": "code",
   "execution_count": 71,
   "metadata": {
    "collapsed": false
   },
   "outputs": [
    {
     "name": "stdout",
     "output_type": "stream",
     "text": [
      "Help on function plot in module matplotlib.pyplot:\n",
      "\n",
      "plot(*args, **kwargs)\n",
      "    Plot lines and/or markers to the\n",
      "    :class:`~matplotlib.axes.Axes`.  *args* is a variable length\n",
      "    argument, allowing for multiple *x*, *y* pairs with an\n",
      "    optional format string.  For example, each of the following is\n",
      "    legal::\n",
      "    \n",
      "        plot(x, y)        # plot x and y using default line style and color\n",
      "        plot(x, y, 'bo')  # plot x and y using blue circle markers\n",
      "        plot(y)           # plot y using x as index array 0..N-1\n",
      "        plot(y, 'r+')     # ditto, but with red plusses\n",
      "    \n",
      "    If *x* and/or *y* is 2-dimensional, then the corresponding columns\n",
      "    will be plotted.\n",
      "    \n",
      "    If used with labeled data, make sure that the color spec is not\n",
      "    included as an element in data, as otherwise the last case\n",
      "    ``plot(\"v\",\"r\", data={\"v\":..., \"r\":...)``\n",
      "    can be interpreted as the first case which would do ``plot(v, r)``\n",
      "    using the default line style and color.\n",
      "    \n",
      "    If not used with labeled data (i.e., without a data argument),\n",
      "    an arbitrary number of *x*, *y*, *fmt* groups can be specified, as in::\n",
      "    \n",
      "        a.plot(x1, y1, 'g^', x2, y2, 'g-')\n",
      "    \n",
      "    Return value is a list of lines that were added.\n",
      "    \n",
      "    By default, each line is assigned a different style specified by a\n",
      "    'style cycle'.  To change this behavior, you can edit the\n",
      "    axes.prop_cycle rcParam.\n",
      "    \n",
      "    The following format string characters are accepted to control\n",
      "    the line style or marker:\n",
      "    \n",
      "    ================    ===============================\n",
      "    character           description\n",
      "    ================    ===============================\n",
      "    ``'-'``             solid line style\n",
      "    ``'--'``            dashed line style\n",
      "    ``'-.'``            dash-dot line style\n",
      "    ``':'``             dotted line style\n",
      "    ``'.'``             point marker\n",
      "    ``','``             pixel marker\n",
      "    ``'o'``             circle marker\n",
      "    ``'v'``             triangle_down marker\n",
      "    ``'^'``             triangle_up marker\n",
      "    ``'<'``             triangle_left marker\n",
      "    ``'>'``             triangle_right marker\n",
      "    ``'1'``             tri_down marker\n",
      "    ``'2'``             tri_up marker\n",
      "    ``'3'``             tri_left marker\n",
      "    ``'4'``             tri_right marker\n",
      "    ``'s'``             square marker\n",
      "    ``'p'``             pentagon marker\n",
      "    ``'*'``             star marker\n",
      "    ``'h'``             hexagon1 marker\n",
      "    ``'H'``             hexagon2 marker\n",
      "    ``'+'``             plus marker\n",
      "    ``'x'``             x marker\n",
      "    ``'D'``             diamond marker\n",
      "    ``'d'``             thin_diamond marker\n",
      "    ``'|'``             vline marker\n",
      "    ``'_'``             hline marker\n",
      "    ================    ===============================\n",
      "    \n",
      "    \n",
      "    The following color abbreviations are supported:\n",
      "    \n",
      "    ==========  ========\n",
      "    character   color\n",
      "    ==========  ========\n",
      "    'b'         blue\n",
      "    'g'         green\n",
      "    'r'         red\n",
      "    'c'         cyan\n",
      "    'm'         magenta\n",
      "    'y'         yellow\n",
      "    'k'         black\n",
      "    'w'         white\n",
      "    ==========  ========\n",
      "    \n",
      "    In addition, you can specify colors in many weird and\n",
      "    wonderful ways, including full names (``'green'``), hex\n",
      "    strings (``'#008000'``), RGB or RGBA tuples (``(0,1,0,1)``) or\n",
      "    grayscale intensities as a string (``'0.8'``).  Of these, the\n",
      "    string specifications can be used in place of a ``fmt`` group,\n",
      "    but the tuple forms can be used only as ``kwargs``.\n",
      "    \n",
      "    Line styles and colors are combined in a single format string, as in\n",
      "    ``'bo'`` for blue circles.\n",
      "    \n",
      "    The *kwargs* can be used to set line properties (any property that has\n",
      "    a ``set_*`` method).  You can use this to set a line label (for auto\n",
      "    legends), linewidth, anitialising, marker face color, etc.  Here is an\n",
      "    example::\n",
      "    \n",
      "        plot([1,2,3], [1,2,3], 'go-', label='line 1', linewidth=2)\n",
      "        plot([1,2,3], [1,4,9], 'rs',  label='line 2')\n",
      "        axis([0, 4, 0, 10])\n",
      "        legend()\n",
      "    \n",
      "    If you make multiple lines with one plot command, the kwargs\n",
      "    apply to all those lines, e.g.::\n",
      "    \n",
      "        plot(x1, y1, x2, y2, antialiased=False)\n",
      "    \n",
      "    Neither line will be antialiased.\n",
      "    \n",
      "    You do not need to use format strings, which are just\n",
      "    abbreviations.  All of the line properties can be controlled\n",
      "    by keyword arguments.  For example, you can set the color,\n",
      "    marker, linestyle, and markercolor with::\n",
      "    \n",
      "        plot(x, y, color='green', linestyle='dashed', marker='o',\n",
      "             markerfacecolor='blue', markersize=12).\n",
      "    \n",
      "    See :class:`~matplotlib.lines.Line2D` for details.\n",
      "    \n",
      "    The kwargs are :class:`~matplotlib.lines.Line2D` properties:\n",
      "    \n",
      "      agg_filter: unknown\n",
      "      alpha: float (0.0 transparent through 1.0 opaque) \n",
      "      animated: [True | False] \n",
      "      antialiased or aa: [True | False] \n",
      "      axes: an :class:`~matplotlib.axes.Axes` instance \n",
      "      clip_box: a :class:`matplotlib.transforms.Bbox` instance \n",
      "      clip_on: [True | False] \n",
      "      clip_path: [ (:class:`~matplotlib.path.Path`, :class:`~matplotlib.transforms.Transform`) | :class:`~matplotlib.patches.Patch` | None ] \n",
      "      color or c: any matplotlib color \n",
      "      contains: a callable function \n",
      "      dash_capstyle: ['butt' | 'round' | 'projecting'] \n",
      "      dash_joinstyle: ['miter' | 'round' | 'bevel'] \n",
      "      dashes: sequence of on/off ink in points \n",
      "      drawstyle: ['default' | 'steps' | 'steps-pre' | 'steps-mid' | 'steps-post'] \n",
      "      figure: a :class:`matplotlib.figure.Figure` instance \n",
      "      fillstyle: ['full' | 'left' | 'right' | 'bottom' | 'top' | 'none'] \n",
      "      gid: an id string \n",
      "      label: string or anything printable with '%s' conversion. \n",
      "      linestyle or ls: ['solid' | 'dashed', 'dashdot', 'dotted' | (offset, on-off-dash-seq) | ``'-'`` | ``'--'`` | ``'-.'`` | ``':'`` | ``'None'`` | ``' '`` | ``''``]\n",
      "      linewidth or lw: float value in points \n",
      "      marker: :mod:`A valid marker style <matplotlib.markers>`\n",
      "      markeredgecolor or mec: any matplotlib color \n",
      "      markeredgewidth or mew: float value in points \n",
      "      markerfacecolor or mfc: any matplotlib color \n",
      "      markerfacecoloralt or mfcalt: any matplotlib color \n",
      "      markersize or ms: float \n",
      "      markevery: [None | int | length-2 tuple of int | slice | list/array of int | float | length-2 tuple of float]\n",
      "      path_effects: unknown\n",
      "      picker: float distance in points or callable pick function ``fn(artist, event)`` \n",
      "      pickradius: float distance in points \n",
      "      rasterized: [True | False | None] \n",
      "      sketch_params: unknown\n",
      "      snap: unknown\n",
      "      solid_capstyle: ['butt' | 'round' |  'projecting'] \n",
      "      solid_joinstyle: ['miter' | 'round' | 'bevel'] \n",
      "      transform: a :class:`matplotlib.transforms.Transform` instance \n",
      "      url: a url string \n",
      "      visible: [True | False] \n",
      "      xdata: 1D array \n",
      "      ydata: 1D array \n",
      "      zorder: any number \n",
      "    \n",
      "    kwargs *scalex* and *scaley*, if defined, are passed on to\n",
      "    :meth:`~matplotlib.axes.Axes.autoscale_view` to determine\n",
      "    whether the *x* and *y* axes are autoscaled; the default is\n",
      "    *True*.\n",
      "    \n",
      "    Notes\n",
      "    -----\n",
      "    \n",
      "    In addition to the above described arguments, this function can take a\n",
      "    **data** keyword argument. If such a **data** argument is given, the\n",
      "    following arguments are replaced by **data[<arg>]**:\n",
      "    \n",
      "    * All arguments with the following names: 'y', 'x'.\n",
      "    \n",
      "    \n",
      "    \n",
      "    \n",
      "    Additional kwargs: hold = [True|False] overrides default hold state\n",
      "\n"
     ]
    }
   ],
   "source": [
    "help(plt.plot)"
   ]
  },
  {
   "cell_type": "code",
   "execution_count": 33,
   "metadata": {
    "collapsed": false,
    "scrolled": true
   },
   "outputs": [
    {
     "name": "stdout",
     "output_type": "stream",
     "text": [
      "79720\n",
      "namotassabhagavatoarahatosammāsambuddhassaaṅguttaranikāyedasakanipātaaṭṭhakathāpaṭhamapaṇṇāsakaṃānis\n"
     ]
    },
    {
     "data": {
      "text/plain": [
       "'latantiuttānatthāyevātimanorathapūraṇiyāaṅguttaranikāyaaṭṭhakathāyadasakanipātassasaṃvaṇṇanāniṭṭhitā'"
      ]
     },
     "execution_count": 33,
     "metadata": {},
     "output_type": "execute_result"
    }
   ],
   "source": [
    "sutta = soupify('Sutta_all.xml')\n",
    "len(sutta)\n",
    "''.join(sutta[-100:])"
   ]
  },
  {
   "cell_type": "code",
   "execution_count": 40,
   "metadata": {
    "collapsed": false
   },
   "outputs": [
    {
     "name": "stdout",
     "output_type": "stream",
     "text": [
      "Help on class ConditionalProbDist in module nltk.probability:\n",
      "\n",
      "class ConditionalProbDist(ConditionalProbDistI)\n",
      " |  A conditional probability distribution modeling the experiments\n",
      " |  that were used to generate a conditional frequency distribution.\n",
      " |  A ConditionalProbDist is constructed from a\n",
      " |  ``ConditionalFreqDist`` and a ``ProbDist`` factory:\n",
      " |  \n",
      " |  - The ``ConditionalFreqDist`` specifies the frequency\n",
      " |    distribution for each condition.\n",
      " |  - The ``ProbDist`` factory is a function that takes a\n",
      " |    condition's frequency distribution, and returns its\n",
      " |    probability distribution.  A ``ProbDist`` class's name (such as\n",
      " |    ``MLEProbDist`` or ``HeldoutProbDist``) can be used to specify\n",
      " |    that class's constructor.\n",
      " |  \n",
      " |  The first argument to the ``ProbDist`` factory is the frequency\n",
      " |  distribution that it should model; and the remaining arguments are\n",
      " |  specified by the ``factory_args`` parameter to the\n",
      " |  ``ConditionalProbDist`` constructor.  For example, the following\n",
      " |  code constructs a ``ConditionalProbDist``, where the probability\n",
      " |  distribution for each condition is an ``ELEProbDist`` with 10 bins:\n",
      " |  \n",
      " |      >>> from nltk.corpus import brown\n",
      " |      >>> from nltk.probability import ConditionalFreqDist\n",
      " |      >>> from nltk.probability import ConditionalProbDist, ELEProbDist\n",
      " |      >>> cfdist = ConditionalFreqDist(brown.tagged_words()[:5000])\n",
      " |      >>> cpdist = ConditionalProbDist(cfdist, ELEProbDist, 10)\n",
      " |      >>> cpdist['passed'].max()\n",
      " |      'VBD'\n",
      " |      >>> cpdist['passed'].prob('VBD')\n",
      " |      0.423...\n",
      " |  \n",
      " |  Method resolution order:\n",
      " |      ConditionalProbDist\n",
      " |      ConditionalProbDistI\n",
      " |      builtins.dict\n",
      " |      builtins.object\n",
      " |  \n",
      " |  Methods defined here:\n",
      " |  \n",
      " |  __init__(self, cfdist, probdist_factory, *factory_args, **factory_kw_args)\n",
      " |      Construct a new conditional probability distribution, based on\n",
      " |      the given conditional frequency distribution and ``ProbDist``\n",
      " |      factory.\n",
      " |      \n",
      " |      :type cfdist: ConditionalFreqDist\n",
      " |      :param cfdist: The ``ConditionalFreqDist`` specifying the\n",
      " |          frequency distribution for each condition.\n",
      " |      :type probdist_factory: class or function\n",
      " |      :param probdist_factory: The function or class that maps\n",
      " |          a condition's frequency distribution to its probability\n",
      " |          distribution.  The function is called with the frequency\n",
      " |          distribution as its first argument,\n",
      " |          ``factory_args`` as its remaining arguments, and\n",
      " |          ``factory_kw_args`` as keyword arguments.\n",
      " |      :type factory_args: (any)\n",
      " |      :param factory_args: Extra arguments for ``probdist_factory``.\n",
      " |          These arguments are usually used to specify extra\n",
      " |          properties for the probability distributions of individual\n",
      " |          conditions, such as the number of bins they contain.\n",
      " |      :type factory_kw_args: (any)\n",
      " |      :param factory_kw_args: Extra keyword arguments for ``probdist_factory``.\n",
      " |  \n",
      " |  __missing__(self, key)\n",
      " |  \n",
      " |  ----------------------------------------------------------------------\n",
      " |  Data and other attributes defined here:\n",
      " |  \n",
      " |  __abstractmethods__ = frozenset()\n",
      " |  \n",
      " |  ----------------------------------------------------------------------\n",
      " |  Methods inherited from ConditionalProbDistI:\n",
      " |  \n",
      " |  __repr__(self)\n",
      " |      Return a string representation of this ``ConditionalProbDist``.\n",
      " |      \n",
      " |      :rtype: str\n",
      " |  \n",
      " |  __unicode__ = __str__(self, /)\n",
      " |      Return str(self).\n",
      " |  \n",
      " |  conditions(self)\n",
      " |      Return a list of the conditions that are represented by\n",
      " |      this ``ConditionalProbDist``.  Use the indexing operator to\n",
      " |      access the probability distribution for a given condition.\n",
      " |      \n",
      " |      :rtype: list\n",
      " |  \n",
      " |  unicode_repr = __repr__(self)\n",
      " |      Return a string representation of this ``ConditionalProbDist``.\n",
      " |      \n",
      " |      :rtype: str\n",
      " |  \n",
      " |  ----------------------------------------------------------------------\n",
      " |  Data descriptors inherited from ConditionalProbDistI:\n",
      " |  \n",
      " |  __dict__\n",
      " |      dictionary for instance variables (if defined)\n",
      " |  \n",
      " |  __weakref__\n",
      " |      list of weak references to the object (if defined)\n",
      " |  \n",
      " |  ----------------------------------------------------------------------\n",
      " |  Methods inherited from builtins.dict:\n",
      " |  \n",
      " |  __contains__(self, key, /)\n",
      " |      True if D has a key k, else False.\n",
      " |  \n",
      " |  __delitem__(self, key, /)\n",
      " |      Delete self[key].\n",
      " |  \n",
      " |  __eq__(self, value, /)\n",
      " |      Return self==value.\n",
      " |  \n",
      " |  __ge__(self, value, /)\n",
      " |      Return self>=value.\n",
      " |  \n",
      " |  __getattribute__(self, name, /)\n",
      " |      Return getattr(self, name).\n",
      " |  \n",
      " |  __getitem__(...)\n",
      " |      x.__getitem__(y) <==> x[y]\n",
      " |  \n",
      " |  __gt__(self, value, /)\n",
      " |      Return self>value.\n",
      " |  \n",
      " |  __iter__(self, /)\n",
      " |      Implement iter(self).\n",
      " |  \n",
      " |  __le__(self, value, /)\n",
      " |      Return self<=value.\n",
      " |  \n",
      " |  __len__(self, /)\n",
      " |      Return len(self).\n",
      " |  \n",
      " |  __lt__(self, value, /)\n",
      " |      Return self<value.\n",
      " |  \n",
      " |  __ne__(self, value, /)\n",
      " |      Return self!=value.\n",
      " |  \n",
      " |  __new__(*args, **kwargs) from builtins.type\n",
      " |      Create and return a new object.  See help(type) for accurate signature.\n",
      " |  \n",
      " |  __setitem__(self, key, value, /)\n",
      " |      Set self[key] to value.\n",
      " |  \n",
      " |  __sizeof__(...)\n",
      " |      D.__sizeof__() -> size of D in memory, in bytes\n",
      " |  \n",
      " |  clear(...)\n",
      " |      D.clear() -> None.  Remove all items from D.\n",
      " |  \n",
      " |  copy(...)\n",
      " |      D.copy() -> a shallow copy of D\n",
      " |  \n",
      " |  fromkeys(iterable, value=None, /) from abc.ABCMeta\n",
      " |      Returns a new dict with keys from iterable and values equal to value.\n",
      " |  \n",
      " |  get(...)\n",
      " |      D.get(k[,d]) -> D[k] if k in D, else d.  d defaults to None.\n",
      " |  \n",
      " |  items(...)\n",
      " |      D.items() -> a set-like object providing a view on D's items\n",
      " |  \n",
      " |  keys(...)\n",
      " |      D.keys() -> a set-like object providing a view on D's keys\n",
      " |  \n",
      " |  pop(...)\n",
      " |      D.pop(k[,d]) -> v, remove specified key and return the corresponding value.\n",
      " |      If key is not found, d is returned if given, otherwise KeyError is raised\n",
      " |  \n",
      " |  popitem(...)\n",
      " |      D.popitem() -> (k, v), remove and return some (key, value) pair as a\n",
      " |      2-tuple; but raise KeyError if D is empty.\n",
      " |  \n",
      " |  setdefault(...)\n",
      " |      D.setdefault(k[,d]) -> D.get(k,d), also set D[k]=d if k not in D\n",
      " |  \n",
      " |  update(...)\n",
      " |      D.update([E, ]**F) -> None.  Update D from dict/iterable E and F.\n",
      " |      If E is present and has a .keys() method, then does:  for k in E: D[k] = E[k]\n",
      " |      If E is present and lacks a .keys() method, then does:  for k, v in E: D[k] = v\n",
      " |      In either case, this is followed by: for k in F:  D[k] = F[k]\n",
      " |  \n",
      " |  values(...)\n",
      " |      D.values() -> an object providing a view on D's values\n",
      " |  \n",
      " |  ----------------------------------------------------------------------\n",
      " |  Data and other attributes inherited from builtins.dict:\n",
      " |  \n",
      " |  __hash__ = None\n",
      "\n"
     ]
    }
   ],
   "source": [
    "help(nltk.ConditionalProbDist)"
   ]
  }
 ],
 "metadata": {
  "kernelspec": {
   "display_name": "Python 3",
   "language": "python",
   "name": "python3"
  },
  "language_info": {
   "codemirror_mode": {
    "name": "ipython",
    "version": 3
   },
   "file_extension": ".py",
   "mimetype": "text/x-python",
   "name": "python",
   "nbconvert_exporter": "python",
   "pygments_lexer": "ipython3",
   "version": "3.5.1"
  }
 },
 "nbformat": 4,
 "nbformat_minor": 0
}
