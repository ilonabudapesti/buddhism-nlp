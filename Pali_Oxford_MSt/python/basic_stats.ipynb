{
 "cells": [
  {
   "cell_type": "markdown",
   "metadata": {},
   "source": [
    "# Basic Statistics\n",
    "\n",
    "The corpus contains the following 12 files, which live in the `corpus` directory at https://github.com/ilonabudapesti/buddhism-nlp/tree/master/Pali_Oxford_MSt/corpus\n",
    "\n",
    "They are plain text files directly taken from the Digital Pali Reader which uses an electronic version of the CTS Edition."
   ]
  },
  {
   "cell_type": "code",
   "execution_count": 15,
   "metadata": {
    "collapsed": false
   },
   "outputs": [
    {
     "data": {
      "text/plain": [
       "['01 Angulimala MN86.txt',\n",
       " '02 Yodhajiva SN42.3.txt',\n",
       " '03 Baddhekaratta MN131.txt',\n",
       " '04 Mahagovinda DN19.txt',\n",
       " '06 Kammavācā.txt',\n",
       " '06 Upasampadaviddhi V.txt',\n",
       " '07 Parivārapāḷi V482, 485.txt',\n",
       " '08 Parivāra-aṭṭhakathā V484-5 linguistics.txt',\n",
       " '09 Jataka 113 A.txt',\n",
       " '09 Jataka 148 A.txt',\n",
       " '09 Jataka 407 A.txt',\n",
       " '10 Bhikkhunīsaṃyutta SN5.1-5.txt',\n",
       " '11 Bhikkhuni pācittiya 8-9.txt',\n",
       " '12 Vaccakuṭivatta V.txt']"
      ]
     },
     "execution_count": 15,
     "metadata": {},
     "output_type": "execute_result"
    }
   ],
   "source": [
    "import nltk, os, re, pprint\n",
    "from nltk import word_tokenize, sent_tokenize\n",
    "\n",
    "fileids = os.listdir('../corpus')\n",
    "fileids"
   ]
  },
  {
   "cell_type": "markdown",
   "metadata": {},
   "source": [
    "The 12 files are combined into one large string. The length of this string is 122,497 characters. "
   ]
  },
  {
   "cell_type": "code",
   "execution_count": 28,
   "metadata": {
    "collapsed": false
   },
   "outputs": [
    {
     "data": {
      "text/plain": [
       "122497"
      ]
     },
     "execution_count": 28,
     "metadata": {},
     "output_type": "execute_result"
    }
   ],
   "source": [
    "raw = ''\n",
    "c = open('corpus.txt','w')\n",
    "for fileid in fileids:\n",
    "    f = open('../corpus/' + fileid)\n",
    "    for line in f:\n",
    "        raw += line\n",
    "        c.write(line)\n",
    "    f.close()\n",
    "c.close()\n",
    "len(raw)"
   ]
  },
  {
   "cell_type": "code",
   "execution_count": 30,
   "metadata": {
    "collapsed": false
   },
   "outputs": [
    {
     "data": {
      "text/plain": [
       "1474"
      ]
     },
     "execution_count": 30,
     "metadata": {},
     "output_type": "execute_result"
    }
   ],
   "source": [
    "sents = sent_tokenize(raw)\n",
    "len(sents)"
   ]
  },
  {
   "cell_type": "code",
   "execution_count": 31,
   "metadata": {
    "collapsed": false
   },
   "outputs": [
    {
     "name": "stdout",
     "output_type": "stream",
     "text": [
      "01 Angulimala MN86.txt 191\n",
      "02 Yodhajiva SN42.3.txt 19\n",
      "03 Baddhekaratta MN131.txt 51\n",
      "04 Mahagovinda DN19.txt 432\n",
      "06 Kammavācā.txt 229\n",
      "06 Upasampadaviddhi V.txt 144\n",
      "07 Parivārapāḷi V482, 485.txt 6\n",
      "08 Parivāra-aṭṭhakathā V484-5 linguistics.txt 49\n",
      "09 Jataka 113 A.txt 35\n",
      "09 Jataka 148 A.txt 58\n",
      "09 Jataka 407 A.txt 89\n",
      "10 Bhikkhunīsaṃyutta SN5.1-5.txt 64\n",
      "11 Bhikkhuni pācittiya 8-9.txt 62\n",
      "12 Vaccakuṭivatta V.txt 54\n"
     ]
    }
   ],
   "source": [
    "for fileid in fileids:\n",
    "    f = open('../corpus/' + fileid)\n",
    "    raw = f.read()\n",
    "    sents = sent_tokenize(raw)\n",
    "    print(fileid, len(sents))\n",
    "    f.close()\n",
    "    \n",
    "#Texts and number of sentences in each."
   ]
  },
  {
   "cell_type": "code",
   "execution_count": 4,
   "metadata": {
    "collapsed": false
   },
   "outputs": [
    {
     "data": {
      "text/plain": [
       "['atha kho, bho, mahāgovindassa brāhmaṇassa catunnaṃ māsānaṃ accayena ahudeva ukkaṇṭhanā ahu paritassanā — “sutaṃ kho pana metaṃ brāhmaṇānaṃ vuddhānaṃ mahallakānaṃ ācariyapācariyānaṃ bhāsamānānaṃ — ‘yo vassike cattāro māse paṭisallīyati, karuṇaṃ jhānaṃ jhāyati, so brahmānaṃ passati, brahmunā sākaccheti brahmunā sallapati brahmunā mantetī’ti.',\n",
       " 'na kho panāhaṃ brahmānaṃ passāmi, na brahmunā sākacchemi na brahmunā sallapāmi na brahmunā mantemī’”ti.',\n",
       " '♦  brahmunā sākacchā (DN 19)\\n\\n♦ 318.',\n",
       " '“atha V.2.176 kho, bho, brahmā sanaṅkumāro mahāgovindassa brāhmaṇassa cetasā cetoparivitakkamaññāya P.2.240 seyyathāpi nāma balavā puriso samiñjitaṃ vā bāhaṃ pasāreyya, pasāritaṃ vā bāhaṃ samiñjeyya, evameva, brahmaloke antarahito mahāgovindassa brāhmaṇassa sammukhe pāturahosi.',\n",
       " 'atha kho, bho, mahāgovindassa brāhmaṇassa ahudeva bhayaṃ ahu chambhitattaṃ ahu lomahaṃso yathā taṃ adiṭṭhapubbaṃ rūpaṃ disvā.']"
      ]
     },
     "execution_count": 4,
     "metadata": {},
     "output_type": "execute_result"
    }
   ],
   "source": [
    "sents[500:505]"
   ]
  },
  {
   "cell_type": "markdown",
   "metadata": {},
   "source": [
    "It would be more useful to know the number of words rather than number of characters in the corpus. Therefore we tokenize the raw string, which will split the string up into words taking empty space as the delimiting character. We sample a few element.\n",
    "\n",
    "Then we use NLTK's built in `Text` method to turn our list of tokens into an NLTK `Text` format. This gives us access to several built-in methods, such as `concordance`, which lists out the occurance of a specific token in the `Text`."
   ]
  },
  {
   "cell_type": "code",
   "execution_count": 5,
   "metadata": {
    "collapsed": false
   },
   "outputs": [
    {
     "data": {
      "text/plain": [
       "['pasupālakā',\n",
       " 'kassakā',\n",
       " 'pathāvino',\n",
       " 'bhagavantaṃ',\n",
       " 'yena',\n",
       " 'coro',\n",
       " 'aṅgulimālo',\n",
       " 'tenaddhānamaggapaṭipannaṃ',\n",
       " '.',\n",
       " 'disvāna']"
      ]
     },
     "execution_count": 5,
     "metadata": {},
     "output_type": "execute_result"
    }
   ],
   "source": [
    "tokens = word_tokenize(raw)\n",
    "tokens[100:110]"
   ]
  },
  {
   "cell_type": "code",
   "execution_count": 6,
   "metadata": {
    "collapsed": false
   },
   "outputs": [
    {
     "name": "stdout",
     "output_type": "stream",
     "text": [
      "Displaying 9 of 9 matches:\n",
      "āna bhagavantaṃ etadavocuṃ — “ mā , samaṇa , etaṃ maggaṃ paṭipajji . etasmiṃ ,\n",
      ", etaṃ maggaṃ paṭipajji . etasmiṃ , samaṇa , magge coro aṅgulimālo nāma luddo \n",
      " aṅgulīnaṃ mālaṃ dhāreti . etañhi , samaṇa , maggaṃ dasapi purisā vīsampi puri\n",
      "ino bhagavantaṃ etadavocuṃ — “ mā , samaṇa , etaṃ maggaṃ paṭipajji , etasmiṃ s\n",
      "a , etaṃ maggaṃ paṭipajji , etasmiṃ samaṇa magge coro aṅgulimālo nāma luddo lo\n",
      "vā aṅgulīnaṃ mālaṃ dhāreti . etañhi samaṇa maggaṃ dasapi purisā vīsampi purisā\n",
      "āya ajjhabhāsi — ♦ “ gacchaṃ vadesi samaṇa ṭhitomhi , ♦ mamañca brūsi ṭhitamaṭ\n",
      "si ṭhitamaṭṭhitoti . ♦ pucchāmi taṃ samaṇa etamatthaṃ , ♦ kathaṃ ṭhito tvaṃ ah\n",
      "oyaṃ paccupādi ( sī . ) , mahāvanaṃ samaṇa paccupādi ( syā . kaṃ . ) } . ♦ soh\n"
     ]
    }
   ],
   "source": [
    "text = nltk.Text(tokens)\n",
    "text.concordance('samaṇa')"
   ]
  },
  {
   "cell_type": "markdown",
   "metadata": {},
   "source": [
    "We can take a frequency distribution of the text, which will show us how frequently each token (also called *word-type*) occurs.\n",
    "\n",
    "We list the tokens in order of freqency. Punctuation such as ',' and '.' are most frequent appearing 1557 and 1377 times respectively. This is followed by 'ti', 'kho', 'na' 364, 278 and 203 occurrences each. Words which appear with high frequency but carry no semantic meaning are called *stop-words*. Examples of stop-words in English are 'and', 'the', 'it' and many pronouns.\n",
    "\n",
    "The first word in the frequency distribution with semantic meaning is 'bhante', which as a form of address falls within the frequency range of stop-words.\n",
    "\n",
    "Note that words from the Angulimala and Mahagovinda, both from the DN, will appear higher in the frequency distribution due to their texts being longer and therefore there is more chance for repetition."
   ]
  },
  {
   "cell_type": "code",
   "execution_count": 7,
   "metadata": {
    "collapsed": false
   },
   "outputs": [],
   "source": [
    "fd = nltk.FreqDist(text)\n",
    "fd.most_common()\n",
    "mc = open('most_common.txt','w')\n",
    "for token in fd.most_common():\n",
    "    mc.write(str(token[0] + \" \" + str(token[1]) + \"\\n\"))\n",
    "mc.close()"
   ]
  },
  {
   "cell_type": "code",
   "execution_count": 8,
   "metadata": {
    "collapsed": false
   },
   "outputs": [
    {
     "data": {
      "text/plain": [
       "19395"
      ]
     },
     "execution_count": 8,
     "metadata": {},
     "output_type": "execute_result"
    }
   ],
   "source": [
    "len(text) # number of tokens (words, including punctuation and references) in the corpus"
   ]
  },
  {
   "cell_type": "code",
   "execution_count": 9,
   "metadata": {
    "collapsed": false
   },
   "outputs": [
    {
     "data": {
      "text/plain": [
       "4052"
      ]
     },
     "execution_count": 9,
     "metadata": {},
     "output_type": "execute_result"
    }
   ],
   "source": [
    "# We remove punctuation and numbers, and count unique tokens.\n",
    "\n",
    "vocab = sorted(set([w.lower() for w in text if w.isalpha()]))\n",
    "len(vocab) \n",
    "\n",
    "# There are 4,052 unique word-types or tokens in the corpus"
   ]
  },
  {
   "cell_type": "markdown",
   "metadata": {},
   "source": [
    "A list of all tokens is below, ordered according to the Latin alphabet, with capital letters preceeding small caps.\n",
    "Note that words with different conjugations and declensions count as different tokens. \n",
    "To find out the unique number of head-words we will need to **lemmatize** or **stem** our vocabulary."
   ]
  },
  {
   "cell_type": "code",
   "execution_count": 10,
   "metadata": {
    "collapsed": false
   },
   "outputs": [
    {
     "data": {
      "text/plain": [
       "['abbhamiva',\n",
       " 'abbhantare',\n",
       " 'abbhañjāpetvā',\n",
       " 'abbhaññāsi',\n",
       " 'abbhokāsaṃ',\n",
       " 'abbhuggacchi',\n",
       " 'abbhuggantvā',\n",
       " 'abbhuggato',\n",
       " 'abbhuggañchi',\n",
       " 'abbhutaṃ',\n",
       " 'abbhā',\n",
       " 'abhabbo',\n",
       " 'abhikkantavaṇṇo',\n",
       " 'abhikkantaṃ',\n",
       " 'abhikkantāya',\n",
       " 'abhinanditvā',\n",
       " 'abhinandunti',\n",
       " 'abhinimanteyyāma',\n",
       " 'abhinimminitvā',\n",
       " 'abhinippanno',\n",
       " 'abhinipphanno',\n",
       " 'abhipatthitan',\n",
       " 'abhipatthitaṃ',\n",
       " 'abhiramatu',\n",
       " 'abhiramāmī',\n",
       " 'abhiramāmīti',\n",
       " 'abhiruyha',\n",
       " 'abhisambhosi',\n",
       " 'abhisambhoti',\n",
       " 'abhisaṅkhāresi',\n",
       " 'abhisaṅkhāsi',\n",
       " 'abhisitto',\n",
       " 'abhisiñceyyuṃ',\n",
       " 'abhisiñci',\n",
       " 'abhisiñcissāmī',\n",
       " 'abhisiñciṃsu',\n",
       " 'abhivādeti',\n",
       " 'abhivādetvā',\n",
       " 'abhivādeyyāma',\n",
       " 'abhiññā',\n",
       " 'abhiññāya',\n",
       " 'abhāsatha',\n",
       " 'abhāsi',\n",
       " 'abhāsittha',\n",
       " 'abhūtaṃ',\n",
       " 'abyattena',\n",
       " 'abyattā',\n",
       " 'abyāpajjena',\n",
       " 'acarimaṃ',\n",
       " 'accantaṃ',\n",
       " 'accayena',\n",
       " 'acchariyaṃ',\n",
       " 'acchādetvā',\n",
       " 'adantānaṃ',\n",
       " 'adassāvī',\n",
       " 'adatvā',\n",
       " 'adayāpanno',\n",
       " 'adaṇḍena',\n",
       " 'addasa',\n",
       " 'addasaṃ',\n",
       " 'addasā',\n",
       " 'addasāsuṃ',\n",
       " 'addhagato',\n",
       " 'addhamāsassa',\n",
       " 'addhamāsaṃ',\n",
       " 'addhamāso',\n",
       " 'addhā',\n",
       " 'adhikuṭṭanā',\n",
       " 'adhipatibhāvena',\n",
       " 'adhippetaṃ',\n",
       " 'adhippetā',\n",
       " 'adhivāsehi',\n",
       " 'adho',\n",
       " 'adhunābhisitto',\n",
       " 'adhunūpapannā',\n",
       " 'adinnaṃ',\n",
       " 'adinnādānā',\n",
       " 'adissamāno',\n",
       " 'adiṭṭhapubbaṃ',\n",
       " 'adiṭṭhaṃ',\n",
       " 'adj',\n",
       " 'adutiyo',\n",
       " 'adv',\n",
       " 'agamaṃsu',\n",
       " 'agamāsi',\n",
       " 'agantvā',\n",
       " 'agatigamanaṃ',\n",
       " 'agaṇetvā',\n",
       " 'aggahesinti',\n",
       " 'aggahiṃ',\n",
       " 'agghaṃ',\n",
       " 'agghe',\n",
       " 'aggi',\n",
       " 'aggiṃ',\n",
       " 'aguṇakathaṃ',\n",
       " 'agāmā',\n",
       " 'agārasmā',\n",
       " 'agāraṃ',\n",
       " 'aham',\n",
       " 'ahamayyassa',\n",
       " 'ahamaṭṭhitomhī',\n",
       " 'ahameva',\n",
       " 'ahampi',\n",
       " 'aharitasaññā',\n",
       " 'aharite',\n",
       " 'ahañca',\n",
       " 'ahañhi',\n",
       " 'ahaṃ',\n",
       " 'ahesuṃ',\n",
       " 'ahiṃsakoti',\n",
       " 'aho',\n",
       " 'ahorattamatanditaṃ',\n",
       " 'ahorattānaṃ',\n",
       " 'ahosi',\n",
       " 'ahosin',\n",
       " 'ahosinti',\n",
       " 'ahosiṃ',\n",
       " 'ahu',\n",
       " 'ahudeva',\n",
       " 'ahū',\n",
       " 'ajanapadā',\n",
       " 'ajja',\n",
       " 'ajjatagge',\n",
       " 'ajjeva',\n",
       " 'ajjhabhāsi',\n",
       " 'ajjhogāhetvā',\n",
       " 'ajjhāsayaṃ',\n",
       " 'ajjhāvasatā',\n",
       " 'ajjāhaṃ',\n",
       " 'ajānantā',\n",
       " 'akaraṇīyan',\n",
       " 'akaraṇīyaṃ',\n",
       " 'akaraṇīyāni',\n",
       " 'akatvā',\n",
       " 'akaṃsu',\n",
       " 'akaṅkhiṃ',\n",
       " 'akiri',\n",
       " 'akkamantā',\n",
       " 'akkamitvā',\n",
       " 'akkharaṃ',\n",
       " 'akkhare',\n",
       " 'akovido',\n",
       " 'akusalan',\n",
       " 'akusalanti',\n",
       " 'akusalavitakke',\n",
       " 'akāco',\n",
       " 'akāle',\n",
       " 'akāliko',\n",
       " 'akārādi',\n",
       " 'akāsī',\n",
       " 'alabhanto',\n",
       " 'alamatthadasataro',\n",
       " 'alattha',\n",
       " 'alaṃ',\n",
       " 'allīyituṃ',\n",
       " 'allīyiṃsu',\n",
       " 'amacce',\n",
       " 'amaccā',\n",
       " 'amaccānampi',\n",
       " 'amanussavaco',\n",
       " 'amanusso',\n",
       " 'amaraṇaṃ',\n",
       " 'amataṃ',\n",
       " 'ambapakkan',\n",
       " 'ambapakkaraso',\n",
       " 'ambapakkāni',\n",
       " 'ambarukkhaṃ',\n",
       " 'ambarukkho',\n",
       " 'ambasākhaṃ',\n",
       " 'ambho',\n",
       " 'ambāni',\n",
       " 'amhe',\n",
       " 'amhākampi',\n",
       " 'amhākaṃ',\n",
       " 'amoghā',\n",
       " 'amumhi',\n",
       " 'an',\n",
       " 'anabhisambhavanīyo',\n",
       " 'anagāriyan',\n",
       " 'anagāriyanti',\n",
       " 'anagāriyaṃ',\n",
       " 'ananusiṭṭhe',\n",
       " 'anavajjaṃ',\n",
       " 'anavakāso',\n",
       " 'anavasesetvā',\n",
       " 'anaṇo',\n",
       " 'andhakāro',\n",
       " 'andhavanaṃ',\n",
       " 'anekehi',\n",
       " 'anekāni',\n",
       " 'aniddāyanto',\n",
       " 'anigamā',\n",
       " 'aniggahetvā',\n",
       " 'anirāmagandhā',\n",
       " 'anokāse',\n",
       " 'antalikkhe',\n",
       " 'antamaso',\n",
       " 'antaradhāyi',\n",
       " 'antaradhāyāmi',\n",
       " 'antarahito',\n",
       " 'antaravāsako',\n",
       " 'antarāmagge',\n",
       " 'antarārayikehi',\n",
       " 'antarāyika',\n",
       " 'antarāyike',\n",
       " 'antarāyikehi',\n",
       " 'antepuradvāre',\n",
       " 'antmaso',\n",
       " 'anto',\n",
       " 'antogaṅgāya',\n",
       " 'antokammavācāya',\n",
       " 'antokoṭisanthāre',\n",
       " 'antokucchiyaṃ',\n",
       " 'antokucchiṃ',\n",
       " 'antonagareyeva',\n",
       " 'antorājadvāre',\n",
       " 'anubandhi',\n",
       " 'anujānāmi',\n",
       " 'anukampaṃ',\n",
       " 'anukkamantā',\n",
       " 'anukkamāgataṃ',\n",
       " 'anumodi',\n",
       " 'anumoditabbaṃ',\n",
       " 'anumoditvā',\n",
       " 'anumodāmi',\n",
       " 'anunāsikaṃ',\n",
       " 'anupabbajiṃsu',\n",
       " 'anupatitvā',\n",
       " 'anuppattā',\n",
       " 'anupubbena',\n",
       " 'anusiṭṭho',\n",
       " 'anussāvanakammaṃ',\n",
       " 'anussāvanato',\n",
       " 'anussāvanaṃ',\n",
       " 'anussāvento',\n",
       " 'anusāsakena',\n",
       " 'anusāsaniyā',\n",
       " 'anusāsanti',\n",
       " 'anusāsantova',\n",
       " 'anusāsati',\n",
       " 'anusāsatu',\n",
       " 'anusāseyya',\n",
       " 'anusāseyyan',\n",
       " 'anusāseyyaṃ',\n",
       " 'anusāseyyā',\n",
       " 'anusāsi',\n",
       " 'anusāsissati',\n",
       " 'anusāsissāma',\n",
       " 'anusāsitabbo',\n",
       " 'anusāsitunti',\n",
       " 'anusāsituṃ',\n",
       " 'anusāsitvā',\n",
       " 'anuttaro',\n",
       " 'anuvattissāma',\n",
       " 'anuvidhīyantu',\n",
       " 'anuyuttaṃ',\n",
       " 'anuyutto',\n",
       " 'anuññāto',\n",
       " 'anuññātosi',\n",
       " 'anuññātā',\n",
       " 'anvāgameti',\n",
       " 'anāgatamaddhānan',\n",
       " 'anāgatamaddhānanti',\n",
       " 'anāgataṃ',\n",
       " 'anāgāmino',\n",
       " 'anāpatti',\n",
       " 'anāropitadhanusatappamāṇaṃ',\n",
       " 'anāsavaṃ',\n",
       " 'anāsavā',\n",
       " 'anāthapiṇḍikassa',\n",
       " 'anāvattidhammā',\n",
       " 'apakkamma',\n",
       " 'apalokanakammaṃ',\n",
       " 'apaloketvā',\n",
       " 'apamārikāpi',\n",
       " 'apamāro',\n",
       " 'apanujja',\n",
       " 'aparapādesu',\n",
       " 'aparapādesūti',\n",
       " 'aparaṇṇaṃ',\n",
       " 'aparena',\n",
       " 'aparinibbutānaṃ',\n",
       " 'aparādhaṃ',\n",
       " 'aparāmasanaṃ',\n",
       " 'api',\n",
       " 'apicāhaṃ',\n",
       " 'appabhavanti',\n",
       " 'appabhavaṃ',\n",
       " 'appahonto',\n",
       " 'appalābhā',\n",
       " 'appamattakampi',\n",
       " 'appamattakopi',\n",
       " 'appamatto',\n",
       " 'appamādañca',\n",
       " 'appamāṇena',\n",
       " 'appasannānaṃ',\n",
       " 'appattañca',\n",
       " 'appaṃ',\n",
       " 'appaṭikūlo',\n",
       " 'appaṭikūlā',\n",
       " 'appaṭisandhikā',\n",
       " 'appekacce',\n",
       " 'appesakkhā',\n",
       " 'appicchā',\n",
       " 'appābādho',\n",
       " 'appātaṅko',\n",
       " 'apubbaṃ',\n",
       " 'apunappunanti',\n",
       " 'apunappunaṃ',\n",
       " 'apīḷetvā',\n",
       " 'arahanto',\n",
       " 'arahataṃ',\n",
       " 'arahato',\n",
       " 'arahattaṃ',\n",
       " 'arahatte',\n",
       " 'arati',\n",
       " 'araññaṃ',\n",
       " 'araññe',\n",
       " 'arindama',\n",
       " 'arindamo',\n",
       " 'arindamāti',\n",
       " 'ariyadhammassa',\n",
       " 'ariyadhamme',\n",
       " 'ariyasāvako',\n",
       " 'ariyo',\n",
       " 'ariyānaṃ',\n",
       " 'ariyāya',\n",
       " 'aruṇuggamanā',\n",
       " 'arīnaṃ',\n",
       " 'arūpaṭṭhāyino',\n",
       " 'asakkonto',\n",
       " 'asakkontā',\n",
       " 'asakyaputtiyo',\n",
       " 'asallakkhitattā',\n",
       " 'asambandhaṃ',\n",
       " 'asammatena',\n",
       " 'asammatā',\n",
       " 'asaniaggisadiso',\n",
       " 'asantaṃ',\n",
       " 'asantānaṃ',\n",
       " 'asatthena',\n",
       " 'asattheneva',\n",
       " 'asaññatosi',\n",
       " 'asaṃhiraṃ',\n",
       " 'asaṃhīraṃ',\n",
       " 'asaṃkuppaṃ',\n",
       " 'asaṃyogaparaṃ',\n",
       " 'asi',\n",
       " 'asicammaṃ',\n",
       " 'asimāvudhañca',\n",
       " 'askyaputtiyo',\n",
       " 'assa',\n",
       " 'assakānañca',\n",
       " 'assamaṇiyo',\n",
       " 'assamaṇo',\n",
       " 'assampi',\n",
       " 'assasatehi',\n",
       " 'assosuṃ',\n",
       " 'assutavā',\n",
       " 'assā',\n",
       " 'assādaṃ',\n",
       " 'assūni',\n",
       " 'asukaphalaṃ',\n",
       " 'asukaṃ',\n",
       " 'asurakāyā',\n",
       " 'asītisahassakapigaṇaparivuto',\n",
       " 'asītisahassavānarā',\n",
       " 'asītisahassānaṃ',\n",
       " 'asītivānarasahassehi',\n",
       " 'ataramānena',\n",
       " 'atha',\n",
       " 'athassa',\n",
       " 'athekadivasaṃ',\n",
       " 'atheko',\n",
       " 'atibāḷhaṃ',\n",
       " 'aticiraṃ',\n",
       " 'atikkamma',\n",
       " 'atikkammeva',\n",
       " 'atimāno',\n",
       " 'atirekalābho',\n",
       " 'atirekapādaṃ',\n",
       " 'atirocanti',\n",
       " 'atirocati',\n",
       " 'atisahasāpi',\n",
       " 'attabhāvaṃ',\n",
       " 'attamano',\n",
       " 'attamanā',\n",
       " 'attani',\n",
       " 'attano',\n",
       " 'attanā',\n",
       " 'attanāpi',\n",
       " 'attanāva',\n",
       " 'attato',\n",
       " 'atthaṃ',\n",
       " 'atthe',\n",
       " 'atthi',\n",
       " 'attho',\n",
       " 'atthānaṃ',\n",
       " 'atthāya',\n",
       " 'atthīti',\n",
       " 'attānaṃ',\n",
       " 'atītamaddhānan',\n",
       " 'atītaṃ',\n",
       " 'atītaṃse',\n",
       " 'atīte',\n",
       " 'avacuttha',\n",
       " 'avalekhanakaṭṭhampi',\n",
       " 'avalekhanakaṭṭhaṃ',\n",
       " 'avalekhanapidharo',\n",
       " 'avalekhanti',\n",
       " 'avalekhissanti',\n",
       " 'avalekhitabbaṃ',\n",
       " 'avamaññituṃ',\n",
       " 'avandi',\n",
       " 'avantīnaṃ',\n",
       " 'avasesasatte',\n",
       " 'avasesesu',\n",
       " 'avatvā',\n",
       " 'avañjhā',\n",
       " 'avaḷañje',\n",
       " 'averena',\n",
       " 'avidvā',\n",
       " 'avidūre',\n",
       " 'avinipātadhammā',\n",
       " 'avināsentena',\n",
       " 'avinīto',\n",
       " 'avipakkantā',\n",
       " 'avirodhappasaṃsīnaṃ',\n",
       " 'avissajjetvā',\n",
       " 'avisārī',\n",
       " 'avivaṭena',\n",
       " 'avoca',\n",
       " 'avāpuraṇaṃ',\n",
       " 'ayam',\n",
       " 'ayameva',\n",
       " 'ayampi',\n",
       " 'ayaṃ',\n",
       " 'ayyassa',\n",
       " 'ayyo',\n",
       " 'ayāci',\n",
       " 'añjaliṃ',\n",
       " 'aññamaññañca',\n",
       " 'aññasmi',\n",
       " 'aññasmiṃ',\n",
       " 'aññatarasmiṃ',\n",
       " 'aññatarassa',\n",
       " 'aññataraṃ',\n",
       " 'aññataro',\n",
       " 'aññatarā',\n",
       " 'aññathā',\n",
       " 'aññatra',\n",
       " 'aññattha',\n",
       " 'aññaṃ',\n",
       " 'aññe',\n",
       " 'aññena',\n",
       " 'aññenapi',\n",
       " 'aññepi',\n",
       " 'añño',\n",
       " 'aññāsi',\n",
       " 'aḍḍharattasamanantare',\n",
       " 'aḍḍharattasamaye',\n",
       " 'aḍḍhayogo',\n",
       " 'aṅgesu',\n",
       " 'aṅgulimāla',\n",
       " 'aṅgulimālassa',\n",
       " 'aṅgulimālasuttaṃ',\n",
       " 'aṅgulimālaṃ',\n",
       " 'aṅgulimālena',\n",
       " 'aṅgulimālo',\n",
       " 'aṅgulimāloti',\n",
       " 'aṅgulīnaṃ',\n",
       " 'aṅkusehi',\n",
       " 'aṇaṇo',\n",
       " 'aṇaṇosi',\n",
       " 'aṇṇavakucchiṃ',\n",
       " 'aṭṭakaṃ',\n",
       " 'aṭṭha',\n",
       " 'aṭṭhakathā',\n",
       " 'aṭṭhakathāyaṃ',\n",
       " 'aṭṭhamasikkhāpadaṃ',\n",
       " 'aṭṭhamā',\n",
       " 'aṭṭhapesi',\n",
       " 'aṭṭhapetvā',\n",
       " 'aṭṭhatvā',\n",
       " 'aṭṭhaṃsu',\n",
       " 'aṭṭhaṅgasamannāgato',\n",
       " 'aṭṭhaṅgiko',\n",
       " 'aṭṭhikāni',\n",
       " 'aṭṭhānaṃ',\n",
       " 'aṭṭhāsi',\n",
       " 'aṭṭīyāmi',\n",
       " 'bahalapatto',\n",
       " 'bahi',\n",
       " 'bahiddhā',\n",
       " 'bahiddhāpi',\n",
       " 'bahujanahitāya',\n",
       " 'bahujanasukhāya',\n",
       " 'bahukampi',\n",
       " 'bahukaraṇīyā',\n",
       " 'bahukiccā',\n",
       " 'bahuṃ',\n",
       " 'bahū',\n",
       " 'bahūni',\n",
       " 'bahūsu',\n",
       " 'bajjhantu',\n",
       " 'bajjhissati',\n",
       " 'bajjhitvā',\n",
       " 'balassa',\n",
       " 'balavavedanā',\n",
       " 'balavā',\n",
       " 'bandhakiniyo',\n",
       " 'bandhanaṭṭhānassa',\n",
       " 'bandhanaṭṭhānaṃ',\n",
       " 'bandhanā',\n",
       " 'bandhaṃ',\n",
       " 'bandhitvā',\n",
       " 'bandho',\n",
       " 'bandhoti',\n",
       " 'bandhāpetvā',\n",
       " 'bante',\n",
       " 'be',\n",
       " 'been',\n",
       " 'bhadante',\n",
       " 'bhaddasālajātake',\n",
       " 'bhaddekarattassa',\n",
       " 'bhaddekarattasuttaṃ',\n",
       " 'bhaddekarattoti',\n",
       " 'bhagavantaṃ',\n",
       " 'bhagavati',\n",
       " 'bhagavato',\n",
       " 'bhagavatā',\n",
       " 'bhagavā',\n",
       " 'bhagavāti',\n",
       " 'bhagini',\n",
       " 'bhajantu',\n",
       " 'bhajati',\n",
       " 'bhamaratanti',\n",
       " 'bhante',\n",
       " 'bharato',\n",
       " 'bhariyā',\n",
       " 'bhariyānaṃ',\n",
       " 'bhattukāmānaṃ',\n",
       " 'bhattā',\n",
       " 'bhattābhihārena',\n",
       " 'bhattābhihārenā',\n",
       " 'bhattāraṃ',\n",
       " 'bhavamatthu',\n",
       " 'bhavanetti',\n",
       " 'bhavantaṃ',\n",
       " 'bhavante',\n",
       " 'bhavantebhi',\n",
       " 'bhavanto',\n",
       " 'bhavantānaṃ',\n",
       " 'bhavantānaṃyeva',\n",
       " 'bhavaṃ',\n",
       " 'bhavetha',\n",
       " 'bhaveyyun',\n",
       " 'bhaveyyuṃ',\n",
       " 'bhaveyyātha',\n",
       " 'bhavissati',\n",
       " 'bhavissatī',\n",
       " 'bhavissatīti',\n",
       " 'bhavissāmi',\n",
       " 'bhavitabbanti',\n",
       " 'bhayan',\n",
       " 'bhayappatto',\n",
       " 'bhayatajjito',\n",
       " 'bhayaṃ',\n",
       " 'bhaṅgaṃ',\n",
       " 'bhaṭapathan',\n",
       " 'bhaṭapathaṃ',\n",
       " 'bhedā',\n",
       " 'bhijji',\n",
       " 'bhikkhave',\n",
       " 'bhikkhavo',\n",
       " 'bhikkhu',\n",
       " 'bhikkhubhāvoti',\n",
       " 'bhikkhuni',\n",
       " 'bhikkhuniyo',\n",
       " 'bhikkhuniyā',\n",
       " 'bhikkhuniṃ',\n",
       " 'bhikkhunupassayaṃ',\n",
       " 'bhikkhunā',\n",
       " 'bhikkhunī',\n",
       " 'bhikkhunīnaṃ',\n",
       " 'bhikkhunīsaṃyuttaṃ',\n",
       " 'bhikkhunīti',\n",
       " 'bhikkhunīvibhaṅgo',\n",
       " 'bhikkhunūpassayaṃ',\n",
       " 'bhikkhusatāni',\n",
       " 'bhikkhusaṅghopi',\n",
       " 'bhikkhuṃ',\n",
       " 'bhikkhū',\n",
       " 'bhikkhūhi',\n",
       " 'bhikkhūnaṃ',\n",
       " 'bhindanena',\n",
       " 'bhinditvā',\n",
       " 'bhinnena',\n",
       " 'bhinnā',\n",
       " 'bhiyyoso',\n",
       " 'bho',\n",
       " 'bhogakkhandhaṃ',\n",
       " 'bhojanaṃ',\n",
       " 'bhonto',\n",
       " 'bhoto',\n",
       " 'bhotī',\n",
       " 'bhotīnaṃ',\n",
       " 'bhujisso',\n",
       " 'bhujissosi',\n",
       " 'bhuñjassu',\n",
       " 'bhuñjitvā',\n",
       " 'bhuñjāmi',\n",
       " 'bhāgo',\n",
       " 'bhāradhā',\n",
       " 'bhāro',\n",
       " 'bhāsamānassa',\n",
       " 'bhāsamānānaṃ',\n",
       " 'bhāsantena',\n",
       " 'bhāsasi',\n",
       " 'bhāsato',\n",
       " 'bhāsatī',\n",
       " 'bhāseyya',\n",
       " 'bhāsissāmī',\n",
       " 'bhāsitaṃ',\n",
       " 'bhāsitā',\n",
       " 'bhāvanābalena',\n",
       " 'bhāyasi',\n",
       " 'bhāyi',\n",
       " 'bhāyittha',\n",
       " 'bhāyāmi',\n",
       " 'bhītaṃ',\n",
       " 'bhīto',\n",
       " 'bhītānaṃ',\n",
       " 'bhūmi',\n",
       " 'bhūmibhāge',\n",
       " 'bhūmipatiṃ',\n",
       " 'bhūmisenāpati',\n",
       " 'bhūmiyaṃ',\n",
       " 'bhūripaññassa',\n",
       " 'bhūtakālo',\n",
       " 'bhūtapubbaṃ',\n",
       " 'bhūtesu',\n",
       " 'bimbisāro',\n",
       " 'bindu',\n",
       " 'bkhikkhu',\n",
       " 'boddhabbaṃ',\n",
       " 'bodhisattassa',\n",
       " 'bodhisatto',\n",
       " 'brahmacariyapariyosānaṃ',\n",
       " 'brahmacariyaṃ',\n",
       " 'brahmacāriṃ',\n",
       " 'brahmadatte',\n",
       " 'brahmadatto',\n",
       " 'brahmalokan',\n",
       " 'brahmalokasahabyatāya',\n",
       " 'brahmalokaṃ',\n",
       " 'brahmaloke',\n",
       " 'brahmalokā',\n",
       " 'brahmalokūpapattiyā',\n",
       " 'brahmalokūpapattiyāti',\n",
       " 'brahmassaraṃ',\n",
       " 'brahmassaro',\n",
       " 'brahmaññaṃ',\n",
       " 'brahme',\n",
       " 'brahmuno',\n",
       " 'brahmunā',\n",
       " 'brahmā',\n",
       " 'brahmānaṃ',\n",
       " 'brahmāva',\n",
       " 'brāhmaṇa',\n",
       " 'brāhmaṇajātiko',\n",
       " 'brāhmaṇamahāsāle',\n",
       " 'brāhmaṇamahāsālā',\n",
       " 'brāhmaṇamahāsālādīnaṃ',\n",
       " 'brāhmaṇasahassāni',\n",
       " 'brāhmaṇassa',\n",
       " 'brāhmaṇaṃ',\n",
       " 'brāhmaṇe',\n",
       " 'brāhmaṇenā',\n",
       " 'brāhmaṇo',\n",
       " 'brāhmaṇā',\n",
       " 'brāhmaṇānaṃ',\n",
       " 'brūhi',\n",
       " 'brūsi',\n",
       " 'buddhaparisā',\n",
       " 'buddharakkhitassa',\n",
       " 'buddharakkhitassā',\n",
       " 'buddharakkhitatherassa',\n",
       " 'buddharakkhitattherassa',\n",
       " 'buddhassa',\n",
       " 'buddhasāsane',\n",
       " 'buddhaṃ',\n",
       " 'buddho',\n",
       " 'buddhāsanaṃ',\n",
       " 'buddhāsane',\n",
       " 'by',\n",
       " 'byattena',\n",
       " 'byañjanabuddhiyā',\n",
       " 'byañjananiruttiyā',\n",
       " 'byañjanesu',\n",
       " 'byañjanāni',\n",
       " 'byākarissāmi',\n",
       " 'byāpādavitakkaṃ',\n",
       " 'bāhaṃ',\n",
       " 'bāhuṃ',\n",
       " 'bālasūriyuggamanakālo',\n",
       " 'bāle',\n",
       " 'bālena',\n",
       " 'bālā',\n",
       " 'bārāṇasirañño',\n",
       " 'bārāṇasiyaṃ',\n",
       " 'bārāṇasiṃ',\n",
       " 'bārāṇasī',\n",
       " 'bījiyamānā',\n",
       " 'ca',\n",
       " 'caccararacchādiṭṭhānesu',\n",
       " 'cakkavattirañño',\n",
       " 'cakkhupathasmiṃ',\n",
       " 'cakkhuṃ',\n",
       " 'calakāni',\n",
       " 'campā',\n",
       " 'candimā',\n",
       " 'capucapukārakampi',\n",
       " 'capucapukārakaṃ',\n",
       " 'caramāno',\n",
       " 'carantā',\n",
       " 'carati',\n",
       " 'caratī',\n",
       " 'carissāma',\n",
       " 'carissāmi',\n",
       " 'caritabbaṃ',\n",
       " 'caritvā',\n",
       " 'caritvāna',\n",
       " 'cariyevā',\n",
       " 'cassa',\n",
       " 'catthi',\n",
       " 'cattāri',\n",
       " 'cattāro',\n",
       " 'cattāropi',\n",
       " 'cattārīsampi',\n",
       " 'cattārīsā',\n",
       " 'catubbidhaṃ',\n",
       " 'catuddisā',\n",
       " 'catukkhattuṃ',\n",
       " 'catunnaṃ',\n",
       " 'catutthaṃ',\n",
       " 'catūhi',\n",
       " 'catūsu',\n",
       " 'causing',\n",
       " 'cceva',\n",
       " 'cetasā',\n",
       " 'cetiyaṃ',\n",
       " 'cetoparivitakkamaññāya',\n",
       " 'cetovimuttiṃ',\n",
       " 'ceva',\n",
       " 'cha',\n",
       " 'chabbaggiyā',\n",
       " 'chabbassāni',\n",
       " 'chabbaṇṇaghanabuddharasmiyo',\n",
       " 'chambhitattaṃ',\n",
       " 'channaṃ',\n",
       " 'chasu',\n",
       " 'chattamattā',\n",
       " 'chaḍḍenti',\n",
       " 'chaḍḍentopi',\n",
       " 'chaḍḍentī',\n",
       " 'chaḍḍentīti',\n",
       " 'chaḍḍessanti',\n",
       " 'chaḍḍessantī',\n",
       " 'chaḍḍetabbaṃ',\n",
       " 'chaḍḍeti',\n",
       " 'chaḍḍeyya',\n",
       " 'chaḍḍeyyāti',\n",
       " 'chaḍḍitakhette',\n",
       " 'chaḍḍāpeti',\n",
       " 'chaḍḍāpeyya',\n",
       " 'chaḍḍāpeyyāti',\n",
       " 'chaṭṭhaṃ',\n",
       " 'chiddaṃ',\n",
       " 'chijjitvā',\n",
       " 'chinditvā',\n",
       " 'chinnabbhamiva',\n",
       " 'churikāya',\n",
       " 'chāyā',\n",
       " 'cintayitvā',\n",
       " 'cintento',\n",
       " 'cintesi',\n",
       " 'cirassaṃ',\n",
       " 'cirassāpi',\n",
       " 'ciraṃ',\n",
       " 'cirena',\n",
       " 'citakaṃ',\n",
       " 'cito',\n",
       " 'cittamhi',\n",
       " 'cittasmiṃ',\n",
       " 'cittaṃ',\n",
       " 'clean',\n",
       " 'clear',\n",
       " 'consent',\n",
       " 'contented',\n",
       " 'corassa',\n",
       " 'coro',\n",
       " 'corādīnaṃ',\n",
       " 'corānaṃ',\n",
       " 'cāpi',\n",
       " 'cārikaṃ',\n",
       " 'cāti',\n",
       " 'cātumahārājikānaṃ',\n",
       " 'cāvetukāmo',\n",
       " 'cīvaran',\n",
       " 'cīvarapiṇḍapātasenāsanagilānappaccayabhesajjaparikkhārehi',\n",
       " 'cīvarapiṇḍapātasenāsanagilānappaccayabhesajjaparikkhārānan',\n",
       " 'cīvararajjuyā',\n",
       " 'cīvaravaṃse',\n",
       " 'cīvaraṃ',\n",
       " 'cūḷavaggapāḷi',\n",
       " 'daharo',\n",
       " 'daharā',\n",
       " 'dakkhasi',\n",
       " 'dakkhiṇaṃ',\n",
       " 'dakkhiṇena',\n",
       " 'dakkhiṇābhimukho',\n",
       " 'dakkhiṇāya',\n",
       " 'damanato',\n",
       " 'damayanti',\n",
       " 'dametuṃ',\n",
       " 'dametā',\n",
       " 'dantakaṭṭhaṃ',\n",
       " 'dantapuraṃ',\n",
       " 'dantesu',\n",
       " 'danto',\n",
       " 'dantomhi',\n",
       " 'dasadhā',\n",
       " 'dasapi',\n",
       " 'dasasikkhapadāni',\n",
       " 'dasasu',\n",
       " 'dasavidhāya',\n",
       " 'dassanakāmo',\n",
       " 'dassesuṃ',\n",
       " 'dassāmī',\n",
       " 'dassāvī',\n",
       " 'datvā',\n",
       " 'daḷhaṃ',\n",
       " 'daḷhā',\n",
       " 'daṇḍadīpikahatthā',\n",
       " 'daṇḍaṃ',\n",
       " 'daṇḍenapi',\n",
       " 'daṇḍeneke',\n",
       " 'daṇḍo',\n",
       " 'daṭṭhakālo',\n",
       " 'desesi',\n",
       " 'desesiṃ',\n",
       " 'desessāmi',\n",
       " 'desessāmī',\n",
       " 'desetāraṃ',\n",
       " 'deseyyuṃ',\n",
       " 'desitamaggena',\n",
       " 'detha',\n",
       " 'deva',\n",
       " 'devadattassa',\n",
       " 'devadattaṃ',\n",
       " 'devadattena',\n",
       " 'devadatto',\n",
       " 'devadattopi',\n",
       " 'devamanussānan',\n",
       " 'devamanussānaṃ',\n",
       " 'devasabhā',\n",
       " 'devassa',\n",
       " 'devatāva',\n",
       " 'deve',\n",
       " 'devo',\n",
       " 'devā',\n",
       " 'devānaminda',\n",
       " 'devānamindaṃ',\n",
       " 'devānamindena',\n",
       " 'devānamindo',\n",
       " 'devānaṃ',\n",
       " 'devānubhāvaṃ',\n",
       " 'dhammabhaṇḍāgārikaṃ',\n",
       " 'dhammadesanaṃ',\n",
       " 'dhammakathaṃ',\n",
       " 'dhammamevādapayanti',\n",
       " 'dhammarakkhito',\n",
       " 'dhammasabhāyaṃ',\n",
       " 'dhammassa',\n",
       " 'dhammayuttaṃ',\n",
       " 'dhammañca',\n",
       " 'dhammaṃ',\n",
       " 'dhamme',\n",
       " 'dhammehi',\n",
       " 'dhammena',\n",
       " 'dhammesu',\n",
       " 'dhammikaṃ',\n",
       " 'dhammiṃ',\n",
       " 'dhammo',\n",
       " 'dhammānaṃ',\n",
       " 'dhammānudhammappaṭipannaṃ',\n",
       " 'dhammānudhammappaṭippannaṃ',\n",
       " 'dhanalobhena',\n",
       " 'dhanalolā',\n",
       " 'dhanaluddhā',\n",
       " 'dhanaṃ',\n",
       " 'dhanena',\n",
       " 'dhanitakaraṇaṃ',\n",
       " 'dhanitassa',\n",
       " 'dhanitañca',\n",
       " 'dhanitaṃ',\n",
       " 'dhanite',\n",
       " 'dhanuggahe',\n",
       " 'dhanuggahā',\n",
       " 'dhanukalāpaṃ',\n",
       " 'dhanusatamattaṃ',\n",
       " 'dhataraṭṭho',\n",
       " 'dhataraṭṭhā',\n",
       " 'dhovitabbā',\n",
       " 'dhovitvā',\n",
       " 'dhuttakānan',\n",
       " 'dhuttakānaṃ',\n",
       " 'dhārayāmī',\n",
       " 'dhārayāmīti',\n",
       " 'dhāreti',\n",
       " 'dhātupūjaṃ',\n",
       " 'dhātuṃ',\n",
       " 'dhāvantaṃ',\n",
       " 'dhāvitvā',\n",
       " 'dhīra',\n",
       " 'dibbagandharasāni',\n",
       " 'dibbaparisā',\n",
       " 'dibbā',\n",
       " 'disampati',\n",
       " 'disampatimhi',\n",
       " 'disampatinā',\n",
       " 'disampatissa',\n",
       " 'disampatiṃ',\n",
       " 'disaṃ',\n",
       " 'dissanti',\n",
       " 'disvā',\n",
       " 'disvāna',\n",
       " 'disvānassa',\n",
       " 'disvāpi',\n",
       " 'disā',\n",
       " 'disāya',\n",
       " 'divasabhāgo',\n",
       " 'divasaṃ',\n",
       " 'divassa',\n",
       " 'divasāni',\n",
       " 'divasānī',\n",
       " 'divā',\n",
       " 'divāvihāraṃ',\n",
       " 'divāvihārāya',\n",
       " 'diyyamānaṃ',\n",
       " 'diṭṭhadhammahitatthāya',\n",
       " 'diṭṭhadhammikaṃ',\n",
       " 'diṭṭhadhammikānaṃ',\n",
       " 'diṭṭheva',\n",
       " 'diṭṭhi',\n",
       " 'dn',\n",
       " 'domanassappatto',\n",
       " 'doso',\n",
       " 'dubbho',\n",
       " 'duggandhaṃ',\n",
       " 'duggatigāminaṃ',\n",
       " 'dukkaṭassa',\n",
       " 'dukkaṭassā',\n",
       " 'dukkaṭaṃ',\n",
       " 'dukkhassantaṃ',\n",
       " 'dukkhaṃ',\n",
       " 'dukkhī',\n",
       " 'dullabho',\n",
       " 'dummano',\n",
       " 'dummantitaṃ',\n",
       " 'dummedhino',\n",
       " 'duppaṇihitaṃ',\n",
       " 'durabhisambhavaṃ',\n",
       " 'duranusiṭṭhā',\n",
       " 'duruttaṃ',\n",
       " 'dussīlassa',\n",
       " 'dutiyacatutthaṃ',\n",
       " 'dutiyam',\n",
       " 'dutiyami',\n",
       " 'dutiyampi',\n",
       " 'dutiyatatiyānussāvanāsu',\n",
       " 'dutiyaṃ',\n",
       " 'dutiyā',\n",
       " 'duve',\n",
       " 'duveti',\n",
       " 'duṭṭhakapi',\n",
       " 'dvaṅgulapaññāya',\n",
       " 'dve',\n",
       " 'dvedhā',\n",
       " 'dvedhābbinā',\n",
       " 'dvikkhattuṃ',\n",
       " 'dvinnaṃ',\n",
       " 'dāni',\n",
       " 'dānādīni',\n",
       " 'dāpesi',\n",
       " 'dārukuṭṭo',\n",
       " 'dārupākāro',\n",
       " 'dāruṃ',\n",
       " 'dārūnaṃ',\n",
       " ...]"
      ]
     },
     "execution_count": 10,
     "metadata": {},
     "output_type": "execute_result"
    }
   ],
   "source": [
    "vocab"
   ]
  },
  {
   "cell_type": "code",
   "execution_count": 11,
   "metadata": {
    "collapsed": false
   },
   "outputs": [
    {
     "name": "stdout",
     "output_type": "stream",
     "text": [
      "Displaying 1 of 1 matches:\n",
      "me pubbe , yiṭṭhukāmassa me sato . ♦ aggi pajjalito āsi , kusapattaparitthato \n"
     ]
    }
   ],
   "source": [
    "text.concordance('aggi')"
   ]
  },
  {
   "cell_type": "code",
   "execution_count": 12,
   "metadata": {
    "collapsed": false
   },
   "outputs": [
    {
     "name": "stdout",
     "output_type": "stream",
     "text": [
      "Displaying 1 of 1 matches:\n",
      "me pubbe , yiṭṭhukāmassa me sato . ♦ aggi pajjalito āsi , kusapattaparitthato \n"
     ]
    },
    {
     "data": {
      "text/plain": [
       "NoneType"
      ]
     },
     "execution_count": 12,
     "metadata": {},
     "output_type": "execute_result"
    }
   ],
   "source": [
    "wc = text.concordance('aggi')\n",
    "type(wc)"
   ]
  },
  {
   "cell_type": "code",
   "execution_count": 13,
   "metadata": {
    "collapsed": false
   },
   "outputs": [
    {
     "ename": "TypeError",
     "evalue": "'NoneType' object is not iterable",
     "output_type": "error",
     "traceback": [
      "\u001b[0;31m---------------------------------------------------------------------------\u001b[0m",
      "\u001b[0;31mTypeError\u001b[0m                                 Traceback (most recent call last)",
      "\u001b[0;32m<ipython-input-13-bccf16e8a1c9>\u001b[0m in \u001b[0;36m<module>\u001b[0;34m()\u001b[0m\n\u001b[0;32m----> 1\u001b[0;31m \u001b[0;32mfor\u001b[0m \u001b[0mi\u001b[0m \u001b[0;32min\u001b[0m \u001b[0mwc\u001b[0m\u001b[0;34m:\u001b[0m\u001b[0;34m\u001b[0m\u001b[0m\n\u001b[0m\u001b[1;32m      2\u001b[0m     \u001b[0mprint\u001b[0m\u001b[0;34m(\u001b[0m\u001b[0mi\u001b[0m\u001b[0;34m)\u001b[0m\u001b[0;34m\u001b[0m\u001b[0m\n",
      "\u001b[0;31mTypeError\u001b[0m: 'NoneType' object is not iterable"
     ]
    }
   ],
   "source": [
    "for i in wc:\n",
    "    print(i)"
   ]
  },
  {
   "cell_type": "markdown",
   "metadata": {},
   "source": [
    "# Q: Iterable concordance list would be nice "
   ]
  },
  {
   "cell_type": "code",
   "execution_count": null,
   "metadata": {
    "collapsed": true
   },
   "outputs": [],
   "source": []
  },
  {
   "cell_type": "code",
   "execution_count": null,
   "metadata": {
    "collapsed": false
   },
   "outputs": [],
   "source": [
    "def occur(word):\n",
    "    return [sent for sent in sents if word in sent]\n",
    "\n",
    "import re\n",
    "def word_occur(word):\n",
    "    return [sent for sent in sents if re.search(r\"\\b\"+word+r\"\\b\" ,sent)]\n",
    "\n",
    "occur('aggi')"
   ]
  },
  {
   "cell_type": "code",
   "execution_count": null,
   "metadata": {
    "collapsed": false
   },
   "outputs": [],
   "source": [
    "word_occur('aggi')"
   ]
  },
  {
   "cell_type": "code",
   "execution_count": null,
   "metadata": {
    "collapsed": false
   },
   "outputs": [],
   "source": [
    "text.concordance('Taṃ') # The concordance method finds occurences regardless of capitalization"
   ]
  },
  {
   "cell_type": "code",
   "execution_count": null,
   "metadata": {
    "collapsed": false
   },
   "outputs": [],
   "source": [
    "len(occur('taṃ'))"
   ]
  },
  {
   "cell_type": "code",
   "execution_count": null,
   "metadata": {
    "collapsed": false
   },
   "outputs": [],
   "source": [
    "len(word_occur('taṃ'))"
   ]
  },
  {
   "cell_type": "markdown",
   "metadata": {},
   "source": [
    "# Q: concordance 85 vs regexp 76 ? (capitalization?)"
   ]
  },
  {
   "cell_type": "code",
   "execution_count": null,
   "metadata": {
    "collapsed": false
   },
   "outputs": [],
   "source": [
    "word_occur('taṃ')"
   ]
  },
  {
   "cell_type": "markdown",
   "metadata": {
    "collapsed": true
   },
   "source": [
    "# Letter Frequencies"
   ]
  },
  {
   "cell_type": "code",
   "execution_count": null,
   "metadata": {
    "collapsed": false
   },
   "outputs": [],
   "source": [
    "import matplotlib.pyplot as plt\n",
    "import matplotlib as mpl\n",
    "%matplotlib inline\n",
    "mpl.rcParams['font.family'] = 'Arial'\n",
    "\n",
    "raw[:100]"
   ]
  },
  {
   "cell_type": "code",
   "execution_count": null,
   "metadata": {
    "collapsed": false
   },
   "outputs": [],
   "source": [
    "# alpha only tokens\n",
    "alphatokens = [t for t in tokens if t.isalpha()]\n",
    "raw2 = ('').join(alphatokens)\n",
    "raw3 = [s.lower() for s in raw2]\n",
    "fd = nltk.FreqDist(raw3)\n",
    "fd.plot()\n",
    "fd.most_common(50)"
   ]
  },
  {
   "cell_type": "markdown",
   "metadata": {},
   "source": [
    "Note there is only one occurance of 'ś', which is strange. The occurance of 'f' and 'w' are from bracketed references pointing to variant readings probably.\n",
    "\n",
    "### Question: Should we remove content in brackets before processing? () {} []"
   ]
  },
  {
   "cell_type": "code",
   "execution_count": null,
   "metadata": {
    "collapsed": true
   },
   "outputs": [],
   "source": [
    "def make_string(file):\n",
    "    raw = ''\n",
    "    with open(file) as f:\n",
    "        for line in f:\n",
    "            raw += line\n",
    "    tokens = word_tokenize(raw)\n",
    "    alphatokens = [t for t in tokens if t.isalpha()]\n",
    "    raw2 = ('').join(alphatokens)\n",
    "    raw3 = [s.lower() for s in raw2]\n",
    "    return raw3\n",
    "\n",
    "cfd = nltk.ConditionalFreqDist(\n",
    "        (fileid, s)\n",
    "        for fileid in fileids\n",
    "        for s in make_string('../corpus/' + fileid)\n",
    ")\n",
    "cpd = nltk.ConditionalProbDist(cfd, nltk.MLEProbDist)"
   ]
  },
  {
   "cell_type": "code",
   "execution_count": null,
   "metadata": {
    "collapsed": false
   },
   "outputs": [],
   "source": [
    "pd1 = cpd[fileids[0]]\n",
    "pd1.samples()"
   ]
  },
  {
   "cell_type": "code",
   "execution_count": null,
   "metadata": {
    "collapsed": false
   },
   "outputs": [],
   "source": [
    "fd1 = nltk.FreqDist((s, pd1.prob(s)) for s in pd1.samples())\n",
    "fd1 = pd1.freqdist()\n",
    "fd1.plot()"
   ]
  },
  {
   "cell_type": "code",
   "execution_count": null,
   "metadata": {
    "collapsed": false
   },
   "outputs": [],
   "source": [
    "allfds = [cpd[fn].freqdist() for fn in fileids]\n",
    "unsorted_list = [(x, allfds[0].freq(x)) for x in allfds[0].keys()]\n",
    "sorted_list = sorted(unsorted_list)\n",
    "print(unsorted_list)\n",
    "xlabs, vals = zip(*sorted_list)\n",
    "nvals = len(xlabs)\n",
    "plt.plot(range(nvals), vals, label='Angulimala')\n",
    "plt.xticks(range(nvals), xlabs)\n",
    "plt.legend()"
   ]
  },
  {
   "cell_type": "code",
   "execution_count": null,
   "metadata": {
    "collapsed": false
   },
   "outputs": [],
   "source": [
    "allxlabs, allvals = [], []\n",
    "for fd in allfds:\n",
    "    arr = sorted([(x, fd.freq(x)) for x in fd.keys()])\n",
    "    xlabs, vals = zip(*arr)\n",
    "    allxlabs.append(xlabs)\n",
    "    allvals.append(vals)\n",
    "assert(allxlabs[0]==allxlabs[1] and allxlabs[1]==allxlabs[2])"
   ]
  },
  {
   "cell_type": "markdown",
   "metadata": {},
   "source": [
    "# Zipf's Law in Pāli\n",
    "\n",
    "Let `f(w)` be the frequency of a word w in free text. Suppose that all the words of a text are ranked according to their frequency, with the most frequent word first. Zipf's law states that the frequency of a word type is inversely proportional to its rank (i.e. `f × r = k`, for some constant `k`). For example, the 50th most common word type should occur three times as frequently as the 150th most common word type.\n",
    "\n",
    "Zipf's law hold empirically true for English, the larger the sample size the better the fit, but not for randomly generated texts using the English alphabet.\n",
    "\n",
    "The question is whether Zipf's law holds true for Pāli."
   ]
  },
  {
   "cell_type": "code",
   "execution_count": null,
   "metadata": {
    "collapsed": false
   },
   "outputs": [],
   "source": [
    "text"
   ]
  },
  {
   "cell_type": "code",
   "execution_count": null,
   "metadata": {
    "collapsed": false
   },
   "outputs": [],
   "source": [
    "fd = nltk.FreqDist(alphatokens)\n",
    "n = 100\n",
    "mc = fd.most_common(n)\n",
    "ranks = list(range(1,n+1))\n",
    "freqs = [x[1] for x in mc]\n",
    "freqstimesranks = [(i+1)**0.7*x for i, x in enumerate(freqs)]\n",
    "plt.plot(ranks, freqstimesranks)"
   ]
  },
  {
   "cell_type": "code",
   "execution_count": null,
   "metadata": {
    "collapsed": false
   },
   "outputs": [],
   "source": [
    "plt.loglog(ranks, freqs)"
   ]
  },
  {
   "cell_type": "code",
   "execution_count": 48,
   "metadata": {
    "collapsed": false
   },
   "outputs": [],
   "source": [
    "studylist= [pron1st, pron2nd, pron3rd, deic]"
   ]
  },
  {
   "cell_type": "code",
   "execution_count": 47,
   "metadata": {
    "collapsed": true
   },
   "outputs": [],
   "source": [
    "pron1st = [\"ahaṃ\", \"maṃ\", \"mayā\", \"me\", \"mama\", \"mayhaṃ\", \"mayi\", \"mad\", \n",
    "           \"mayaṃ\", \"amhe\", \"no\", \"amhehi\", \"amhākaṃ\", \"asmākaṃ\", \"amhesu\"]\n",
    "\n",
    "pron2nd = [\"tvaṃ\", \"tuvaṃ\", \"taṃ\", \"tayā\", \"tvayā\", \"tava\", \"tuyhaṃ\", \"te\", \"tayi\", \"tvayi\",\n",
    "          \"tumhe\", \"vo\", \"tumhehi\", \"tumhākaṃ\", \"tumhesu\"]\n",
    "\n",
    "pron3rd = [\"so\", \"sa\", \"ta\", \"tena\", \"tasmā\", \"tamhā\", \"tassa\", \"tasmiṃ\", \"tamhi\", 'tad',\n",
    "          'tehi', 'tesaṃ', 'tesu', \n",
    "          'sā', 'tāya', 'tassā', 'tissā', 'tāya', 'tassaṃ', 'tissaṃ', \n",
    "          'tā', 'tāyo', 'tāhi', 'tāsaṃ', 'tāsu',\n",
    "          'tāni']\n",
    "\n",
    "deic = ['ayaṃ', 'imaṃ', 'iminā', 'anena', 'imasmā', 'imamhā', 'asmā', 'imassa', 'assa', \n",
    "       'imasmiṃ', 'imamhi', 'asmiṃ', 'idaṃ',\n",
    "       'ime', 'imehi', 'imesaṃ', 'imesu', \n",
    "       'imāya', 'imissā', 'assā', 'imissaṃ', 'imāyaṃ',\n",
    "       'imā', 'imāhi', 'imāsaṃ', 'imāsu']"
   ]
  },
  {
   "cell_type": "code",
   "execution_count": 51,
   "metadata": {
    "collapsed": false
   },
   "outputs": [
    {
     "name": "stdout",
     "output_type": "stream",
     "text": [
      "Pretty printing has been turned OFF\n"
     ]
    },
    {
     "data": {
      "text/plain": [
       "['ahaṃ', 'maṃ', 'mayā', 'me', 'mama', 'mayhaṃ', 'mayi', 'mad', 'mayaṃ', 'amhe', 'no', 'amhehi', 'amhākaṃ', 'asmākaṃ', 'amhesu', 'tvaṃ', 'tuvaṃ', 'taṃ', 'tayā', 'tvayā', 'tava', 'tuyhaṃ', 'te', 'tayi', 'tvayi', 'tumhe', 'vo', 'tumhehi', 'tumhākaṃ', 'tumhesu', 'so', 'sa', 'ta', 'tena', 'tasmā', 'tamhā', 'tassa', 'tasmiṃ', 'tamhi', 'tad', 'tehi', 'tesaṃ', 'tesu', 'sā', 'tāya', 'tassā', 'tissā', 'tāya', 'tassaṃ', 'tissaṃ', 'tā', 'tāyo', 'tāhi', 'tāsaṃ', 'tāsu', 'tāni', 'ayaṃ', 'imaṃ', 'iminā', 'anena', 'imasmā', 'imamhā', 'asmā', 'imassa', 'assa', 'imasmiṃ', 'imamhi', 'asmiṃ', 'idaṃ', 'ime', 'imehi', 'imesaṃ', 'imesu', 'imāya', 'imissā', 'assā', 'imissaṃ', 'imāyaṃ', 'imā', 'imāhi', 'imāsaṃ', 'imāsu']"
      ]
     },
     "execution_count": 51,
     "metadata": {},
     "output_type": "execute_result"
    }
   ],
   "source": [
    "%pprint\n",
    "[element for list in studylist for element in list]"
   ]
  },
  {
   "cell_type": "code",
   "execution_count": 74,
   "metadata": {
    "collapsed": false
   },
   "outputs": [
    {
     "data": {
      "text/plain": [
       "\"01 Angulimala MN86.txt imasmiṃ 0\\n[]\\n02 Yodhajiva SN42.3.txt imasmiṃ 0\\n[]\\n03 Baddhekaratta MN131.txt imasmiṃ 0\\n[]\\n04 Mahagovinda DN19.txt imasmiṃ 0\\n[]\\n06 Kammavācā.txt imasmiṃ 0\\n[]\\n06 Upasampadaviddhi V.txt imasmiṃ 0\\n[]\\n07 Parivārapāḷi V482, 485.txt imasmiṃ 0\\n[]\\n08 Parivāra-aṭṭhakathā V484-5 linguistics.txt imasmiṃ 0\\n[]\\n09 Jataka 113 A.txt imasmiṃ 0\\n[]\\n09 Jataka 148 A.txt imasmiṃ 1\\n['so “laddhaṃ dāni me imasmiṃ sarīre mudu khāditabbayuttakaṭṭhānan”ti tato paṭṭhāya khādanto antokucchiṃ pavisitvā vakkahadayādīni khāditvā pipāsitakāle lohitaṃ pivitvā nipajjitukāmakāle udaraṃ pattharitvā nipajjati.']\\n09 Jataka 407 A.txt imasmiṃ 0\\n[]\\n10 Bhikkhunīsaṃyutta SN5.1-5.txt imasmiṃ 0\\n[]\\n11 Bhikkhuni pācittiya 8-9.txt imasmiṃ 2\\n['♦ 826. yā P.4.266 panāti yā yādisā ... pe ... bhikkhunīti ... pe ... ayaṃ imasmiṃ atthe adhippetā bhikkhunīti.', '♦ 830. yā panāti yā yādisā ... pe ... bhikkhunīti ... pe ... ayaṃ imasmiṃ atthe adhippetā bhikkhunīti.']\\n12 Vaccakuṭivatta V.txt imasmiṃ 0\\n[]\\n\""
      ]
     },
     "execution_count": 74,
     "metadata": {},
     "output_type": "execute_result"
    }
   ],
   "source": [
    "def show_example_sentences(word):\n",
    "    out = ''\n",
    "    for fileid in fileids:\n",
    "        f = open('../corpus/' + fileid)\n",
    "        raw = f.read()\n",
    "        sents = sent_tokenize(raw)\n",
    "        ex_sents = [s for s in sents if word in word_tokenize(s)]\n",
    "        out += fileid + \" \" + word + \" \" + str(len(ex_sents)) + \"\\n\" + str(ex_sents) + \"\\n\"\n",
    "        f.close()\n",
    "    return out\n",
    "   \n",
    "show_example_sentences(\"imasmiṃ\")"
   ]
  },
  {
   "cell_type": "code",
   "execution_count": 75,
   "metadata": {
    "collapsed": false
   },
   "outputs": [],
   "source": [
    "f = open(\"pronouns_with_examples.txt\", \"w\")\n",
    "[f.write(show_example_sentences(element)) for list in studylist for element in list]\n",
    "f.close()"
   ]
  },
  {
   "cell_type": "code",
   "execution_count": null,
   "metadata": {
    "collapsed": true
   },
   "outputs": [],
   "source": []
  },
  {
   "cell_type": "code",
   "execution_count": null,
   "metadata": {
    "collapsed": true
   },
   "outputs": [],
   "source": []
  },
  {
   "cell_type": "code",
   "execution_count": null,
   "metadata": {
    "collapsed": true
   },
   "outputs": [],
   "source": []
  }
 ],
 "metadata": {
  "kernelspec": {
   "display_name": "Python 3",
   "language": "python",
   "name": "python3"
  },
  "language_info": {
   "codemirror_mode": {
    "name": "ipython",
    "version": 3
   },
   "file_extension": ".py",
   "mimetype": "text/x-python",
   "name": "python",
   "nbconvert_exporter": "python",
   "pygments_lexer": "ipython3",
   "version": "3.5.1"
  }
 },
 "nbformat": 4,
 "nbformat_minor": 0
}
