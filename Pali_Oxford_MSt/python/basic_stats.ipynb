{
 "cells": [
  {
   "cell_type": "markdown",
   "metadata": {},
   "source": [
    "# Basic Statistics\n",
    "\n",
    "The corpus contains the following 12 files, which live in the `corpus` directory at https://github.com/ilonabudapesti/buddhism-nlp/tree/master/Pali_Oxford_MSt/corpus\n",
    "\n",
    "They are plain text files directly taken from the Digital Pali Reader which uses an electronic version of the CTS Edition."
   ]
  },
  {
   "cell_type": "code",
   "execution_count": 22,
   "metadata": {
    "collapsed": false
   },
   "outputs": [],
   "source": [
    "import nltk, os, re, pprint\n",
    "from nltk import word_tokenize, sent_tokenize\n",
    "\n",
    "fileids = os.listdir('../corpus')"
   ]
  },
  {
   "cell_type": "markdown",
   "metadata": {},
   "source": [
    "The 12 files are combined into one large string. The length of this string is 122,497 characters. "
   ]
  },
  {
   "cell_type": "code",
   "execution_count": 23,
   "metadata": {
    "collapsed": false
   },
   "outputs": [
    {
     "data": {
      "text/plain": [
       "122497"
      ]
     },
     "execution_count": 23,
     "metadata": {},
     "output_type": "execute_result"
    }
   ],
   "source": [
    "raw = ''\n",
    "c = open('corpus.txt','w')\n",
    "for fileid in fileids:\n",
    "    f = open('../corpus/' + fileid)\n",
    "    for line in f:\n",
    "        raw += line\n",
    "        c.write(line)\n",
    "c.close()\n",
    "len(raw)"
   ]
  },
  {
   "cell_type": "code",
   "execution_count": 25,
   "metadata": {
    "collapsed": false
   },
   "outputs": [
    {
     "data": {
      "text/plain": [
       "1474"
      ]
     },
     "execution_count": 25,
     "metadata": {},
     "output_type": "execute_result"
    }
   ],
   "source": [
    "sents = sent_tokenize(raw)\n",
    "len(sents)"
   ]
  },
  {
   "cell_type": "code",
   "execution_count": 26,
   "metadata": {
    "collapsed": false
   },
   "outputs": [
    {
     "data": {
      "text/plain": [
       "['atha kho, bho, mahāgovindassa brāhmaṇassa catunnaṃ māsānaṃ accayena ahudeva ukkaṇṭhanā ahu paritassanā — “sutaṃ kho pana metaṃ brāhmaṇānaṃ vuddhānaṃ mahallakānaṃ ācariyapācariyānaṃ bhāsamānānaṃ — ‘yo vassike cattāro māse paṭisallīyati, karuṇaṃ jhānaṃ jhāyati, so brahmānaṃ passati, brahmunā sākaccheti brahmunā sallapati brahmunā mantetī’ti.',\n",
       " 'na kho panāhaṃ brahmānaṃ passāmi, na brahmunā sākacchemi na brahmunā sallapāmi na brahmunā mantemī’”ti.',\n",
       " '♦  brahmunā sākacchā (DN 19)\\n\\n♦ 318.',\n",
       " '“atha V.2.176 kho, bho, brahmā sanaṅkumāro mahāgovindassa brāhmaṇassa cetasā cetoparivitakkamaññāya P.2.240 seyyathāpi nāma balavā puriso samiñjitaṃ vā bāhaṃ pasāreyya, pasāritaṃ vā bāhaṃ samiñjeyya, evameva, brahmaloke antarahito mahāgovindassa brāhmaṇassa sammukhe pāturahosi.',\n",
       " 'atha kho, bho, mahāgovindassa brāhmaṇassa ahudeva bhayaṃ ahu chambhitattaṃ ahu lomahaṃso yathā taṃ adiṭṭhapubbaṃ rūpaṃ disvā.']"
      ]
     },
     "execution_count": 26,
     "metadata": {},
     "output_type": "execute_result"
    }
   ],
   "source": [
    "sents[500:505]"
   ]
  },
  {
   "cell_type": "markdown",
   "metadata": {},
   "source": [
    "It would be more useful to know the number of words rather than number of characters in the corpus. Therefore we tokenize the raw string, which will split the string up into words taking empty space as the delimiting character. We sample a few element.\n",
    "\n",
    "Then we use NLTK's built in `Text` method to turn our list of tokens into an NLTK `Text` format. This gives us access to several built-in methods, such as `concordance`, which lists out the occurance of a specific token in the `Text`."
   ]
  },
  {
   "cell_type": "code",
   "execution_count": 4,
   "metadata": {
    "collapsed": false
   },
   "outputs": [
    {
     "data": {
      "text/plain": [
       "['pasupālakā',\n",
       " 'kassakā',\n",
       " 'pathāvino',\n",
       " 'bhagavantaṃ',\n",
       " 'yena',\n",
       " 'coro',\n",
       " 'aṅgulimālo',\n",
       " 'tenaddhānamaggapaṭipannaṃ',\n",
       " '.',\n",
       " 'disvāna']"
      ]
     },
     "execution_count": 4,
     "metadata": {},
     "output_type": "execute_result"
    }
   ],
   "source": [
    "tokens = word_tokenize(raw)\n",
    "tokens[100:110]"
   ]
  },
  {
   "cell_type": "code",
   "execution_count": 5,
   "metadata": {
    "collapsed": false
   },
   "outputs": [
    {
     "name": "stdout",
     "output_type": "stream",
     "text": [
      "Displaying 9 of 9 matches:\n",
      "āna bhagavantaṃ etadavocuṃ — “ mā , samaṇa , etaṃ maggaṃ paṭipajji . etasmiṃ ,\n",
      ", etaṃ maggaṃ paṭipajji . etasmiṃ , samaṇa , magge coro aṅgulimālo nāma luddo \n",
      " aṅgulīnaṃ mālaṃ dhāreti . etañhi , samaṇa , maggaṃ dasapi purisā vīsampi puri\n",
      "ino bhagavantaṃ etadavocuṃ — “ mā , samaṇa , etaṃ maggaṃ paṭipajji , etasmiṃ s\n",
      "a , etaṃ maggaṃ paṭipajji , etasmiṃ samaṇa magge coro aṅgulimālo nāma luddo lo\n",
      "vā aṅgulīnaṃ mālaṃ dhāreti . etañhi samaṇa maggaṃ dasapi purisā vīsampi purisā\n",
      "āya ajjhabhāsi — ♦ “ gacchaṃ vadesi samaṇa ṭhitomhi , ♦ mamañca brūsi ṭhitamaṭ\n",
      "si ṭhitamaṭṭhitoti . ♦ pucchāmi taṃ samaṇa etamatthaṃ , ♦ kathaṃ ṭhito tvaṃ ah\n",
      "oyaṃ paccupādi ( sī . ) , mahāvanaṃ samaṇa paccupādi ( syā . kaṃ . ) } . ♦ soh\n"
     ]
    }
   ],
   "source": [
    "text = nltk.Text(tokens)\n",
    "text.concordance('samaṇa')"
   ]
  },
  {
   "cell_type": "markdown",
   "metadata": {},
   "source": [
    "We can take a frequency distribution of the text, which will show us how frequently each token (also called *word-type*) occurs.\n",
    "\n",
    "We list the tokens in order of freqency. Punctuation such as ',' and '.' are most frequent appearing 1557 and 1377 times respectively. This is followed by 'ti', 'kho', 'na' 364, 278 and 203 occurrences each. Words which appear with high frequency but carry no semantic meaning are called *stop-words*. Examples of stop-words in English are 'and', 'the', 'it' and many pronouns.\n",
    "\n",
    "The first word in the frequency distribution with semantic meaning is 'bhante', which as a form of address falls within the frequency range of stop-words.\n",
    "\n",
    "Note that words from the Angulimala and Mahagovinda, both from the DN, will appear higher in the frequency distribution due to their texts being longer and therefore there is more chance for repetition."
   ]
  },
  {
   "cell_type": "code",
   "execution_count": 6,
   "metadata": {
    "collapsed": false
   },
   "outputs": [],
   "source": [
    "fd = nltk.FreqDist(text)\n",
    "fd.most_common()\n",
    "mc = open('most_common.txt','w')\n",
    "for token in fd.most_common():\n",
    "    mc.write(str(token[0] + \" \" + str(token[1]) + \"\\n\"))\n",
    "mc.close()"
   ]
  },
  {
   "cell_type": "code",
   "execution_count": 7,
   "metadata": {
    "collapsed": false
   },
   "outputs": [
    {
     "data": {
      "text/plain": [
       "19395"
      ]
     },
     "execution_count": 7,
     "metadata": {},
     "output_type": "execute_result"
    }
   ],
   "source": [
    "len(text) # number of tokens (words, including punctuation and references) in the corpus"
   ]
  },
  {
   "cell_type": "code",
   "execution_count": 8,
   "metadata": {
    "collapsed": false
   },
   "outputs": [
    {
     "data": {
      "text/plain": [
       "4052"
      ]
     },
     "execution_count": 8,
     "metadata": {},
     "output_type": "execute_result"
    }
   ],
   "source": [
    "# We remove punctuation and numbers, and count unique tokens.\n",
    "\n",
    "vocab = sorted(set([w.lower() for w in text if w.isalpha()]))\n",
    "len(vocab) \n",
    "\n",
    "# There are 4,052 unique word-types or tokens in the corpus"
   ]
  },
  {
   "cell_type": "markdown",
   "metadata": {},
   "source": [
    "A list of all tokens is below, ordered according to the Latin alphabet, with capital letters preceeding small caps.\n",
    "Note that words with different conjugations and declensions count as different tokens. \n",
    "To find out the unique number of head-words we will need to **lemmatize** or **stem** our vocabulary."
   ]
  },
  {
   "cell_type": "code",
   "execution_count": 9,
   "metadata": {
    "collapsed": false
   },
   "outputs": [
    {
     "data": {
      "text/plain": [
       "['abbhamiva',\n",
       " 'abbhantare',\n",
       " 'abbhañjāpetvā',\n",
       " 'abbhaññāsi',\n",
       " 'abbhokāsaṃ',\n",
       " 'abbhuggacchi',\n",
       " 'abbhuggantvā',\n",
       " 'abbhuggato',\n",
       " 'abbhuggañchi',\n",
       " 'abbhutaṃ',\n",
       " 'abbhā',\n",
       " 'abhabbo',\n",
       " 'abhikkantavaṇṇo',\n",
       " 'abhikkantaṃ',\n",
       " 'abhikkantāya',\n",
       " 'abhinanditvā',\n",
       " 'abhinandunti',\n",
       " 'abhinimanteyyāma',\n",
       " 'abhinimminitvā',\n",
       " 'abhinippanno',\n",
       " 'abhinipphanno',\n",
       " 'abhipatthitan',\n",
       " 'abhipatthitaṃ',\n",
       " 'abhiramatu',\n",
       " 'abhiramāmī',\n",
       " 'abhiramāmīti',\n",
       " 'abhiruyha',\n",
       " 'abhisambhosi',\n",
       " 'abhisambhoti',\n",
       " 'abhisaṅkhāresi',\n",
       " 'abhisaṅkhāsi',\n",
       " 'abhisitto',\n",
       " 'abhisiñceyyuṃ',\n",
       " 'abhisiñci',\n",
       " 'abhisiñcissāmī',\n",
       " 'abhisiñciṃsu',\n",
       " 'abhivādeti',\n",
       " 'abhivādetvā',\n",
       " 'abhivādeyyāma',\n",
       " 'abhiññā',\n",
       " 'abhiññāya',\n",
       " 'abhāsatha',\n",
       " 'abhāsi',\n",
       " 'abhāsittha',\n",
       " 'abhūtaṃ',\n",
       " 'abyattena',\n",
       " 'abyattā',\n",
       " 'abyāpajjena',\n",
       " 'acarimaṃ',\n",
       " 'accantaṃ',\n",
       " 'accayena',\n",
       " 'acchariyaṃ',\n",
       " 'acchādetvā',\n",
       " 'adantānaṃ',\n",
       " 'adassāvī',\n",
       " 'adatvā',\n",
       " 'adayāpanno',\n",
       " 'adaṇḍena',\n",
       " 'addasa',\n",
       " 'addasaṃ',\n",
       " 'addasā',\n",
       " 'addasāsuṃ',\n",
       " 'addhagato',\n",
       " 'addhamāsassa',\n",
       " 'addhamāsaṃ',\n",
       " 'addhamāso',\n",
       " 'addhā',\n",
       " 'adhikuṭṭanā',\n",
       " 'adhipatibhāvena',\n",
       " 'adhippetaṃ',\n",
       " 'adhippetā',\n",
       " 'adhivāsehi',\n",
       " 'adho',\n",
       " 'adhunābhisitto',\n",
       " 'adhunūpapannā',\n",
       " 'adinnaṃ',\n",
       " 'adinnādānā',\n",
       " 'adissamāno',\n",
       " 'adiṭṭhapubbaṃ',\n",
       " 'adiṭṭhaṃ',\n",
       " 'adj',\n",
       " 'adutiyo',\n",
       " 'adv',\n",
       " 'agamaṃsu',\n",
       " 'agamāsi',\n",
       " 'agantvā',\n",
       " 'agatigamanaṃ',\n",
       " 'agaṇetvā',\n",
       " 'aggahesinti',\n",
       " 'aggahiṃ',\n",
       " 'agghaṃ',\n",
       " 'agghe',\n",
       " 'aggi',\n",
       " 'aggiṃ',\n",
       " 'aguṇakathaṃ',\n",
       " 'agāmā',\n",
       " 'agārasmā',\n",
       " 'agāraṃ',\n",
       " 'aham',\n",
       " 'ahamayyassa',\n",
       " 'ahamaṭṭhitomhī',\n",
       " 'ahameva',\n",
       " 'ahampi',\n",
       " 'aharitasaññā',\n",
       " 'aharite',\n",
       " 'ahañca',\n",
       " 'ahañhi',\n",
       " 'ahaṃ',\n",
       " 'ahesuṃ',\n",
       " 'ahiṃsakoti',\n",
       " 'aho',\n",
       " 'ahorattamatanditaṃ',\n",
       " 'ahorattānaṃ',\n",
       " 'ahosi',\n",
       " 'ahosin',\n",
       " 'ahosinti',\n",
       " 'ahosiṃ',\n",
       " 'ahu',\n",
       " 'ahudeva',\n",
       " 'ahū',\n",
       " 'ajanapadā',\n",
       " 'ajja',\n",
       " 'ajjatagge',\n",
       " 'ajjeva',\n",
       " 'ajjhabhāsi',\n",
       " 'ajjhogāhetvā',\n",
       " 'ajjhāsayaṃ',\n",
       " 'ajjhāvasatā',\n",
       " 'ajjāhaṃ',\n",
       " 'ajānantā',\n",
       " 'akaraṇīyan',\n",
       " 'akaraṇīyaṃ',\n",
       " 'akaraṇīyāni',\n",
       " 'akatvā',\n",
       " 'akaṃsu',\n",
       " 'akaṅkhiṃ',\n",
       " 'akiri',\n",
       " 'akkamantā',\n",
       " 'akkamitvā',\n",
       " 'akkharaṃ',\n",
       " 'akkhare',\n",
       " 'akovido',\n",
       " 'akusalan',\n",
       " 'akusalanti',\n",
       " 'akusalavitakke',\n",
       " 'akāco',\n",
       " 'akāle',\n",
       " 'akāliko',\n",
       " 'akārādi',\n",
       " 'akāsī',\n",
       " 'alabhanto',\n",
       " 'alamatthadasataro',\n",
       " 'alattha',\n",
       " 'alaṃ',\n",
       " 'allīyituṃ',\n",
       " 'allīyiṃsu',\n",
       " 'amacce',\n",
       " 'amaccā',\n",
       " 'amaccānampi',\n",
       " 'amanussavaco',\n",
       " 'amanusso',\n",
       " 'amaraṇaṃ',\n",
       " 'amataṃ',\n",
       " 'ambapakkan',\n",
       " 'ambapakkaraso',\n",
       " 'ambapakkāni',\n",
       " 'ambarukkhaṃ',\n",
       " 'ambarukkho',\n",
       " 'ambasākhaṃ',\n",
       " 'ambho',\n",
       " 'ambāni',\n",
       " 'amhe',\n",
       " 'amhākampi',\n",
       " 'amhākaṃ',\n",
       " 'amoghā',\n",
       " 'amumhi',\n",
       " 'an',\n",
       " 'anabhisambhavanīyo',\n",
       " 'anagāriyan',\n",
       " 'anagāriyanti',\n",
       " 'anagāriyaṃ',\n",
       " 'ananusiṭṭhe',\n",
       " 'anavajjaṃ',\n",
       " 'anavakāso',\n",
       " 'anavasesetvā',\n",
       " 'anaṇo',\n",
       " 'andhakāro',\n",
       " 'andhavanaṃ',\n",
       " 'anekehi',\n",
       " 'anekāni',\n",
       " 'aniddāyanto',\n",
       " 'anigamā',\n",
       " 'aniggahetvā',\n",
       " 'anirāmagandhā',\n",
       " 'anokāse',\n",
       " 'antalikkhe',\n",
       " 'antamaso',\n",
       " 'antaradhāyi',\n",
       " 'antaradhāyāmi',\n",
       " 'antarahito',\n",
       " 'antaravāsako',\n",
       " 'antarāmagge',\n",
       " 'antarārayikehi',\n",
       " 'antarāyika',\n",
       " 'antarāyike',\n",
       " 'antarāyikehi',\n",
       " 'antepuradvāre',\n",
       " 'antmaso',\n",
       " 'anto',\n",
       " 'antogaṅgāya',\n",
       " 'antokammavācāya',\n",
       " 'antokoṭisanthāre',\n",
       " 'antokucchiyaṃ',\n",
       " 'antokucchiṃ',\n",
       " 'antonagareyeva',\n",
       " 'antorājadvāre',\n",
       " 'anubandhi',\n",
       " 'anujānāmi',\n",
       " 'anukampaṃ',\n",
       " 'anukkamantā',\n",
       " 'anukkamāgataṃ',\n",
       " 'anumodi',\n",
       " 'anumoditabbaṃ',\n",
       " 'anumoditvā',\n",
       " 'anumodāmi',\n",
       " 'anunāsikaṃ',\n",
       " 'anupabbajiṃsu',\n",
       " 'anupatitvā',\n",
       " 'anuppattā',\n",
       " 'anupubbena',\n",
       " 'anusiṭṭho',\n",
       " 'anussāvanakammaṃ',\n",
       " 'anussāvanato',\n",
       " 'anussāvanaṃ',\n",
       " 'anussāvento',\n",
       " 'anusāsakena',\n",
       " 'anusāsaniyā',\n",
       " 'anusāsanti',\n",
       " 'anusāsantova',\n",
       " 'anusāsati',\n",
       " 'anusāsatu',\n",
       " 'anusāseyya',\n",
       " 'anusāseyyan',\n",
       " 'anusāseyyaṃ',\n",
       " 'anusāseyyā',\n",
       " 'anusāsi',\n",
       " 'anusāsissati',\n",
       " 'anusāsissāma',\n",
       " 'anusāsitabbo',\n",
       " 'anusāsitunti',\n",
       " 'anusāsituṃ',\n",
       " 'anusāsitvā',\n",
       " 'anuttaro',\n",
       " 'anuvattissāma',\n",
       " 'anuvidhīyantu',\n",
       " 'anuyuttaṃ',\n",
       " 'anuyutto',\n",
       " 'anuññāto',\n",
       " 'anuññātosi',\n",
       " 'anuññātā',\n",
       " 'anvāgameti',\n",
       " 'anāgatamaddhānan',\n",
       " 'anāgatamaddhānanti',\n",
       " 'anāgataṃ',\n",
       " 'anāgāmino',\n",
       " 'anāpatti',\n",
       " 'anāropitadhanusatappamāṇaṃ',\n",
       " 'anāsavaṃ',\n",
       " 'anāsavā',\n",
       " 'anāthapiṇḍikassa',\n",
       " 'anāvattidhammā',\n",
       " 'apakkamma',\n",
       " 'apalokanakammaṃ',\n",
       " 'apaloketvā',\n",
       " 'apamārikāpi',\n",
       " 'apamāro',\n",
       " 'apanujja',\n",
       " 'aparapādesu',\n",
       " 'aparapādesūti',\n",
       " 'aparaṇṇaṃ',\n",
       " 'aparena',\n",
       " 'aparinibbutānaṃ',\n",
       " 'aparādhaṃ',\n",
       " 'aparāmasanaṃ',\n",
       " 'api',\n",
       " 'apicāhaṃ',\n",
       " 'appabhavanti',\n",
       " 'appabhavaṃ',\n",
       " 'appahonto',\n",
       " 'appalābhā',\n",
       " 'appamattakampi',\n",
       " 'appamattakopi',\n",
       " 'appamatto',\n",
       " 'appamādañca',\n",
       " 'appamāṇena',\n",
       " 'appasannānaṃ',\n",
       " 'appattañca',\n",
       " 'appaṃ',\n",
       " 'appaṭikūlo',\n",
       " 'appaṭikūlā',\n",
       " 'appaṭisandhikā',\n",
       " 'appekacce',\n",
       " 'appesakkhā',\n",
       " 'appicchā',\n",
       " 'appābādho',\n",
       " 'appātaṅko',\n",
       " 'apubbaṃ',\n",
       " 'apunappunanti',\n",
       " 'apunappunaṃ',\n",
       " 'apīḷetvā',\n",
       " 'arahanto',\n",
       " 'arahataṃ',\n",
       " 'arahato',\n",
       " 'arahattaṃ',\n",
       " 'arahatte',\n",
       " 'arati',\n",
       " 'araññaṃ',\n",
       " 'araññe',\n",
       " 'arindama',\n",
       " 'arindamo',\n",
       " 'arindamāti',\n",
       " 'ariyadhammassa',\n",
       " 'ariyadhamme',\n",
       " 'ariyasāvako',\n",
       " 'ariyo',\n",
       " 'ariyānaṃ',\n",
       " 'ariyāya',\n",
       " 'aruṇuggamanā',\n",
       " 'arīnaṃ',\n",
       " 'arūpaṭṭhāyino',\n",
       " 'asakkonto',\n",
       " 'asakkontā',\n",
       " 'asakyaputtiyo',\n",
       " 'asallakkhitattā',\n",
       " 'asambandhaṃ',\n",
       " 'asammatena',\n",
       " 'asammatā',\n",
       " 'asaniaggisadiso',\n",
       " 'asantaṃ',\n",
       " 'asantānaṃ',\n",
       " 'asatthena',\n",
       " 'asattheneva',\n",
       " 'asaññatosi',\n",
       " 'asaṃhiraṃ',\n",
       " 'asaṃhīraṃ',\n",
       " 'asaṃkuppaṃ',\n",
       " 'asaṃyogaparaṃ',\n",
       " 'asi',\n",
       " 'asicammaṃ',\n",
       " 'asimāvudhañca',\n",
       " 'askyaputtiyo',\n",
       " 'assa',\n",
       " 'assakānañca',\n",
       " 'assamaṇiyo',\n",
       " 'assamaṇo',\n",
       " 'assampi',\n",
       " 'assasatehi',\n",
       " 'assosuṃ',\n",
       " 'assutavā',\n",
       " 'assā',\n",
       " 'assādaṃ',\n",
       " 'assūni',\n",
       " 'asukaphalaṃ',\n",
       " 'asukaṃ',\n",
       " 'asurakāyā',\n",
       " 'asītisahassakapigaṇaparivuto',\n",
       " 'asītisahassavānarā',\n",
       " 'asītisahassānaṃ',\n",
       " 'asītivānarasahassehi',\n",
       " 'ataramānena',\n",
       " 'atha',\n",
       " 'athassa',\n",
       " 'athekadivasaṃ',\n",
       " 'atheko',\n",
       " 'atibāḷhaṃ',\n",
       " 'aticiraṃ',\n",
       " 'atikkamma',\n",
       " 'atikkammeva',\n",
       " 'atimāno',\n",
       " 'atirekalābho',\n",
       " 'atirekapādaṃ',\n",
       " 'atirocanti',\n",
       " 'atirocati',\n",
       " 'atisahasāpi',\n",
       " 'attabhāvaṃ',\n",
       " 'attamano',\n",
       " 'attamanā',\n",
       " 'attani',\n",
       " 'attano',\n",
       " 'attanā',\n",
       " 'attanāpi',\n",
       " 'attanāva',\n",
       " 'attato',\n",
       " 'atthaṃ',\n",
       " 'atthe',\n",
       " 'atthi',\n",
       " 'attho',\n",
       " 'atthānaṃ',\n",
       " 'atthāya',\n",
       " 'atthīti',\n",
       " 'attānaṃ',\n",
       " 'atītamaddhānan',\n",
       " 'atītaṃ',\n",
       " 'atītaṃse',\n",
       " 'atīte',\n",
       " 'avacuttha',\n",
       " 'avalekhanakaṭṭhampi',\n",
       " 'avalekhanakaṭṭhaṃ',\n",
       " 'avalekhanapidharo',\n",
       " 'avalekhanti',\n",
       " 'avalekhissanti',\n",
       " 'avalekhitabbaṃ',\n",
       " 'avamaññituṃ',\n",
       " 'avandi',\n",
       " 'avantīnaṃ',\n",
       " 'avasesasatte',\n",
       " 'avasesesu',\n",
       " 'avatvā',\n",
       " 'avañjhā',\n",
       " 'avaḷañje',\n",
       " 'averena',\n",
       " 'avidvā',\n",
       " 'avidūre',\n",
       " 'avinipātadhammā',\n",
       " 'avināsentena',\n",
       " 'avinīto',\n",
       " 'avipakkantā',\n",
       " 'avirodhappasaṃsīnaṃ',\n",
       " 'avissajjetvā',\n",
       " 'avisārī',\n",
       " 'avivaṭena',\n",
       " 'avoca',\n",
       " 'avāpuraṇaṃ',\n",
       " 'ayam',\n",
       " 'ayameva',\n",
       " 'ayampi',\n",
       " 'ayaṃ',\n",
       " 'ayyassa',\n",
       " 'ayyo',\n",
       " 'ayāci',\n",
       " 'añjaliṃ',\n",
       " 'aññamaññañca',\n",
       " 'aññasmi',\n",
       " 'aññasmiṃ',\n",
       " 'aññatarasmiṃ',\n",
       " 'aññatarassa',\n",
       " 'aññataraṃ',\n",
       " 'aññataro',\n",
       " 'aññatarā',\n",
       " 'aññathā',\n",
       " 'aññatra',\n",
       " 'aññattha',\n",
       " 'aññaṃ',\n",
       " 'aññe',\n",
       " 'aññena',\n",
       " 'aññenapi',\n",
       " 'aññepi',\n",
       " 'añño',\n",
       " 'aññāsi',\n",
       " 'aḍḍharattasamanantare',\n",
       " 'aḍḍharattasamaye',\n",
       " 'aḍḍhayogo',\n",
       " 'aṅgesu',\n",
       " 'aṅgulimāla',\n",
       " 'aṅgulimālassa',\n",
       " 'aṅgulimālasuttaṃ',\n",
       " 'aṅgulimālaṃ',\n",
       " 'aṅgulimālena',\n",
       " 'aṅgulimālo',\n",
       " 'aṅgulimāloti',\n",
       " 'aṅgulīnaṃ',\n",
       " 'aṅkusehi',\n",
       " 'aṇaṇo',\n",
       " 'aṇaṇosi',\n",
       " 'aṇṇavakucchiṃ',\n",
       " 'aṭṭakaṃ',\n",
       " 'aṭṭha',\n",
       " 'aṭṭhakathā',\n",
       " 'aṭṭhakathāyaṃ',\n",
       " 'aṭṭhamasikkhāpadaṃ',\n",
       " 'aṭṭhamā',\n",
       " 'aṭṭhapesi',\n",
       " 'aṭṭhapetvā',\n",
       " 'aṭṭhatvā',\n",
       " 'aṭṭhaṃsu',\n",
       " 'aṭṭhaṅgasamannāgato',\n",
       " 'aṭṭhaṅgiko',\n",
       " 'aṭṭhikāni',\n",
       " 'aṭṭhānaṃ',\n",
       " 'aṭṭhāsi',\n",
       " 'aṭṭīyāmi',\n",
       " 'bahalapatto',\n",
       " 'bahi',\n",
       " 'bahiddhā',\n",
       " 'bahiddhāpi',\n",
       " 'bahujanahitāya',\n",
       " 'bahujanasukhāya',\n",
       " 'bahukampi',\n",
       " 'bahukaraṇīyā',\n",
       " 'bahukiccā',\n",
       " 'bahuṃ',\n",
       " 'bahū',\n",
       " 'bahūni',\n",
       " 'bahūsu',\n",
       " 'bajjhantu',\n",
       " 'bajjhissati',\n",
       " 'bajjhitvā',\n",
       " 'balassa',\n",
       " 'balavavedanā',\n",
       " 'balavā',\n",
       " 'bandhakiniyo',\n",
       " 'bandhanaṭṭhānassa',\n",
       " 'bandhanaṭṭhānaṃ',\n",
       " 'bandhanā',\n",
       " 'bandhaṃ',\n",
       " 'bandhitvā',\n",
       " 'bandho',\n",
       " 'bandhoti',\n",
       " 'bandhāpetvā',\n",
       " 'bante',\n",
       " 'be',\n",
       " 'been',\n",
       " 'bhadante',\n",
       " 'bhaddasālajātake',\n",
       " 'bhaddekarattassa',\n",
       " 'bhaddekarattasuttaṃ',\n",
       " 'bhaddekarattoti',\n",
       " 'bhagavantaṃ',\n",
       " 'bhagavati',\n",
       " 'bhagavato',\n",
       " 'bhagavatā',\n",
       " 'bhagavā',\n",
       " 'bhagavāti',\n",
       " 'bhagini',\n",
       " 'bhajantu',\n",
       " 'bhajati',\n",
       " 'bhamaratanti',\n",
       " 'bhante',\n",
       " 'bharato',\n",
       " 'bhariyā',\n",
       " 'bhariyānaṃ',\n",
       " 'bhattukāmānaṃ',\n",
       " 'bhattā',\n",
       " 'bhattābhihārena',\n",
       " 'bhattābhihārenā',\n",
       " 'bhattāraṃ',\n",
       " 'bhavamatthu',\n",
       " 'bhavanetti',\n",
       " 'bhavantaṃ',\n",
       " 'bhavante',\n",
       " 'bhavantebhi',\n",
       " 'bhavanto',\n",
       " 'bhavantānaṃ',\n",
       " 'bhavantānaṃyeva',\n",
       " 'bhavaṃ',\n",
       " 'bhavetha',\n",
       " 'bhaveyyun',\n",
       " 'bhaveyyuṃ',\n",
       " 'bhaveyyātha',\n",
       " 'bhavissati',\n",
       " 'bhavissatī',\n",
       " 'bhavissatīti',\n",
       " 'bhavissāmi',\n",
       " 'bhavitabbanti',\n",
       " 'bhayan',\n",
       " 'bhayappatto',\n",
       " 'bhayatajjito',\n",
       " 'bhayaṃ',\n",
       " 'bhaṅgaṃ',\n",
       " 'bhaṭapathan',\n",
       " 'bhaṭapathaṃ',\n",
       " 'bhedā',\n",
       " 'bhijji',\n",
       " 'bhikkhave',\n",
       " 'bhikkhavo',\n",
       " 'bhikkhu',\n",
       " 'bhikkhubhāvoti',\n",
       " 'bhikkhuni',\n",
       " 'bhikkhuniyo',\n",
       " 'bhikkhuniyā',\n",
       " 'bhikkhuniṃ',\n",
       " 'bhikkhunupassayaṃ',\n",
       " 'bhikkhunā',\n",
       " 'bhikkhunī',\n",
       " 'bhikkhunīnaṃ',\n",
       " 'bhikkhunīsaṃyuttaṃ',\n",
       " 'bhikkhunīti',\n",
       " 'bhikkhunīvibhaṅgo',\n",
       " 'bhikkhunūpassayaṃ',\n",
       " 'bhikkhusatāni',\n",
       " 'bhikkhusaṅghopi',\n",
       " 'bhikkhuṃ',\n",
       " 'bhikkhū',\n",
       " 'bhikkhūhi',\n",
       " 'bhikkhūnaṃ',\n",
       " 'bhindanena',\n",
       " 'bhinditvā',\n",
       " 'bhinnena',\n",
       " 'bhinnā',\n",
       " 'bhiyyoso',\n",
       " 'bho',\n",
       " 'bhogakkhandhaṃ',\n",
       " 'bhojanaṃ',\n",
       " 'bhonto',\n",
       " 'bhoto',\n",
       " 'bhotī',\n",
       " 'bhotīnaṃ',\n",
       " 'bhujisso',\n",
       " 'bhujissosi',\n",
       " 'bhuñjassu',\n",
       " 'bhuñjitvā',\n",
       " 'bhuñjāmi',\n",
       " 'bhāgo',\n",
       " 'bhāradhā',\n",
       " 'bhāro',\n",
       " 'bhāsamānassa',\n",
       " 'bhāsamānānaṃ',\n",
       " 'bhāsantena',\n",
       " 'bhāsasi',\n",
       " 'bhāsato',\n",
       " 'bhāsatī',\n",
       " 'bhāseyya',\n",
       " 'bhāsissāmī',\n",
       " 'bhāsitaṃ',\n",
       " 'bhāsitā',\n",
       " 'bhāvanābalena',\n",
       " 'bhāyasi',\n",
       " 'bhāyi',\n",
       " 'bhāyittha',\n",
       " 'bhāyāmi',\n",
       " 'bhītaṃ',\n",
       " 'bhīto',\n",
       " 'bhītānaṃ',\n",
       " 'bhūmi',\n",
       " 'bhūmibhāge',\n",
       " 'bhūmipatiṃ',\n",
       " 'bhūmisenāpati',\n",
       " 'bhūmiyaṃ',\n",
       " 'bhūripaññassa',\n",
       " 'bhūtakālo',\n",
       " 'bhūtapubbaṃ',\n",
       " 'bhūtesu',\n",
       " 'bimbisāro',\n",
       " 'bindu',\n",
       " 'bkhikkhu',\n",
       " 'boddhabbaṃ',\n",
       " 'bodhisattassa',\n",
       " 'bodhisatto',\n",
       " 'brahmacariyapariyosānaṃ',\n",
       " 'brahmacariyaṃ',\n",
       " 'brahmacāriṃ',\n",
       " 'brahmadatte',\n",
       " 'brahmadatto',\n",
       " 'brahmalokan',\n",
       " 'brahmalokasahabyatāya',\n",
       " 'brahmalokaṃ',\n",
       " 'brahmaloke',\n",
       " 'brahmalokā',\n",
       " 'brahmalokūpapattiyā',\n",
       " 'brahmalokūpapattiyāti',\n",
       " 'brahmassaraṃ',\n",
       " 'brahmassaro',\n",
       " 'brahmaññaṃ',\n",
       " 'brahme',\n",
       " 'brahmuno',\n",
       " 'brahmunā',\n",
       " 'brahmā',\n",
       " 'brahmānaṃ',\n",
       " 'brahmāva',\n",
       " 'brāhmaṇa',\n",
       " 'brāhmaṇajātiko',\n",
       " 'brāhmaṇamahāsāle',\n",
       " 'brāhmaṇamahāsālā',\n",
       " 'brāhmaṇamahāsālādīnaṃ',\n",
       " 'brāhmaṇasahassāni',\n",
       " 'brāhmaṇassa',\n",
       " 'brāhmaṇaṃ',\n",
       " 'brāhmaṇe',\n",
       " 'brāhmaṇenā',\n",
       " 'brāhmaṇo',\n",
       " 'brāhmaṇā',\n",
       " 'brāhmaṇānaṃ',\n",
       " 'brūhi',\n",
       " 'brūsi',\n",
       " 'buddhaparisā',\n",
       " 'buddharakkhitassa',\n",
       " 'buddharakkhitassā',\n",
       " 'buddharakkhitatherassa',\n",
       " 'buddharakkhitattherassa',\n",
       " 'buddhassa',\n",
       " 'buddhasāsane',\n",
       " 'buddhaṃ',\n",
       " 'buddho',\n",
       " 'buddhāsanaṃ',\n",
       " 'buddhāsane',\n",
       " 'by',\n",
       " 'byattena',\n",
       " 'byañjanabuddhiyā',\n",
       " 'byañjananiruttiyā',\n",
       " 'byañjanesu',\n",
       " 'byañjanāni',\n",
       " 'byākarissāmi',\n",
       " 'byāpādavitakkaṃ',\n",
       " 'bāhaṃ',\n",
       " 'bāhuṃ',\n",
       " 'bālasūriyuggamanakālo',\n",
       " 'bāle',\n",
       " 'bālena',\n",
       " 'bālā',\n",
       " 'bārāṇasirañño',\n",
       " 'bārāṇasiyaṃ',\n",
       " 'bārāṇasiṃ',\n",
       " 'bārāṇasī',\n",
       " 'bījiyamānā',\n",
       " 'ca',\n",
       " 'caccararacchādiṭṭhānesu',\n",
       " 'cakkavattirañño',\n",
       " 'cakkhupathasmiṃ',\n",
       " 'cakkhuṃ',\n",
       " 'calakāni',\n",
       " 'campā',\n",
       " 'candimā',\n",
       " 'capucapukārakampi',\n",
       " 'capucapukārakaṃ',\n",
       " 'caramāno',\n",
       " 'carantā',\n",
       " 'carati',\n",
       " 'caratī',\n",
       " 'carissāma',\n",
       " 'carissāmi',\n",
       " 'caritabbaṃ',\n",
       " 'caritvā',\n",
       " 'caritvāna',\n",
       " 'cariyevā',\n",
       " 'cassa',\n",
       " 'catthi',\n",
       " 'cattāri',\n",
       " 'cattāro',\n",
       " 'cattāropi',\n",
       " 'cattārīsampi',\n",
       " 'cattārīsā',\n",
       " 'catubbidhaṃ',\n",
       " 'catuddisā',\n",
       " 'catukkhattuṃ',\n",
       " 'catunnaṃ',\n",
       " 'catutthaṃ',\n",
       " 'catūhi',\n",
       " 'catūsu',\n",
       " 'causing',\n",
       " 'cceva',\n",
       " 'cetasā',\n",
       " 'cetiyaṃ',\n",
       " 'cetoparivitakkamaññāya',\n",
       " 'cetovimuttiṃ',\n",
       " 'ceva',\n",
       " 'cha',\n",
       " 'chabbaggiyā',\n",
       " 'chabbassāni',\n",
       " 'chabbaṇṇaghanabuddharasmiyo',\n",
       " 'chambhitattaṃ',\n",
       " 'channaṃ',\n",
       " 'chasu',\n",
       " 'chattamattā',\n",
       " 'chaḍḍenti',\n",
       " 'chaḍḍentopi',\n",
       " 'chaḍḍentī',\n",
       " 'chaḍḍentīti',\n",
       " 'chaḍḍessanti',\n",
       " 'chaḍḍessantī',\n",
       " 'chaḍḍetabbaṃ',\n",
       " 'chaḍḍeti',\n",
       " 'chaḍḍeyya',\n",
       " 'chaḍḍeyyāti',\n",
       " 'chaḍḍitakhette',\n",
       " 'chaḍḍāpeti',\n",
       " 'chaḍḍāpeyya',\n",
       " 'chaḍḍāpeyyāti',\n",
       " 'chaṭṭhaṃ',\n",
       " 'chiddaṃ',\n",
       " 'chijjitvā',\n",
       " 'chinditvā',\n",
       " 'chinnabbhamiva',\n",
       " 'churikāya',\n",
       " 'chāyā',\n",
       " 'cintayitvā',\n",
       " 'cintento',\n",
       " 'cintesi',\n",
       " 'cirassaṃ',\n",
       " 'cirassāpi',\n",
       " 'ciraṃ',\n",
       " 'cirena',\n",
       " 'citakaṃ',\n",
       " 'cito',\n",
       " 'cittamhi',\n",
       " 'cittasmiṃ',\n",
       " 'cittaṃ',\n",
       " 'clean',\n",
       " 'clear',\n",
       " 'consent',\n",
       " 'contented',\n",
       " 'corassa',\n",
       " 'coro',\n",
       " 'corādīnaṃ',\n",
       " 'corānaṃ',\n",
       " 'cāpi',\n",
       " 'cārikaṃ',\n",
       " 'cāti',\n",
       " 'cātumahārājikānaṃ',\n",
       " 'cāvetukāmo',\n",
       " 'cīvaran',\n",
       " 'cīvarapiṇḍapātasenāsanagilānappaccayabhesajjaparikkhārehi',\n",
       " 'cīvarapiṇḍapātasenāsanagilānappaccayabhesajjaparikkhārānan',\n",
       " 'cīvararajjuyā',\n",
       " 'cīvaravaṃse',\n",
       " 'cīvaraṃ',\n",
       " 'cūḷavaggapāḷi',\n",
       " 'daharo',\n",
       " 'daharā',\n",
       " 'dakkhasi',\n",
       " 'dakkhiṇaṃ',\n",
       " 'dakkhiṇena',\n",
       " 'dakkhiṇābhimukho',\n",
       " 'dakkhiṇāya',\n",
       " 'damanato',\n",
       " 'damayanti',\n",
       " 'dametuṃ',\n",
       " 'dametā',\n",
       " 'dantakaṭṭhaṃ',\n",
       " 'dantapuraṃ',\n",
       " 'dantesu',\n",
       " 'danto',\n",
       " 'dantomhi',\n",
       " 'dasadhā',\n",
       " 'dasapi',\n",
       " 'dasasikkhapadāni',\n",
       " 'dasasu',\n",
       " 'dasavidhāya',\n",
       " 'dassanakāmo',\n",
       " 'dassesuṃ',\n",
       " 'dassāmī',\n",
       " 'dassāvī',\n",
       " 'datvā',\n",
       " 'daḷhaṃ',\n",
       " 'daḷhā',\n",
       " 'daṇḍadīpikahatthā',\n",
       " 'daṇḍaṃ',\n",
       " 'daṇḍenapi',\n",
       " 'daṇḍeneke',\n",
       " 'daṇḍo',\n",
       " 'daṭṭhakālo',\n",
       " 'desesi',\n",
       " 'desesiṃ',\n",
       " 'desessāmi',\n",
       " 'desessāmī',\n",
       " 'desetāraṃ',\n",
       " 'deseyyuṃ',\n",
       " 'desitamaggena',\n",
       " 'detha',\n",
       " 'deva',\n",
       " 'devadattassa',\n",
       " 'devadattaṃ',\n",
       " 'devadattena',\n",
       " 'devadatto',\n",
       " 'devadattopi',\n",
       " 'devamanussānan',\n",
       " 'devamanussānaṃ',\n",
       " 'devasabhā',\n",
       " 'devassa',\n",
       " 'devatāva',\n",
       " 'deve',\n",
       " 'devo',\n",
       " 'devā',\n",
       " 'devānaminda',\n",
       " 'devānamindaṃ',\n",
       " 'devānamindena',\n",
       " 'devānamindo',\n",
       " 'devānaṃ',\n",
       " 'devānubhāvaṃ',\n",
       " 'dhammabhaṇḍāgārikaṃ',\n",
       " 'dhammadesanaṃ',\n",
       " 'dhammakathaṃ',\n",
       " 'dhammamevādapayanti',\n",
       " 'dhammarakkhito',\n",
       " 'dhammasabhāyaṃ',\n",
       " 'dhammassa',\n",
       " 'dhammayuttaṃ',\n",
       " 'dhammañca',\n",
       " 'dhammaṃ',\n",
       " 'dhamme',\n",
       " 'dhammehi',\n",
       " 'dhammena',\n",
       " 'dhammesu',\n",
       " 'dhammikaṃ',\n",
       " 'dhammiṃ',\n",
       " 'dhammo',\n",
       " 'dhammānaṃ',\n",
       " 'dhammānudhammappaṭipannaṃ',\n",
       " 'dhammānudhammappaṭippannaṃ',\n",
       " 'dhanalobhena',\n",
       " 'dhanalolā',\n",
       " 'dhanaluddhā',\n",
       " 'dhanaṃ',\n",
       " 'dhanena',\n",
       " 'dhanitakaraṇaṃ',\n",
       " 'dhanitassa',\n",
       " 'dhanitañca',\n",
       " 'dhanitaṃ',\n",
       " 'dhanite',\n",
       " 'dhanuggahe',\n",
       " 'dhanuggahā',\n",
       " 'dhanukalāpaṃ',\n",
       " 'dhanusatamattaṃ',\n",
       " 'dhataraṭṭho',\n",
       " 'dhataraṭṭhā',\n",
       " 'dhovitabbā',\n",
       " 'dhovitvā',\n",
       " 'dhuttakānan',\n",
       " 'dhuttakānaṃ',\n",
       " 'dhārayāmī',\n",
       " 'dhārayāmīti',\n",
       " 'dhāreti',\n",
       " 'dhātupūjaṃ',\n",
       " 'dhātuṃ',\n",
       " 'dhāvantaṃ',\n",
       " 'dhāvitvā',\n",
       " 'dhīra',\n",
       " 'dibbagandharasāni',\n",
       " 'dibbaparisā',\n",
       " 'dibbā',\n",
       " 'disampati',\n",
       " 'disampatimhi',\n",
       " 'disampatinā',\n",
       " 'disampatissa',\n",
       " 'disampatiṃ',\n",
       " 'disaṃ',\n",
       " 'dissanti',\n",
       " 'disvā',\n",
       " 'disvāna',\n",
       " 'disvānassa',\n",
       " 'disvāpi',\n",
       " 'disā',\n",
       " 'disāya',\n",
       " 'divasabhāgo',\n",
       " 'divasaṃ',\n",
       " 'divassa',\n",
       " 'divasāni',\n",
       " 'divasānī',\n",
       " 'divā',\n",
       " 'divāvihāraṃ',\n",
       " 'divāvihārāya',\n",
       " 'diyyamānaṃ',\n",
       " 'diṭṭhadhammahitatthāya',\n",
       " 'diṭṭhadhammikaṃ',\n",
       " 'diṭṭhadhammikānaṃ',\n",
       " 'diṭṭheva',\n",
       " 'diṭṭhi',\n",
       " 'dn',\n",
       " 'domanassappatto',\n",
       " 'doso',\n",
       " 'dubbho',\n",
       " 'duggandhaṃ',\n",
       " 'duggatigāminaṃ',\n",
       " 'dukkaṭassa',\n",
       " 'dukkaṭassā',\n",
       " 'dukkaṭaṃ',\n",
       " 'dukkhassantaṃ',\n",
       " 'dukkhaṃ',\n",
       " 'dukkhī',\n",
       " 'dullabho',\n",
       " 'dummano',\n",
       " 'dummantitaṃ',\n",
       " 'dummedhino',\n",
       " 'duppaṇihitaṃ',\n",
       " 'durabhisambhavaṃ',\n",
       " 'duranusiṭṭhā',\n",
       " 'duruttaṃ',\n",
       " 'dussīlassa',\n",
       " 'dutiyacatutthaṃ',\n",
       " 'dutiyam',\n",
       " 'dutiyami',\n",
       " 'dutiyampi',\n",
       " 'dutiyatatiyānussāvanāsu',\n",
       " 'dutiyaṃ',\n",
       " 'dutiyā',\n",
       " 'duve',\n",
       " 'duveti',\n",
       " 'duṭṭhakapi',\n",
       " 'dvaṅgulapaññāya',\n",
       " 'dve',\n",
       " 'dvedhā',\n",
       " 'dvedhābbinā',\n",
       " 'dvikkhattuṃ',\n",
       " 'dvinnaṃ',\n",
       " 'dāni',\n",
       " 'dānādīni',\n",
       " 'dāpesi',\n",
       " 'dārukuṭṭo',\n",
       " 'dārupākāro',\n",
       " 'dāruṃ',\n",
       " 'dārūnaṃ',\n",
       " ...]"
      ]
     },
     "execution_count": 9,
     "metadata": {},
     "output_type": "execute_result"
    }
   ],
   "source": [
    "vocab"
   ]
  },
  {
   "cell_type": "code",
   "execution_count": 10,
   "metadata": {
    "collapsed": false
   },
   "outputs": [
    {
     "name": "stdout",
     "output_type": "stream",
     "text": [
      "Displaying 1 of 1 matches:\n",
      "me pubbe , yiṭṭhukāmassa me sato . ♦ aggi pajjalito āsi , kusapattaparitthato \n"
     ]
    }
   ],
   "source": [
    "text.concordance('aggi')"
   ]
  },
  {
   "cell_type": "code",
   "execution_count": 19,
   "metadata": {
    "collapsed": false
   },
   "outputs": [
    {
     "name": "stdout",
     "output_type": "stream",
     "text": [
      "Displaying 1 of 1 matches:\n",
      "me pubbe , yiṭṭhukāmassa me sato . ♦ aggi pajjalito āsi , kusapattaparitthato \n"
     ]
    },
    {
     "data": {
      "text/plain": [
       "NoneType"
      ]
     },
     "execution_count": 19,
     "metadata": {},
     "output_type": "execute_result"
    }
   ],
   "source": [
    "wc = text.concordance('aggi')\n",
    "type(wc)"
   ]
  },
  {
   "cell_type": "code",
   "execution_count": 20,
   "metadata": {
    "collapsed": false
   },
   "outputs": [
    {
     "ename": "TypeError",
     "evalue": "'NoneType' object is not iterable",
     "output_type": "error",
     "traceback": [
      "\u001b[0;31m---------------------------------------------------------------------------\u001b[0m",
      "\u001b[0;31mTypeError\u001b[0m                                 Traceback (most recent call last)",
      "\u001b[0;32m<ipython-input-20-bccf16e8a1c9>\u001b[0m in \u001b[0;36m<module>\u001b[0;34m()\u001b[0m\n\u001b[0;32m----> 1\u001b[0;31m \u001b[0;32mfor\u001b[0m \u001b[0mi\u001b[0m \u001b[0;32min\u001b[0m \u001b[0mwc\u001b[0m\u001b[0;34m:\u001b[0m\u001b[0;34m\u001b[0m\u001b[0m\n\u001b[0m\u001b[1;32m      2\u001b[0m     \u001b[0mprint\u001b[0m\u001b[0;34m(\u001b[0m\u001b[0mi\u001b[0m\u001b[0;34m)\u001b[0m\u001b[0;34m\u001b[0m\u001b[0m\n",
      "\u001b[0;31mTypeError\u001b[0m: 'NoneType' object is not iterable"
     ]
    }
   ],
   "source": [
    "for i in wc:\n",
    "    print(i)"
   ]
  },
  {
   "cell_type": "markdown",
   "metadata": {},
   "source": [
    "# Q: Iterable concordance list would be nice "
   ]
  },
  {
   "cell_type": "code",
   "execution_count": null,
   "metadata": {
    "collapsed": true
   },
   "outputs": [],
   "source": []
  },
  {
   "cell_type": "code",
   "execution_count": 32,
   "metadata": {
    "collapsed": false
   },
   "outputs": [
    {
     "data": {
      "text/plain": [
       "['♦ aggi pajjalito āsi, kusapattaparitthato”.',\n",
       " 'kileso nāmesa halāhalavisūpamo uppāṭitacchavigaṇḍasadiso āsīvisapaṭibhāgo asaniaggisadiso allīyituṃ na yutto āsaṅkitabbo.',\n",
       " 'evaṃ santepi asītivānarasahassehi adiṭṭhaṃ kipillikapuṭapaṭicchannaṃ ekaṃ pakkaphalaṃ nadiyaṃ patitvā uddhañca adho ca jālaṃ bandhāpetvā udakakīḷaṃ kīḷantassa bārāṇasirañño uddhaṃjāle laggi.',\n",
       " 'rājā nāvaṃ ṭhapetvā mahājanaparivuto padasā tattha gantvā rukkhamūle sayanaṃ paññapāpetvā ambapakkāni khāditvā nānaggarasabhojanaṃ bhuñjitvā nipajji, sabbadisāsu ārakkhaṃ ṭhapetvā aggiṃ kariṃsu.',\n",
       " '♦ so pabhātāya rattiyā mahāsattassa tussitvā “na yuttaṃ imaṃ kapirājānaṃ nāsetuṃ, upāyena naṃ otāretvā paṭijaggissāmī”ti antogaṅgāya nāvāsaṅghāṭaṃ ṭhapetvā tattha aṭṭakaṃ bandhāpetvā saṇikaṃ mahāsattaṃ otārāpetvā piṭṭhiyaṃ kāsāvavatthaṃ pattharāpetvā gaṅgodakena nhāpetvā phāṇitodakaṃ pāyetvā parisuddhasarīraṃ sahassapākatelena abbhañjāpetvā sayanapiṭṭhe eḷakacammaṃ santharāpetvā saṇikaṃ tattha nipajjāpetvā attanā nīce āsane nisīditvā paṭhamaṃ gāthamāha —\\n\\n♦ 83.',\n",
       " '♦ tena kho pana samayena chabbaggiyā bhikkhū atisahasāpi vaccakuṭiṃ pavisanti, ubbhajitvāpi V..366 {ubbhujjitvāpi (sī.',\n",
       " 'ye te bhikkhū appicchā ... pe ... te ujjhāyanti khiyyanti vipācenti P.2.222 — “kathañhi nāma chabbaggiyā bhikkhū atisahasāpi vaccakuṭiṃ pavisissanti, ubbhajitvāpi pavisissanti, nitthunantāpi vaccaṃ karissanti, dantakaṭṭhaṃ khādantāpi vaccaṃ karissanti, bahiddhāpi vaccadoṇikāya vaccaṃ karissanti, bahiddhāpi passāvadoṇikāya passāvaṃ karissanti, passāvadoṇikāyapi kheḷaṃ karissanti, pharusenapi kaṭṭhena avalekhissanti, avalekhanakaṭṭhampi vaccakūpamhi pātessanti, atisahasāpi nikkhamissanti, ubbhajitvāpi nikkhamissanti, capucapukārakampi ācamessanti, ācamanasarāvakepi udakaṃ sesessantī”ti!']"
      ]
     },
     "execution_count": 32,
     "metadata": {},
     "output_type": "execute_result"
    }
   ],
   "source": [
    "def occur(word):\n",
    "    return [sent for sent in sents if word in sent]\n",
    "\n",
    "import re\n",
    "def word_occur(word):\n",
    "    return [sent for sent in sents if re.search(r\"\\b\"+word+r\"\\b\" ,sent)]\n",
    "\n",
    "occur('aggi')"
   ]
  },
  {
   "cell_type": "code",
   "execution_count": 33,
   "metadata": {
    "collapsed": false
   },
   "outputs": [
    {
     "data": {
      "text/plain": [
       "['♦ aggi pajjalito āsi, kusapattaparitthato”.']"
      ]
     },
     "execution_count": 33,
     "metadata": {},
     "output_type": "execute_result"
    }
   ],
   "source": [
    "word_occur('aggi')"
   ]
  },
  {
   "cell_type": "code",
   "execution_count": 28,
   "metadata": {
    "collapsed": false
   },
   "outputs": [
    {
     "name": "stdout",
     "output_type": "stream",
     "text": [
      "Displaying 25 of 85 matches:\n",
      "ca brūsi ṭhitamaṭṭhitoti . ♦ pucchāmi taṃ samaṇa etamatthaṃ , ♦ kathaṃ ṭhito tv\n",
      "vā vadhitvā aṅgulīnaṃ mālaṃ dhāreti . taṃ devo paṭisedhetū ” ti . ♦ atha M.2.30\n",
      "ā itthī tenupasaṅkama ; upasaṅkamitvā taṃ itthiṃ evaṃ vadehi V.2.313 — ‘ yatoha\n",
      "ā itthī tenupasaṅkama ; upasaṅkamitvā taṃ itthiṃ evaṃ vadehi — ‘ yatohaṃ , bhag\n",
      "ā itthī tenupasaṅkami ; upasaṅkamitvā taṃ itthiṃ etadavoca — “ yatohaṃ , bhagin\n",
      "īvo saṅgāme ussahati vāyamati , tassa taṃ cittaṃ pubbe gahitaṃ { hīnaṃ ( sī . p\n",
      "e , uddesañca vibhaṅgañca desessāmi . taṃ suṇātha , sādhukaṃ manasi karotha ; b\n",
      "kaṅkhe anāgataṃ . ♦ yadatītaṃ pahīnaṃ taṃ , appattañca anāgataṃ . ♦ “ paccuppan\n",
      "ṃ ( syā . kaṃ . ka . ) } asaṃkuppaṃ , taṃ vidvā manubrūhaye . ♦ “ ajjeva kiccam\n",
      "hāriṃ ātāpiṃ , ahorattamatanditaṃ . ♦ taṃ ve bhaddekarattoti , santo ācikkhate \n",
      "kaṅkhe anāgataṃ . ♦ yadatītaṃ pahīnaṃ taṃ , appattañca anāgataṃ . ♦ “ paccuppan\n",
      " vipassati . ♦ asaṃhīraṃ asaṃkuppaṃ , taṃ vidvā manubrūhaye . ♦ “ ajjeva kiccam\n",
      "hāriṃ ātāpiṃ , ahorattamatanditaṃ . ♦ taṃ ve bhaddekarattoti , santo ācikkhate \n",
      " vibhaṅgañca desessāmī ’ ti — iti yaṃ taṃ vuttaṃ idametaṃ paṭicca vuttan ” ti .\n",
      "sutaṃ sammukhā paṭiggahitaṃ , ārocemi taṃ bhagavato ” ti . “ ārocehi me tvaṃ , \n",
      "ha yathābhucce vaṇṇe payirudāhāsi — ‘ taṃ kiṃ maññanti , bhonto devā tāvatiṃsā \n",
      "bhāyaṃ sannisinnā honti sannipatitā , taṃ atthaṃ cintayitvā taṃ atthaṃ mantayit\n",
      "i sannipatitā , taṃ atthaṃ cintayitvā taṃ atthaṃ mantayitvā vuttavacanāpi taṃ c\n",
      "ā taṃ atthaṃ mantayitvā vuttavacanāpi taṃ cattāro mahārājāno tasmiṃ atthe honti\n",
      "honti . paccānusiṭṭhavacanāpi M.2.182 taṃ cattāro mahārājāno tasmiṃ atthe honti\n",
      " yathābhucce vaṇṇe payirudāhāsi . ♦ “ taṃ kiṃ maññati , bhavaṃ mahābrahmā ? yāv\n",
      "ndabrāhmaṇavatthu ( DN 19 ) ♦ 304 . “ taṃ kiṃ maññanti , bhonto devā tāvatiṃsā \n",
      "lo anusāsaniyā paccabyāhāsi . pettike taṃ ṭhāne ṭhapessāmi , govindiye T.2.265 \n",
      "tipālaṃ māṇavaṃ govindiye abhisiñci , taṃ pettike ṭhāne ṭhapesi . abhisitto jot\n",
      "o bhavaṃ reṇu rajjena , sarati bhavaṃ taṃ vacanan ’ ” ti ? ♦ 308 . “ ‘ evaṃ M.2\n"
     ]
    }
   ],
   "source": [
    "text.concordance('Taṃ') # The concordance method finds occurences regardless of capitalization"
   ]
  },
  {
   "cell_type": "code",
   "execution_count": 34,
   "metadata": {
    "collapsed": false
   },
   "outputs": [
    {
     "data": {
      "text/plain": [
       "329"
      ]
     },
     "execution_count": 34,
     "metadata": {},
     "output_type": "execute_result"
    }
   ],
   "source": [
    "len(occur('taṃ'))"
   ]
  },
  {
   "cell_type": "code",
   "execution_count": 38,
   "metadata": {
    "collapsed": false
   },
   "outputs": [
    {
     "data": {
      "text/plain": [
       "76"
      ]
     },
     "execution_count": 38,
     "metadata": {},
     "output_type": "execute_result"
    }
   ],
   "source": [
    "len(word_occur('taṃ'))"
   ]
  },
  {
   "cell_type": "markdown",
   "metadata": {},
   "source": [
    "# Q: concordance 85 vs regexp 76 ? (capitalization?)"
   ]
  },
  {
   "cell_type": "code",
   "execution_count": 37,
   "metadata": {
    "collapsed": false
   },
   "outputs": [
    {
     "data": {
      "text/plain": [
       "['♦ pucchāmi taṃ samaṇa etamatthaṃ,\\n\\n♦ kathaṃ ṭhito tvaṃ ahamaṭṭhitomhī”ti.',\n",
       " 'taṃ devo paṭisedhetū”ti.',\n",
       " '♦ “tena hi tvaṃ, aṅgulimāla, yena sā itthī tenupasaṅkama; upasaṅkamitvā taṃ itthiṃ evaṃ vadehi V.2.313 — ‘yatohaṃ, bhagini, jāto {bhagini jātiyā jāto (sī.)}',\n",
       " '“tena hi tvaṃ, aṅgulimāla, yena sā itthī tenupasaṅkama; upasaṅkamitvā taṃ itthiṃ evaṃ vadehi — ‘yatohaṃ, bhagini, ariyāya jātiyā jāto, nābhijānāmi sañcicca pāṇaṃ jīvitā voropetā, tena saccena sotthi te hotu, sotthi gabbhassā’”ti.',\n",
       " '♦ “evaṃ, bhante”ti kho āyasmā aṅgulimālo bhagavato paṭissutvā yena sā itthī tenupasaṅkami; upasaṅkamitvā taṃ itthiṃ etadavoca — “yatohaṃ, bhagini, ariyāya jātiyā jāto, nābhijānāmi sañcicca pāṇaṃ jīvitā voropetā, tena saccena sotthi te hotu, sotthi gabbhassā”ti.',\n",
       " 'yo so, gāmaṇi, yodhājīvo saṅgāme ussahati vāyamati, tassa taṃ cittaṃ pubbe gahitaṃ {hīnaṃ (sī.',\n",
       " 'taṃ suṇātha, sādhukaṃ manasi karotha; bhāsissāmī”ti.',\n",
       " '♦ yadatītaṃ pahīnaṃ taṃ, appattañca anāgataṃ.',\n",
       " 'asaṃkuppaṃ, taṃ vidvā manubrūhaye.',\n",
       " '♦ taṃ ve bhaddekarattoti, santo ācikkhate muni” {munīti (sī.',\n",
       " '♦ yadatītaṃ pahīnaṃ taṃ, appattañca anāgataṃ.',\n",
       " '♦ asaṃhīraṃ asaṃkuppaṃ, taṃ vidvā manubrūhaye.',\n",
       " '♦ taṃ ve bhaddekarattoti, santo ācikkhate munī”ti.',\n",
       " '♦ “‘bhaddekarattassa vo, bhikkhave, uddesañca vibhaṅgañca desessāmī’ti — iti yaṃ taṃ vuttaṃ idametaṃ paṭicca vuttan”ti.',\n",
       " 'ekamantaṃ ṭhito kho pañcasikho gandhabbaputto bhagavantaṃ etadavoca — “yaṃ kho me, bhante, devānaṃ tāvatiṃsānaṃ sammukhā sutaṃ sammukhā paṭiggahitaṃ, ārocemi taṃ bhagavato”ti.',\n",
       " 'atha kho, bhante, sakko devānamindo devānaṃ tāvatiṃsānaṃ bhagavato aṭṭha yathābhucce vaṇṇe payirudāhāsi — ‘taṃ kiṃ maññanti, bhonto devā tāvatiṃsā?',\n",
       " 'atha kho, bhante, yenatthena devā tāvatiṃsā sudhammāyaṃ sabhāyaṃ sannisinnā honti sannipatitā, taṃ atthaṃ cintayitvā taṃ atthaṃ mantayitvā vuttavacanāpi taṃ cattāro mahārājāno tasmiṃ atthe honti.',\n",
       " 'paccānusiṭṭhavacanāpi M.2.182 taṃ cattāro mahārājāno tasmiṃ atthe honti, sakesu sakesu āsanesu ṭhitā avipakkantā.',\n",
       " '♦ “taṃ kiṃ maññati, bhavaṃ mahābrahmā?',\n",
       " '“taṃ kiṃ maññanti, bhonto devā tāvatiṃsā, yāva dīgharattaṃ mahāpaññova so bhagavā ahosi.',\n",
       " 'pettike taṃ ṭhāne ṭhapessāmi, govindiye T.2.265 abhisiñcissāmī”ti.',\n",
       " 'atha kho, bho, rājā disampati jotipālaṃ māṇavaṃ govindiye abhisiñci, taṃ pettike ṭhāne ṭhapesi.',\n",
       " 'āyantu, bhonto, yena reṇu rājā tenupasaṅkamatha; upasaṅkamitvā reṇuṃ rājānaṃ evaṃ vadetha — disampati kho, bho, rājā kālaṅkato, abhisitto bhavaṃ reṇu rajjena, sarati bhavaṃ taṃ vacanan’”ti?',\n",
       " '“‘evaṃ M.2.189, bho”ti kho, bho, te cha khattiyā mahāgovindassa brāhmaṇassa paṭissutvā yena reṇu rājā tenupasaṅkamiṃsu; upasaṅkamitvā reṇuṃ rājānaṃ etadavocuṃ — “disampati kho, bho, rājā kālaṅkato, abhisitto bhavaṃ reṇu rajjena, sarati bhavaṃ taṃ vacanan”ti?',\n",
       " '“sarāmahaṃ, bho, taṃ vacanaṃ {vacananti (syā.',\n",
       " 'atha kho, bho, reṇu rājā aññataraṃ purisaṃ āmantesi — “ehi tvaṃ, ambho purisa, yena mahāgovindo brāhmaṇo tenupasaṅkama; upasaṅkamitvā mahāgovindaṃ brāhmaṇaṃ evaṃ vadehi — ‘rājā taṃ, bhante, reṇu āmantetī’”ti.',\n",
       " '“evaṃ P.2.235 devā”ti kho, bho, so puriso reṇussa rañño paṭissutvā T.2.268 yena mahāgovindo brāhmaṇo tenupasaṅkami; upasaṅkamitvā mahāgovindaṃ brāhmaṇaṃ etadavoca — “rājā taṃ, bhante, reṇu āmantetī”ti.',\n",
       " '“atha M.2.190 V.2.173 P.2.236 kho, bho, te cha khattiyā yathāsakena lābhena attamanā ahesuṃ paripuṇṇasaṅkappā — “yaṃ vata no ahosi icchitaṃ, yaṃ ākaṅkhitaṃ, yaṃ adhippetaṃ, yaṃ abhipatthitaṃ, taṃ no laddhan”ti.',\n",
       " 'atha kho, bho, mahāgovindassa brāhmaṇassa ahudeva bhayaṃ ahu chambhitattaṃ ahu lomahaṃso yathā taṃ adiṭṭhapubbaṃ rūpaṃ disvā.',\n",
       " '♦ ajānantā taṃ pucchāma, kathaṃ jānemu taṃ mayan”ti.',\n",
       " '♦ yo taṃ hiṃsati vāremi, bhūmisenāpati ahaṃ.',\n",
       " '♦ so me pañhaṃ viyākāsi, taṃ sutvā na gahe rame”.',\n",
       " '♦ “te taṃ anuvattissāma, satthā govinda no bhavaṃ.',\n",
       " '“sarati taṃ bhagavā”ti?',\n",
       " 'taṃ kho pana me, pañcasikha, brahmacariyaṃ na nibbidāya na virāgāya na nirodhāya na upasamāya na abhiññāya na sambodhāya na nibbānāya saṃvattati, yāvadeva brahmalokūpapattiyā.',\n",
       " 'katamañca taṃ, pañcasikha, brahmacariyaṃ ekantanibbidāya virāgāya nirodhāya upasamāya abhiññāya sambodhāya nibbānāya saṃvattati?',\n",
       " 'idaṃ kho taṃ, pañcasikha, brahmacariyaṃ ekantanibbidāya virāgāya nirodhāya upasamāya abhiññāya sambodhāya nibbānāya saṃvattati.',\n",
       " 'Yaṃ jātaṃ taṃ saṅghamajjhe pucchante santaṃ atthīti vattabbaṃ,\\nAsantaṃ n’atthīti vattabbaṃ.',\n",
       " 'Evan taṃ pucchisan ti.',\n",
       " 'Yaṃ jātaṃ taṃ pucchāmi.',\n",
       " 'yaṃ jātaṃ taṃ saṅghamajjhe pucchante santaṃ atthīti vattabbaṃ, asantaṃ natthī”ti vattabbaṃ.',\n",
       " 'evaṃ taṃ pucchissanti — “santi te evarūpā ābādhā — kuṭṭhaṃ, gaṇḍo, kilāso, soso, apamāro?',\n",
       " 'yaṃ jātaṃ taṃ pucchāmi.',\n",
       " 'taṃ te yāvajīvaṃ akaraṇīyaṃ.',\n",
       " 'taṃ te yāvajīvaṃ P.1.97 akaraṇīyaṃ.',\n",
       " 'taṃ te yāvajīvaṃ akaraṇīyaṃ.',\n",
       " 'taṃ te yāvajīvaṃ akaraṇīyan”ti.',\n",
       " 'pañcahākārehi P.5.221 anussāvanato kammāni vipajjanti — vatthuṃ na parāmasati, saṅghaṃ na parāmasati, puggalaṃ na parāmasati, sāvanaṃ hāpeti, akāle vā sāveti — imehi pañcahākārehi anussāvanato kammāni vipajjanti.Vinaya Piṭaka, parivāra-aṭṭhakathā, pañcavaggo, kammavaggavaṇṇanā\\n\\n♦ 484. ñattito vipattiyaṃ pana vatthuṃ na parāmasatīti yassa upasampadādikammaṃ P.7.1398 karoti, taṃ na parāmasati, tassa nāmaṃ na gaṇhāti.',\n",
       " '♦ puggalaṃ na parāmasatīti yo upasampadāpekkhassa upajjhāyo, taṃ na parāmasati, tassa nāmaṃ na gaṇhāti.',\n",
       " 'itaresu pana dīgharassādīsu chasu byañjanesu dīghaṭṭhāne dīghameva, rassaṭṭhāne ca rassamevāti evaṃ yathāṭhāne taṃ tadeva akkharaṃ bhāsantena anukkamāgataṃ paveṇiṃ avināsentena kammavācā kātabbā.',\n",
       " '♦ yaṃ pana suttantikattherā “da-kāro ta-kāramāpajjati, ta-kāro da-kāramāpajjati, ca-kāro ja-kāramāpajjati, ja-kāro ca-kāramāpajjati, ya-kāro ka-kāramāpajjati, ka-kāro ya-kāramāpajjati; tasmā da-kārādīsu vattabbesu ta-kārādivacanaṃ na virujjhatī”ti vadanti, taṃ kammavācaṃ patvā na vaṭṭati.',\n",
       " 'brāhmaṇo dhanalobhena “sādhū”ti sampaṭicchitvā taṃ tathā katvā ādāya nagarā nikkhamitvā thokaṃ agamāsi.',\n",
       " 'siṅgālo gocarappasuto taṃ matahatthisarīraṃ disvā “mahā me gocaro uppanno”ti gantvā taṃ soṇḍe ḍaṃsi, naṅgalīsāya daṭṭhakālo viya ahosi.',\n",
       " 'gacchante gacchante kāle nidāghe vātasamphassena ceva sūriyarasmisantāpena ca taṃ kuṇapaṃ sussitvā P.1.503 valiyo gaṇhi, siṅgālassa paviṭṭhadvāraṃ pihitaṃ, antokucchiyaṃ andhakāro ahosi.',\n",
       " 'siṅgālo taṃ chiddaṃ disvā “idāni me jīvitaṃ laddhan”ti yāva hatthisīsā paṭikkamitvā vegena pakkhanditvā vaccamaggaṃ sīsena paharitvā nikkhami.',\n",
       " '♦ evañca M.1.530 pana vatvā tatova palāyitvā puna taṃ vā aññaṃ vā hatthisarīraṃ nivattitvāpi na olokesi.',\n",
       " 'rañño divasaṃ kīḷitvā sāyaṃ gamanasamaye kevaṭṭā jālaṃ ukkhipantā taṃ disvā “asukaphalaṃ nāmā”ti ajānantā rañño dassesuṃ.',\n",
       " '“ettakāni divasānī”ti paricchedo na kathito, anupubbena pana taṃ ṭhānaṃ patvā “eso deva, rukkho”ti vanacarakā rañño ācikkhiṃsu.',\n",
       " '♦ so taṃ lataṃ ādāya ekaṃ koṭiṃ gaṅgātīre patiṭṭhitarukkhe bandhitvā ekaṃ attano kaṭiyaṃ bandhitvā vātacchinnavalāhako viya vegena dhanusatamattaṃ ṭhānaṃ laṅghitvā kaṭiyaṃ bandhanaṭṭhānassa asallakkhitattā rukkhaṃ pāpuṇituṃ asakkonto ubhohi hatthehi ambasākhaṃ daḷhaṃ gaṇhitvā vānaragaṇassa saññamadāsi “sīghaṃ mama piṭṭhiṃ maddamānā vettalatāya sotthigamanaṃ gacchathā”ti.',\n",
       " 'sopi taṃ vedanāppattaṃ katvā pakkāmi.',\n",
       " '♦ taṃ V.3.330 sutvā bodhisatto rājānaṃ ovadanto sesagāthā abhāsi —\\n\\n♦ 84.',\n",
       " '♦ “taṃ maṃ viyāyataṃ santaṃ, sākhāya ca latāya ca.',\n",
       " '♦ “taṃ maṃ na tapate bandho, mato me na tapessati.',\n",
       " '♦ “esā te upamā rāja, taṃ suṇohi arindama.',\n",
       " 'bodhisatto hi kaṭibhāge taṃ latāguṇaṃ daḷhaṃ bandhitvā pacchimapādehi bhūmiyaṃ akkamitvā vissajjetvā vātavegena ākāsaṃ pakkhandi.',\n",
       " 'taṃ maṃ na tapate bandhoti taṃ maṃ nāpi so valliyā bandho tapati, nāpi idāni maraṇaṃ tapessati.',\n",
       " 'taṃ ajja mayā etesaṃ maraṇadukkhaṃ haritvā jīvitasukhaṃ āhaṭaṃ, tena maṃ nāpi bandho tapati, na maraṇavadho tapessati.',\n",
       " 'taṃ suṇohīti tasmā imāya upamāya saṃsandetvā attano diyyamānaṃ ovādaṃ suṇāhi.',\n",
       " '♦\\xa0pamattabandhu pāpima, na tvaṃ jānāsi taṃ padaṃ.',\n",
       " 'atha kho māro pāpimā somāya bhikkhuniyā bhayaṃ chambhitattaṃ lomahaṃsaṃ uppādetukāmo samādhimhā cāvetukāmo yena somā bhikkhunī tenupasaṅkami; upasaṅkamitvā somaṃ bhikkhuniṃ gāthāya ajjhabhāsi —\\n♦\\xa0“yaṃ taṃ isīhi pattabbaṃ, ṭhānaṃ durabhisambhavaṃ.',\n",
       " '♦\\xa0na taṃ dvaṅgulapaññāya, sakkā pappotumitthiyā”ti.',\n",
       " '♦\\xa0kiñci vā pana aññasmi VAR, taṃ māro vattumarahatī”ti.',\n",
       " '♦\\xa0na socāmi na rodāmi, na taṃ bhāyāmi āvuso.',\n",
       " '♦\\xa0sabbabandhanamuttāmhi, na taṃ bhāyāmi āvuso”ti.',\n",
       " 'aññataro upāsako upassayā nikkhamanto addasa taṃ brāhmaṇaṃ ummukaṃ gahetvā upassayaṃ pavisantaṃ.',\n",
       " 'disvāna taṃ brāhmaṇaṃ etadavoca — “kissa tvaṃ, bho, ummukaṃ gahetvā upassayaṃ pavisasī”ti?']"
      ]
     },
     "execution_count": 37,
     "metadata": {},
     "output_type": "execute_result"
    }
   ],
   "source": [
    "word_occur('taṃ')"
   ]
  },
  {
   "cell_type": "markdown",
   "metadata": {
    "collapsed": true
   },
   "source": [
    "# Letter Frequencies"
   ]
  },
  {
   "cell_type": "code",
   "execution_count": 12,
   "metadata": {
    "collapsed": false
   },
   "outputs": [
    {
     "data": {
      "text/plain": [
       "'Majjhima Nikāya, majjhimapaṇṇāsapāḷi, 4. rājavaggo, 6. aṅgulimālasuttaṃ n (MN 86)\\n\\n♦ 347. evaṃ M.2.3'"
      ]
     },
     "execution_count": 12,
     "metadata": {},
     "output_type": "execute_result"
    }
   ],
   "source": [
    "import matplotlib.pyplot as plt\n",
    "import matplotlib as mpl\n",
    "%matplotlib inline\n",
    "mpl.rcParams['font.family'] = 'Arial'\n",
    "\n",
    "raw[:100]"
   ]
  },
  {
   "cell_type": "code",
   "execution_count": 13,
   "metadata": {
    "collapsed": false
   },
   "outputs": [
    {
     "data": {
      "image/png": "[encoded data removed]",
      "text/plain": [
       "<matplotlib.figure.Figure at 0x10e7ba7b8>"
      ]
     },
     "metadata": {},
     "output_type": "display_data"
    },
    {
     "data": {
      "text/plain": [
       "[('a', 19379),\n",
       " ('t', 7579),\n",
       " ('ā', 6956),\n",
       " ('i', 6374),\n",
       " ('h', 6001),\n",
       " ('s', 5363),\n",
       " ('n', 4723),\n",
       " ('m', 3728),\n",
       " ('e', 3428),\n",
       " ('k', 3280),\n",
       " ('ṃ', 3254),\n",
       " ('o', 3126),\n",
       " ('p', 3058),\n",
       " ('v', 3029),\n",
       " ('u', 2576),\n",
       " ('b', 2497),\n",
       " ('r', 2167),\n",
       " ('y', 2113),\n",
       " ('d', 2058),\n",
       " ('c', 1624),\n",
       " ('g', 1386),\n",
       " ('j', 1017),\n",
       " ('l', 807),\n",
       " ('ṇ', 806),\n",
       " ('ṭ', 702),\n",
       " ('ī', 698),\n",
       " ('ñ', 649),\n",
       " ('ṅ', 422),\n",
       " ('ū', 225),\n",
       " ('ḍ', 165),\n",
       " ('ḷ', 58),\n",
       " ('f', 4),\n",
       " ('ś', 1),\n",
       " ('w', 1)]"
      ]
     },
     "execution_count": 13,
     "metadata": {},
     "output_type": "execute_result"
    }
   ],
   "source": [
    "# alpha only tokens\n",
    "alphatokens = [t for t in tokens if t.isalpha()]\n",
    "raw2 = ('').join(alphatokens)\n",
    "raw3 = [s.lower() for s in raw2]\n",
    "fd = nltk.FreqDist(raw3)\n",
    "fd.plot()\n",
    "fd.most_common(50)"
   ]
  },
  {
   "cell_type": "markdown",
   "metadata": {},
   "source": [
    "Note there is only one occurance of 'ś', which is strange. The occurance of 'f' and 'w' are from bracketed references pointing to variant readings probably.\n",
    "\n",
    "### Question: Should we remove content in brackets before processing? () {} []"
   ]
  },
  {
   "cell_type": "code",
   "execution_count": 14,
   "metadata": {
    "collapsed": true
   },
   "outputs": [],
   "source": [
    "def make_string(file):\n",
    "    raw = ''\n",
    "    with open(file) as f:\n",
    "        for line in f:\n",
    "            raw += line\n",
    "    tokens = word_tokenize(raw)\n",
    "    alphatokens = [t for t in tokens if t.isalpha()]\n",
    "    raw2 = ('').join(alphatokens)\n",
    "    raw3 = [s.lower() for s in raw2]\n",
    "    return raw3\n",
    "\n",
    "cfd = nltk.ConditionalFreqDist(\n",
    "        (fileid, s)\n",
    "        for fileid in fileids\n",
    "        for s in make_string('../corpus/' + fileid)\n",
    ")\n",
    "cpd = nltk.ConditionalProbDist(cfd, nltk.MLEProbDist)"
   ]
  },
  {
   "cell_type": "code",
   "execution_count": 15,
   "metadata": {
    "collapsed": false
   },
   "outputs": [
    {
     "data": {
      "text/plain": [
       "dict_keys(['s', 'ī', 'v', 'l', 'k', 'm', 'ḷ', 'i', 'n', 'ḍ', 't', 'p', 'r', 'ā', 'c', 'ṇ', 'b', 'a', 'h', 'd', 'ṅ', 'ṭ', 'ū', 'ñ', 'g', 'j', 'o', 'e', 'u', 'y', 'ṃ'])"
      ]
     },
     "execution_count": 15,
     "metadata": {},
     "output_type": "execute_result"
    }
   ],
   "source": [
    "pd1 = cpd[fileids[0]]\n",
    "pd1.samples()"
   ]
  },
  {
   "cell_type": "code",
   "execution_count": 16,
   "metadata": {
    "collapsed": false
   },
   "outputs": [
    {
     "data": {
      "image/png": "[encoded data removed]",
      "text/plain": [
       "<matplotlib.figure.Figure at 0x1135aab38>"
      ]
     },
     "metadata": {},
     "output_type": "display_data"
    }
   ],
   "source": [
    "fd1 = nltk.FreqDist((s, pd1.prob(s)) for s in pd1.samples())\n",
    "fd1 = pd1.freqdist()\n",
    "fd1.plot()"
   ]
  },
  {
   "cell_type": "code",
   "execution_count": 17,
   "metadata": {
    "collapsed": false
   },
   "outputs": [
    {
     "name": "stdout",
     "output_type": "stream",
     "text": [
      "[('s', 0.05598294559273334), ('ī', 0.007600333673185652), ('v', 0.030123273704699232), ('l', 0.015942163314486977), ('k', 0.025210862915932896), ('m', 0.038928538326072855), ('ḷ', 0.0003707479840578367), ('i', 0.07034942997497451), ('n', 0.04272870516266568), ('ḍ', 0.0022244879043470203), ('t', 0.07072017795903235), ('p', 0.03466493650940773), ('r', 0.017703216238761702), ('ā', 0.07146167392714801), ('c', 0.017239781258689406), ('ṇ', 0.008805264621373621), ('b', 0.019742330151079804), ('a', 0.1977013624988414), ('h', 0.05533413662063213), ('d', 0.022430253035499118), ('ṅ', 0.007414959681156734), ('ṭ', 0.007322272685142275), ('ū', 0.002687922884419316), ('ñ', 0.007044211697098897), ('g', 0.019464269163036427), ('j', 0.009824821577532672), ('o', 0.03401612753730652), ('e', 0.030957456668829365), ('u', 0.023079062007600334), ('y', 0.020483826119195477), ('ṃ', 0.03244044860506071)]\n"
     ]
    },
    {
     "data": {
      "text/plain": [
       "<matplotlib.legend.Legend at 0x1138876a0>"
      ]
     },
     "execution_count": 17,
     "metadata": {},
     "output_type": "execute_result"
    },
    {
     "data": {
      "image/png": "[encoded data removed]",
      "text/plain": [
       "<matplotlib.figure.Figure at 0x11351da58>"
      ]
     },
     "metadata": {},
     "output_type": "display_data"
    }
   ],
   "source": [
    "allfds = [cpd[fn].freqdist() for fn in fileids]\n",
    "unsorted_list = [(x, allfds[0].freq(x)) for x in allfds[0].keys()]\n",
    "sorted_list = sorted(unsorted_list)\n",
    "print(unsorted_list)\n",
    "xlabs, vals = zip(*sorted_list)\n",
    "nvals = len(xlabs)\n",
    "plt.plot(range(nvals), vals, label='Angulimala')\n",
    "plt.xticks(range(nvals), xlabs)\n",
    "plt.legend()"
   ]
  },
  {
   "cell_type": "code",
   "execution_count": 18,
   "metadata": {
    "collapsed": false
   },
   "outputs": [
    {
     "ename": "AssertionError",
     "evalue": "",
     "output_type": "error",
     "traceback": [
      "\u001b[0;31m---------------------------------------------------------------------------\u001b[0m",
      "\u001b[0;31mAssertionError\u001b[0m                            Traceback (most recent call last)",
      "\u001b[0;32m<ipython-input-18-d2eeb46936be>\u001b[0m in \u001b[0;36m<module>\u001b[0;34m()\u001b[0m\n\u001b[1;32m      5\u001b[0m     \u001b[0mallxlabs\u001b[0m\u001b[0;34m.\u001b[0m\u001b[0mappend\u001b[0m\u001b[0;34m(\u001b[0m\u001b[0mxlabs\u001b[0m\u001b[0;34m)\u001b[0m\u001b[0;34m\u001b[0m\u001b[0m\n\u001b[1;32m      6\u001b[0m     \u001b[0mallvals\u001b[0m\u001b[0;34m.\u001b[0m\u001b[0mappend\u001b[0m\u001b[0;34m(\u001b[0m\u001b[0mvals\u001b[0m\u001b[0;34m)\u001b[0m\u001b[0;34m\u001b[0m\u001b[0m\n\u001b[0;32m----> 7\u001b[0;31m \u001b[0;32massert\u001b[0m\u001b[0;34m(\u001b[0m\u001b[0mallxlabs\u001b[0m\u001b[0;34m[\u001b[0m\u001b[0;36m0\u001b[0m\u001b[0;34m]\u001b[0m\u001b[0;34m==\u001b[0m\u001b[0mallxlabs\u001b[0m\u001b[0;34m[\u001b[0m\u001b[0;36m1\u001b[0m\u001b[0;34m]\u001b[0m \u001b[0;32mand\u001b[0m \u001b[0mallxlabs\u001b[0m\u001b[0;34m[\u001b[0m\u001b[0;36m1\u001b[0m\u001b[0;34m]\u001b[0m\u001b[0;34m==\u001b[0m\u001b[0mallxlabs\u001b[0m\u001b[0;34m[\u001b[0m\u001b[0;36m2\u001b[0m\u001b[0;34m]\u001b[0m\u001b[0;34m)\u001b[0m\u001b[0;34m\u001b[0m\u001b[0m\n\u001b[0m",
      "\u001b[0;31mAssertionError\u001b[0m: "
     ]
    }
   ],
   "source": [
    "allxlabs, allvals = [], []\n",
    "for fd in allfds:\n",
    "    arr = sorted([(x, fd.freq(x)) for x in fd.keys()])\n",
    "    xlabs, vals = zip(*arr)\n",
    "    allxlabs.append(xlabs)\n",
    "    allvals.append(vals)\n",
    "assert(allxlabs[0]==allxlabs[1] and allxlabs[1]==allxlabs[2])"
   ]
  },
  {
   "cell_type": "markdown",
   "metadata": {},
   "source": [
    "# Zipf's Law in Pāli\n",
    "\n",
    "Let `f(w)` be the frequency of a word w in free text. Suppose that all the words of a text are ranked according to their frequency, with the most frequent word first. Zipf's law states that the frequency of a word type is inversely proportional to its rank (i.e. `f × r = k`, for some constant `k`). For example, the 50th most common word type should occur three times as frequently as the 150th most common word type.\n",
    "\n",
    "Zipf's law hold empirically true for English, the larger the sample size the better the fit, but not for randomly generated texts using the English alphabet.\n",
    "\n",
    "The question is whether Zipf's law holds true for Pāli."
   ]
  },
  {
   "cell_type": "code",
   "execution_count": null,
   "metadata": {
    "collapsed": false
   },
   "outputs": [],
   "source": [
    "text"
   ]
  },
  {
   "cell_type": "code",
   "execution_count": null,
   "metadata": {
    "collapsed": false
   },
   "outputs": [],
   "source": [
    "fd = nltk.FreqDist(alphatokens)\n",
    "n = 100\n",
    "mc = fd.most_common(n)\n",
    "ranks = list(range(1,n+1))\n",
    "freqs = [x[1] for x in mc]\n",
    "freqstimesranks = [(i+1)**0.7*x for i, x in enumerate(freqs)]\n",
    "plt.plot(ranks, freqstimesranks)"
   ]
  },
  {
   "cell_type": "code",
   "execution_count": null,
   "metadata": {
    "collapsed": false
   },
   "outputs": [],
   "source": [
    "plt.loglog(ranks, freqs)"
   ]
  },
  {
   "cell_type": "code",
   "execution_count": null,
   "metadata": {
    "collapsed": true
   },
   "outputs": [],
   "source": []
  }
 ],
 "metadata": {
  "kernelspec": {
   "display_name": "Python 3",
   "language": "python",
   "name": "python3"
  },
  "language_info": {
   "codemirror_mode": {
    "name": "ipython",
    "version": 3
   },
   "file_extension": ".py",
   "mimetype": "text/x-python",
   "name": "python",
   "nbconvert_exporter": "python",
   "pygments_lexer": "ipython3",
   "version": "3.5.1"
  }
 },
 "nbformat": 4,
 "nbformat_minor": 0
}
