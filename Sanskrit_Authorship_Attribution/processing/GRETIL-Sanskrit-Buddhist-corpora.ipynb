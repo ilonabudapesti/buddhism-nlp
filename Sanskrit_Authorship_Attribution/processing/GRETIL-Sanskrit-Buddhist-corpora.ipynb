{
 "cells": [
  {
   "cell_type": "code",
   "execution_count": 2,
   "metadata": {
    "collapsed": false
   },
   "outputs": [
    {
     "data": {
      "text/plain": [
       "'<!DOCTYPE html>\\n<html lang=\"en\">\\n<head>\\n<!-- 2017-11-03 Fr 12:12 -->\\n<meta charset=\"utf-8\">\\n<meta name=\"viewport\" content=\"width=device-width, initial-scale=1\">\\n<title>GRETIL - Göttingen Register of Electronic Texts in Indian Languages</title>\\n<meta name=\"generator\" content=\"Org mode\">\\n<style>\\nbody   { background-color: #FFFFFF; text-align: center; padding: 30pt; }\\nhr     { height: 1px; border-width: 0; color :gray; background-color: gray }\\na:link { text-decoration: none; font-weight: bold; color: Navy; }\\na:visited { text-decoration: none; font-weight: bold; color: Crimson; }\\na:hover { text-de'"
      ]
     },
     "execution_count": 2,
     "metadata": {},
     "output_type": "execute_result"
    }
   ],
   "source": [
    "import nltk, re, pprint\n",
    "from nltk import word_tokenize, sent_tokenize\n",
    "from urllib import request\n",
    "from bs4 import BeautifulSoup\n",
    "\n",
    "url = \"http://gretil.sub.uni-goettingen.de/gret_utf.htm\"\n",
    "html = request.urlopen(url).read().decode('utf8')\n",
    "html[:600]"
   ]
  },
  {
   "cell_type": "code",
   "execution_count": 3,
   "metadata": {
    "collapsed": false
   },
   "outputs": [
    {
     "data": {
      "text/plain": [
       "385516"
      ]
     },
     "execution_count": 3,
     "metadata": {},
     "output_type": "execute_result"
    }
   ],
   "source": [
    "html.find('<div class=\"outline-text-5\" id=\"text-Bauddha\">')"
   ]
  },
  {
   "cell_type": "code",
   "execution_count": 4,
   "metadata": {
    "collapsed": false
   },
   "outputs": [
    {
     "data": {
      "text/plain": [
       "'<div class=\"outline-text-5\" id=\"text-Bauddha\">\\n<ol class=\"org-ol\">\\n<li>Abhidharmasamuccayabhasya (in'"
      ]
     },
     "execution_count": 4,
     "metadata": {},
     "output_type": "execute_result"
    }
   ],
   "source": [
    "html[385516:385616]"
   ]
  },
  {
   "cell_type": "code",
   "execution_count": 5,
   "metadata": {
    "collapsed": false
   },
   "outputs": [
    {
     "data": {
      "text/plain": [
       "'<div class=\"outline-text-5\" id=\"text-Bauddha\">\\n<ol class=\"org-ol\">\\n<li>Abhidharmasamuccayabhasya (input by members of the Sanskrit Buddhist Canon Input Project) <span id=\"Abhsubh\"></span>\\n<ul class=\"org-ul\">\\n<li><a href=\"gretil/1_sanskr/6_sastra/3_phil/buddh/abhsubhu.htm\"><img src=\"i_download.gif\" alt=\"i_download.gif\" style=\"vertical-align:bottom\"> abhsubhu.htm</a></li>\\n<li>File(s) in <a  href=\"gret_csx.htm#Abhsubh\"  target=\"_blank\">CSX</a> | <a  href=\"gret_ree.htm#Abhsubh\"  target=\"_blank\">REE<'"
      ]
     },
     "execution_count": 5,
     "metadata": {},
     "output_type": "execute_result"
    }
   ],
   "source": [
    "html2 = html[385516:]\n",
    "html2[:500]"
   ]
  },
  {
   "cell_type": "code",
   "execution_count": 6,
   "metadata": {
    "collapsed": false
   },
   "outputs": [
    {
     "data": {
      "text/plain": [
       "64377"
      ]
     },
     "execution_count": 6,
     "metadata": {},
     "output_type": "execute_result"
    }
   ],
   "source": [
    "html2.find('</div>')"
   ]
  },
  {
   "cell_type": "code",
   "execution_count": 7,
   "metadata": {
    "collapsed": false
   },
   "outputs": [
    {
     "data": {
      "text/plain": [
       "'rget=\"_blank\">REE</a> encoding</li>\\n</ul></li>\\n<li>Yasomitra: Sphutartha Abhidharmakosavyakhya (input by Seishi Karashima) <span id=\"YasSphut\"></span>\\n<ul class=\"org-ul\">\\n<li><a href=\"gretil/1_sanskr/6_sastra/3_phil/buddh/yabhkvyu.htm\"><img src=\"i_download.gif\" alt=\"i_download.gif\" style=\"vertical-align:bottom\"> yabhkvyu.htm</a></li>\\n<li>File(s) in <a  href=\"gret_csx.htm#YasSphut\"  target=\"_blank\">CSX</a> | <a  href=\"gret_ree.htm#YasSphut\"  target=\"_blank\">REE</a> encoding</li>\\n</ul></li>\\n</ol>\\n</div>'"
      ]
     },
     "execution_count": 7,
     "metadata": {},
     "output_type": "execute_result"
    }
   ],
   "source": [
    "html2[63877:64383]"
   ]
  },
  {
   "cell_type": "code",
   "execution_count": 6,
   "metadata": {
    "collapsed": false
   },
   "outputs": [
    {
     "data": {
      "text/plain": [
       "'ass=\"org-ul\">\\n<li><a href=\"gretil/1_sanskr/6_sastra/3_phil/buddh/bsa061_u.htm\"><img src=\"i_download.gif\" alt=\"i_download.gif\" style=\"vertical-align:bottom\"> bsa061_u.htm</a></li>\\n<li>File(s) in <a  href=\"gret_csx.htm#DSBC_Sa061\"  target=\"_blank\">CSX</a> | <a  href=\"gret_ree.htm#DSBC_Sa061\"  target=\"_blank\">REE</a> encoding</li>\\n</ul></li>\\n<li>Yasomitra: Sphutartha Abhidharmakosavyakhya (input by Seishi Karashima) <span id=\"YasSphut\"></span>\\n<ul class=\"org-ul\">\\n<li><a href=\"gretil/1_sanskr/6_sastra/3_phil/buddh/yabhkvyu.htm\"><img src=\"i_download.gif\" alt=\"i_download.gif\" style=\"vertical-align:bottom\"> yabhkvyu.htm</a></li>\\n<li>File(s) in <a  href=\"gret_csx.htm#YasSphut\"  target=\"_blank\">CSX</a> | <a  href=\"gret_ree.htm#YasSphut\"  target=\"_blank\">REE</a> encoding</li>\\n</ul></li>\\n</ol>\\n</div>'"
      ]
     },
     "execution_count": 6,
     "metadata": {},
     "output_type": "execute_result"
    }
   ],
   "source": [
    "html3 = html2[:64383]\n",
    "html3[-800:]"
   ]
  },
  {
   "cell_type": "code",
   "execution_count": 18,
   "metadata": {
    "collapsed": false
   },
   "outputs": [
    {
     "data": {
      "text/plain": [
       "['<a id=\"orgf24afd2\">Arcata: Hetubindutika</a>',\n",
       " '<a id=\"orgdae93ea\">Mahayanapathasadhanasamgraha</a>',\n",
       " '<a id=\"org29a49f9\"></a>',\n",
       " '<a id=\"org0ca383b\">Prajnakaramati: Bodhicaryavatarapanjika</a>',\n",
       " '<a id=\"org5f5aba0\">Vasubandhu: Madhyantavibhagakarikabhasya</a>',\n",
       " '<a id=\"org1005ee6\">Vasubandhu: Trimsikavijnaptikarika</a>',\n",
       " '<a id=\"org764daf9\">Vasubandhu: Trimsikavijnaptikarika</a>']"
      ]
     },
     "execution_count": 18,
     "metadata": {},
     "output_type": "execute_result"
    }
   ],
   "source": [
    "# Note: dirty data\n",
    "# <a id=\"org1005ee6\">Vasubandhu: Trimsikavijnaptikarika</a> should be\n",
    "# \"Vasubandhu: Trimsikavijnaptikarika\"\n",
    "# 7 occurances\n",
    "\n",
    "re.findall(r\"<a id=.*>.*</a>\", html3)"
   ]
  },
  {
   "cell_type": "code",
   "execution_count": 11,
   "metadata": {
    "collapsed": false
   },
   "outputs": [
    {
     "data": {
      "text/plain": [
       "''"
      ]
     },
     "execution_count": 11,
     "metadata": {},
     "output_type": "execute_result"
    }
   ],
   "source": [
    "s = \"</a>\"\n",
    "s2 = '<a id=\"orgf24afd2\">Arcata: Hetubindutika</a>'\n",
    "s = re.sub(r'</a>','',s)\n",
    "s"
   ]
  },
  {
   "cell_type": "code",
   "execution_count": 12,
   "metadata": {
    "collapsed": true
   },
   "outputs": [],
   "source": [
    "p = re.compile(r\"<a id=.*>.*</a>\")"
   ]
  },
  {
   "cell_type": "code",
   "execution_count": 14,
   "metadata": {
    "collapsed": false
   },
   "outputs": [
    {
     "data": {
      "text/plain": [
       "('.*', 1)"
      ]
     },
     "execution_count": 14,
     "metadata": {},
     "output_type": "execute_result"
    }
   ],
   "source": [
    "p.subn('.*',s2)"
   ]
  },
  {
   "cell_type": "code",
   "execution_count": 15,
   "metadata": {
    "collapsed": false
   },
   "outputs": [
    {
     "data": {
      "text/plain": [
       "417"
      ]
     },
     "execution_count": 15,
     "metadata": {},
     "output_type": "execute_result"
    }
   ],
   "source": [
    "dirt1 = re.findall(r\"</a>\", html3)\n",
    "len(dirt1)"
   ]
  },
  {
   "cell_type": "code",
   "execution_count": 33,
   "metadata": {
    "collapsed": false
   },
   "outputs": [
    {
     "name": "stdout",
     "output_type": "stream",
     "text": [
      "Arcata: Hetubindutika\n",
      "Mahayanapathasadhanasamgraha\n",
      "\n",
      "Prajnakaramati: Bodhicaryavatarapanjika\n",
      "Vasubandhu: Madhyantavibhagakarikabhasya\n",
      "Vasubandhu: Trimsikavijnaptikarika\n",
      "Vasubandhu: Trimsikavijnaptikarika\n"
     ]
    },
    {
     "data": {
      "text/plain": [
       "['<a id=\"orgf24afd2\">Arcata: Hetubindutika</a>',\n",
       " '<a id=\"orgdae93ea\">Mahayanapathasadhanasamgraha</a>',\n",
       " '<a id=\"org29a49f9\"></a>',\n",
       " '<a id=\"org0ca383b\">Prajnakaramati: Bodhicaryavatarapanjika</a>',\n",
       " '<a id=\"org5f5aba0\">Vasubandhu: Madhyantavibhagakarikabhasya</a>',\n",
       " '<a id=\"org1005ee6\">Vasubandhu: Trimsikavijnaptikarika</a>',\n",
       " '<a id=\"org764daf9\">Vasubandhu: Trimsikavijnaptikarika</a>']"
      ]
     },
     "execution_count": 33,
     "metadata": {},
     "output_type": "execute_result"
    }
   ],
   "source": [
    "dirt = re.findall(r\"<a id=.*>.*</a>\", html3)\n",
    "for d in dirt:\n",
    "    d = re.sub(r'<a id=.*\">.*</a>', \"\",d)\n",
    "    d = re.sub(r\"</a>\",\"\", d)\n",
    "    print(d)"
   ]
  },
  {
   "cell_type": "code",
   "execution_count": 20,
   "metadata": {
    "collapsed": false
   },
   "outputs": [],
   "source": [
    "with open(\"GRETIL_buddhist1.html\", \"r\") as file:\n",
    "    #file.write(html3)\n",
    "    html4 = file.read()"
   ]
  },
  {
   "cell_type": "code",
   "execution_count": 21,
   "metadata": {
    "collapsed": false
   },
   "outputs": [
    {
     "data": {
      "text/plain": [
       "'Abhidharmasamuccayabhasya (input by members of the Sanskrit Buddhist Canon Input Project) \\n\\n abhsubhu.htm\\nFile(s) in CSX | REE encoding\\n'"
      ]
     },
     "execution_count": 21,
     "metadata": {},
     "output_type": "execute_result"
    }
   ],
   "source": [
    "soup = BeautifulSoup(html4, \"lxml\")\n",
    "soup.li.text"
   ]
  },
  {
   "cell_type": "code",
   "execution_count": 22,
   "metadata": {
    "collapsed": false
   },
   "outputs": [
    {
     "data": {
      "text/plain": [
       "<li>Abhidharmasamuccayabhasya (input by members of the Sanskrit Buddhist Canon Input Project) <span id=\"Abhsubh\"></span>\n",
       "<ul class=\"org-ul\">\n",
       "<li><a href=\"gretil/1_sanskr/6_sastra/3_phil/buddh/abhsubhu.htm\"><img alt=\"i_download.gif\" src=\"i_download.gif\" style=\"vertical-align:bottom\"/> abhsubhu.htm</a></li>\n",
       "<li>File(s) in <a href=\"gret_csx.htm#Abhsubh\" target=\"_blank\">CSX</a> | <a href=\"gret_ree.htm#Abhsubh\" target=\"_blank\">REE</a> encoding</li>\n",
       "</ul></li>"
      ]
     },
     "execution_count": 22,
     "metadata": {},
     "output_type": "execute_result"
    }
   ],
   "source": [
    "soup.li"
   ]
  },
  {
   "cell_type": "code",
   "execution_count": 23,
   "metadata": {
    "collapsed": false
   },
   "outputs": [
    {
     "name": "stdout",
     "output_type": "stream",
     "text": [
      "gretil/1_sanskr/6_sastra/3_phil/buddh/abhsubhu.htm\n",
      "gret_csx.htm#Abhsubh\n",
      "gret_ree.htm#Abhsubh\n"
     ]
    }
   ],
   "source": [
    "for link in soup.li.find_all('a'):\n",
    "    print(link.get('href'))"
   ]
  },
  {
   "cell_type": "code",
   "execution_count": 24,
   "metadata": {
    "collapsed": false
   },
   "outputs": [
    {
     "data": {
      "text/plain": [
       "{'class': ['org-ol']}"
      ]
     },
     "execution_count": 24,
     "metadata": {},
     "output_type": "execute_result"
    }
   ],
   "source": [
    "soup.ol.attrs"
   ]
  },
  {
   "cell_type": "code",
   "execution_count": 25,
   "metadata": {
    "collapsed": false
   },
   "outputs": [
    {
     "data": {
      "text/plain": [
       "['org-ol']"
      ]
     },
     "execution_count": 25,
     "metadata": {},
     "output_type": "execute_result"
    }
   ],
   "source": [
    "soup.ol['class']"
   ]
  },
  {
   "cell_type": "code",
   "execution_count": 26,
   "metadata": {
    "collapsed": false
   },
   "outputs": [
    {
     "data": {
      "text/plain": [
       "'\\n'"
      ]
     },
     "execution_count": 26,
     "metadata": {},
     "output_type": "execute_result"
    }
   ],
   "source": [
    "soup.ol.contents[0]"
   ]
  },
  {
   "cell_type": "code",
   "execution_count": 27,
   "metadata": {
    "collapsed": false
   },
   "outputs": [
    {
     "data": {
      "text/plain": [
       "253"
      ]
     },
     "execution_count": 27,
     "metadata": {},
     "output_type": "execute_result"
    }
   ],
   "source": [
    "len(soup.ol.contents)\n",
    "# lots of \"\\n\", we'll remove those below"
   ]
  },
  {
   "cell_type": "code",
   "execution_count": 28,
   "metadata": {
    "collapsed": false
   },
   "outputs": [
    {
     "data": {
      "text/plain": [
       "126"
      ]
     },
     "execution_count": 28,
     "metadata": {},
     "output_type": "execute_result"
    }
   ],
   "source": [
    "corpora = [text for text in soup.ol.contents if text.name == 'li']\n",
    "len(corpora)"
   ]
  },
  {
   "cell_type": "code",
   "execution_count": 29,
   "metadata": {
    "collapsed": false
   },
   "outputs": [
    {
     "data": {
      "text/plain": [
       "<li>Aryadeva: Catuhsatika (input by members of the Sanskrit Buddhist Canon Input Project) <span id=\"DSBC_Sa028\"></span>\n",
       "<ul class=\"org-ul\">\n",
       "<li><a href=\"gretil/1_sanskr/6_sastra/3_phil/buddh/bsa028_u.htm\"><img alt=\"i_download.gif\" src=\"i_download.gif\" style=\"vertical-align:bottom\"/> bsa028_u.htm</a></li>\n",
       "<li>File(s) in <a href=\"gret_csx.htm#DSBC_Sa028\" target=\"_blank\">CSX</a> | <a href=\"gret_ree.htm#DSBC_Sa028\" target=\"_blank\">REE</a> encoding</li>\n",
       "</ul></li>"
      ]
     },
     "execution_count": 29,
     "metadata": {},
     "output_type": "execute_result"
    }
   ],
   "source": [
    "corpora[10]"
   ]
  },
  {
   "cell_type": "code",
   "execution_count": 30,
   "metadata": {
    "collapsed": false
   },
   "outputs": [
    {
     "data": {
      "text/plain": [
       "'Aryadeva: Catuhsatika (input by members of the Sanskrit Buddhist Canon Input Project)'"
      ]
     },
     "execution_count": 30,
     "metadata": {},
     "output_type": "execute_result"
    }
   ],
   "source": [
    "corpora[10].contents[0][:-1]  # we strip the \"\\n\" from the end"
   ]
  },
  {
   "cell_type": "code",
   "execution_count": 31,
   "metadata": {
    "collapsed": false
   },
   "outputs": [
    {
     "name": "stdout",
     "output_type": "stream",
     "text": [
      "Aryadeva: Catuhsatika (input by members of the Sanskrit Buddhist Canon Input Project)\n",
      "bsa028_u.htm\n",
      "File(s) in\n",
      "CSX\n",
      "|\n",
      "REE\n",
      "encoding\n"
     ]
    }
   ],
   "source": [
    "for s in corpora[10].stripped_strings:\n",
    "    print(s)"
   ]
  },
  {
   "cell_type": "code",
   "execution_count": 32,
   "metadata": {
    "collapsed": false
   },
   "outputs": [
    {
     "ename": "SyntaxError",
     "evalue": "invalid syntax (<ipython-input-32-db70f01ebda1>, line 7)",
     "output_type": "error",
     "traceback": [
      "\u001b[0;36m  File \u001b[0;32m\"<ipython-input-32-db70f01ebda1>\"\u001b[0;36m, line \u001b[0;32m7\u001b[0m\n\u001b[0;31m    'num_sents': '',\u001b[0m\n\u001b[0m               ^\u001b[0m\n\u001b[0;31mSyntaxError\u001b[0m\u001b[0;31m:\u001b[0m invalid syntax\n"
     ]
    }
   ],
   "source": [
    "# desired output\n",
    "\n",
    "{        'author': 'Aryadeva',\n",
    "          'title': 'Catuhsatika',\n",
    "         'source': 'input by members of the Sanskrit Buddhist Canon Input Project',\n",
    "            'url': 'http://gretil.sub.uni-goettingen.de/gretil/1_sanskr/6_sastra/3_phil/buddh/bsa028_u.htm'\n",
    "      'num_sents': '',\n",
    "      'num_words': '',\n",
    "      'num_vocab': '', # unique lemmas\n",
    "    'avglen_word': '', # = num_chars/num_words; should be property of Sanskrit, not dependent on author\n",
    "    'avglen_sent': '', # = num_words/num_sents; should depend on author\n",
    "'lexical_diversity': '', # = num_words/num_vocab; lower is more diverse; \n",
    "                         # higher implies lots of repetition of the same word; should depend on author\n",
    " \n",
    "}"
   ]
  },
  {
   "cell_type": "code",
   "execution_count": 33,
   "metadata": {
    "collapsed": false
   },
   "outputs": [
    {
     "data": {
      "text/plain": [
       "['Abhidharmasamuccayabhasya (input by members of the Sanskrit Buddhist Canon Input Project) ',\n",
       " 'Abhisamayalamkara [Abhisamayalankara] (input by members of the Sanskrit Buddhist Canon Input Project) ',\n",
       " 'Abhisamayalankarantah patinam (input by members of the Sanskrit Buddhist Canon Input Project) ',\n",
       " 'Abhisamayalankaravrttih sphutartha (input by members of the Sanskrit Buddhist Canon Input Project) ',\n",
       " 'Alambanapariksa (input by members of the Sanskrit Buddhist Canon Input Project) ',\n",
       " 'Alambanapariksa with Alambanapariksavrtti (input by members of the Sanskrit Buddhist Canon Input Project) ',\n",
       " 'Antarvyaptisamarthana (input by members of the Sanskrit Buddhist Canon Input Project) ',\n",
       " \"Arcata: Hetubindutika [comm. on Dharmakirti's Hetubindu] (provided by Helmut Krasser) \",\n",
       " 'Arcata: Hetubindutika [alternative version] (input by members of the Sanskrit Buddhist Canon Input Project) ',\n",
       " 'Aryadeva: Caryamelavanapradipa (input by members of the Sanskrit Buddhist Canon Input Project) ',\n",
       " 'Aryadeva: Catuhsatika (input by members of the Sanskrit Buddhist Canon Input Project) ',\n",
       " 'Aryadeva: Cittavisuddhiprakarana (input by members of the Sanskrit Buddhist Canon Input Project) ',\n",
       " 'Aryasura: Paramitasamasa (input by members of the Sanskrit Buddhist Canon Input Project) ',\n",
       " 'Asanga: Abhidharmasamuccaya (input by members of the Sanskrit Buddhist Canon Input Project) ',\n",
       " 'Asvaghosa: Gurupancasika (input by members of the Sanskrit Buddhist Canon Input Project) ',\n",
       " 'Asvaghosa: Vajrasuci (input by members of the Sanskrit Buddhist Canon Input Project) ',\n",
       " 'Bhiksukarmavakya (input by members of the Sanskrit Buddhist Canon Input Project) ',\n",
       " 'Bodhipathapradipa (input by members of the Sanskrit Buddhist Canon Input Project) ',\n",
       " 'Bodhisattvabhumi (input by members of the Sanskrit Buddhist Canon Input Project) ',\n",
       " 'Candrakirti: Prasannapada [or Madhyamakasastravrtti] (input by members of the Sanskrit Buddhist Canon Input Project) ',\n",
       " 'Dharmakirti: Hetubindu ',\n",
       " 'Dharmakirti: Nyayabindu ',\n",
       " 'Dharmakirti: Nyayabinduprakarana (input by members of the Sanskrit Buddhist Canon Input Project) ',\n",
       " 'Dharmakirti: Pramanavarttikakarika (input by Motoi Ono) ',\n",
       " 'Dharmakirti: Pramanavarttikasvavrtti (input by Motoi Ono) ',\n",
       " 'Dharmakirti: Pramanaviniscaya (fragment) (input by Klaus Wille) ',\n",
       " \"Dharmakirti: Sambandhapariksa, with Prabhacandra's commentary \",\n",
       " 'Dharmakirti: Samtanantarasiddhi (input by members of the Sanskrit Buddhist Canon Input Project) ',\n",
       " 'Dharmakirti: Vadanyaya ',\n",
       " 'Dharmasamuccaya (input by members of the Sanskrit Buddhist Canon Input Project) ',\n",
       " 'Dignaga [ = Dinnaga]: Prajnaparamitapindartha (input by members of the Sanskrit Buddhist Canon Input Project) ',\n",
       " 'Dignaga [ = Dinnaga]: Yogavatara (input by members of the Sanskrit Buddhist Canon Input Project) ',\n",
       " 'Dipankarasrijnana [ = Dipamkarasrijnana = Atisa]: Apattidesanavidhi (input by members of the Sanskrit Buddhist Canon Input Project) ',\n",
       " 'Dipankarasrijnana [ = Dipamkarasrijnana = Atisa]: Bodhisattvadikarmikamargavataradesana (input by members of the Sanskrit Buddhist Canon Input Project) ',\n",
       " 'Dipankarasrijnana [ = Dipamkarasrijnana = Atisa]: Caryasamgrahapradipa (input by members of the Sanskrit Buddhist Canon Input Project) ',\n",
       " 'Dipankarasrijnana [ = Dipamkarasrijnana = Atisa]: Cittotpadasamvaravidhikrama (input by members of the Sanskrit Buddhist Canon Input Project) ',\n",
       " 'Dipankarasrijnana [ = Dipamkarasrijnana = Atisa]: Dasakusalakarmapathadesana (input by members of the Sanskrit Buddhist Canon Input Project) ',\n",
       " 'Dipankarasrijnana [ = Dipamkarasrijnana = Atisa]: Gurukriyakrama (input by members of the Sanskrit Buddhist Canon Input Project) ',\n",
       " 'Dipankarasrijnana [ = Dipamkarasrijnana = Atisa] Mahayanapathasadhanasamgraha (input by members of the Sanskrit Buddhist Canon Input Project) ',\n",
       " 'Dipankarasrijnana [ = Dipamkarasrijnana = Atisa]: Samadhisambharaparivarta (input by members of the Sanskrit Buddhist Canon Input Project) ',\n",
       " 'Dipankarasrijnana [ = Dipamkarasrijnana = Atisa]: Saranagamanadesana (input by members of the Sanskrit Buddhist Canon Input Project) ',\n",
       " 'Dipankarasrijnana [ = Dipamkarasrijnana = Atisa]: Satyadvayavataranama (input by members of the Sanskrit Buddhist Canon Input Project) ',\n",
       " 'Dipankarasrijnana [ = Dipamkarasrijnana = Atisa]: Sutrarthasamuccayopadesa (input by members of the Sanskrit Buddhist Canon Input Project) ',\n",
       " 'Durveka Misra: Dharmottarapradipa (provided by Helmut Krasser) ',\n",
       " \"< [subcomm. on Arcata's Hetubindutika] (provided by Helmut Krasser) \",\n",
       " 'Garbhasamgraha (input by members of the Sanskrit Buddhist Canon Input Project) ',\n",
       " 'Haribhadrasuri: Nyayapravesapravrtti (input by members of the Sanskrit Buddhist Canon Input Project) ',\n",
       " 'Harivarman: Satyasiddhisastra (input by Udip Shakya) ',\n",
       " 'Hastavalaprakaranavrtti (input by members of the Sanskrit Buddhist Canon Input Project) ',\n",
       " 'Jitari: Hetutattvopadesa (input by members of the Sanskrit Buddhist Canon Input Project) ',\n",
       " 'Jitari: Hetutattvopadesa [alternative version] (input by Klaus Wille) ',\n",
       " 'Kamalasila: Bhavanakrama (input by members of the Sanskrit Buddhist Canon Input Project) ',\n",
       " 'Kamalasila: Madhyamakaloka (input by members of the Sanskrit Buddhist Canon Input Project) ',\n",
       " 'Madhyamakavatara (input by members of the Sanskrit Buddhist Canon Input Project) ',\n",
       " 'Mahayanasutralamkara (input by members of the Sanskrit Buddhist Canon Input Project) ',\n",
       " 'Maitreyanatha: Bhavasamkrantitika (input by members of the Sanskrit Buddhist Canon Input Project) ',\n",
       " 'Maitreyanatha [attrib.]: Madhyantavibhagakarika (input by members of the Sanskrit Buddhist Canon Input Project) ',\n",
       " 'Nagarjuna: Acintyastava (input by Richard Mahoney) ',\n",
       " 'Nagarjuna: Bhavasamkrantiparikatha (input by members of the Sanskrit Buddhist Canon Input Project) ',\n",
       " 'Nagarjuna: Bodhicittavivarana (input by Richard Mahoney) ',\n",
       " 'Nagarjuna: Dharmadhatugarbhavivarana (input by members of the Sanskrit Buddhist Canon Input Project) ',\n",
       " 'Nagarjuna: Dharmasamgraha [Dharmasangraha] (input by members of the Sanskrit Buddhist Canon Input Project) ',\n",
       " 'Nagarjuna: Kriyasamgrahakarika (input by members of the Sanskrit Buddhist Canon Input Project) ',\n",
       " 'Nagarjuna: Lokatitastava (input by Richard Mahoney) ',\n",
       " 'Nagarjuna: Madhyamakasastra [Karika only!] (input by members of the Sanskrit Buddhist Canon Input Project) ',\n",
       " 'Nagarjuna: Mahayanavimsika (input by members of the Sanskrit Buddhist Canon Input Project) ',\n",
       " 'Nagarjuna: Mulamadhyamakakarika (input by Douglas Bachman, revised by Richard Mahoney) ',\n",
       " 'Nagarjuna: Pancakrama (input by members of the Sanskrit Buddhist Canon Input Project) ',\n",
       " 'Nagarjuna: Pindikrama [transmitted as krama 1 of Pancakrama] (input by members of the Sanskrit Buddhist Canon Input Project) ',\n",
       " 'Nagarjuna: Pratityasamutpadahrdayakarika (input by members of the Sanskrit Buddhist Canon Input Project) ',\n",
       " 'Nagarjuna: Pratityasamutpadahrdayavyakhyana (input by members of the Sanskrit Buddhist Canon Input Project) ',\n",
       " 'Nagarjuna: Ratnavali [1-2.46, and 4; Sanskrit text of 2.47-95 and 3 lost] (input by members of the Sanskrit Buddhist Canon Input Project) ',\n",
       " 'Nagarjuna: Ratnavali 1, 2 & 4 (input by Richard Mahoney) ',\n",
       " 'Nagarjuna: Salistambakakarika (input by members of the Sanskrit Buddhist Canon Input Project) ',\n",
       " 'Nagarjuna: Salistambakamahayanasutratika (input by members of the Sanskrit Buddhist Canon Input Project) ',\n",
       " 'Nagarjuna: Suhrllekha (input by members of the Sanskrit Buddhist Canon Input Project) ',\n",
       " 'Nagarjuna: Sunyatasaptati (input by members of the Sanskrit Buddhist Canon Input Project) ',\n",
       " 'Nagarjuna: Vigrahavyavartani (input by Klaus Wille) ',\n",
       " 'Nagarjuna: Vigrahavyavartani [karikas only] (input by Richard Mahoney) ',\n",
       " 'Nagarjuna: Vigrahavyavartini [karikas only, alternative version] (input by members of the Sanskrit Buddhist Canon Input Project) ',\n",
       " 'Nagarjuna: Yuktisastikarika (input by Richard Mahoney) ',\n",
       " 'Nagarjuna: Yuktisastikarika [alternative version] (input by members of the Sanskrit Buddhist Canon Input Project) ',\n",
       " 'Naropa: Sekoddesa (input by members of the Sanskrit Buddhist Canon Input Project) ',\n",
       " 'Panditasoka: Avayavinirakarana (input by members of the Sanskrit Buddhist Canon Input Project) ',\n",
       " 'Panditasoka: Samanyadusanadikprasarita (input by members of the Sanskrit Buddhist Canon Input Project) ',\n",
       " \"Prajnakaramati: Bodhicaryavatarapanjika [comm. on Santideva's Bodhicaryavatara] (input by members of the Sanskrit Buddhist Canon Input Project) \",\n",
       " 'Pramanavartika (input by members of the Sanskrit Buddhist Canon Input Project) ',\n",
       " 'Ratnagotravibhaga (input by members of the Sanskrit Buddhist Canon Input Project) ',\n",
       " 'Ratnakirti: Apohasiddhi (input by members of the Sanskrit Buddhist Canon Input Project) ',\n",
       " 'Ratnakirti: Ksanabhangasiddhi (input by members of the Sanskrit Buddhist Canon Input Project) ',\n",
       " 'Ratnakirti: Ksanabhangasiddhir Vyatirekatmika (input by Somadeva Vasudeva) ',\n",
       " 'Ratnakirti: Ksanabhangasiddhir Vyatirekatmika (input by members of the Sanskrit Buddhist Canon Input Project) ',\n",
       " 'Ratnakirti: Nibandhavali (input by members of the Sanskrit Buddhist Canon Input Project) ',\n",
       " 'Ratnakirti (?): Vadarahasya, also known as Udayananirakarana (input by members of the Sanskrit Buddhist Canon Input Project) ',\n",
       " 'Sakyabuddhi: Pramanavarttikatika (input by Klaus Wille) ',\n",
       " 'Santaraksita: Tattvasamgraha [grammatical analysis] (input by Timothy Cahill and Elliot Stern) ',\n",
       " 'Santideva: Bodhicaryavatara (input by Richard Mahoney) ',\n",
       " 'Santideva: Bodhicaryavatara [alternative version] (input by members of the Sanskrit Buddhist Canon Input Project) ',\n",
       " 'Santideva: Siksasamuccaya (input by Mirek Rozehnahl and Jens Braarvig) ',\n",
       " 'Siksasamuccayakarika (input by members of the Sanskrit Buddhist Canon Input Project) ',\n",
       " 'Sthiramati: Trimsikavijnaptibhasya\\n',\n",
       " 'Sunyasamadhipada: Tattvajnanasamsiddhi (input by members of the Sanskrit Buddhist Canon Input Project) ',\n",
       " 'Tarkabhasa (input by members of the Sanskrit Buddhist Canon Input Project) ',\n",
       " 'Tarkarahasya (provided by Helmut Krasser) ',\n",
       " 'Tarkarahasya, Pratyaksalaksana (provided by Helmut Krasser) ',\n",
       " 'Tarkasastra (input by members of the Sanskrit Buddhist Canon Input Project) ',\n",
       " 'Tattvaratnavaloka (input by members of the Sanskrit Buddhist Canon Input Project) ',\n",
       " 'Upayahrdaya (input by members of the Sanskrit Buddhist Canon Input Project) ',\n",
       " 'Vararuci: Satagatha (input by members of the Sanskrit Buddhist Canon Input Project) ',\n",
       " 'Vasubandhu: Abhidharmakosabhasya (input by N.N., edited & revised by Paul Hackett and Dan Lusthaus) ',\n",
       " 'Vasubandhu: Abhidharmakosa [Karikas only] (input by members of the Sanskrit Buddhist Canon Input Project) ',\n",
       " 'Vasubandhu: Bodhicittotpadasutrasastra (input by members of the Sanskrit Buddhist Canon Input Project) ',\n",
       " \"Vasubandhu: Madhyantavibhagakarikabhasya, a commentary on Maitreyanatha's Madhyantavibhagakarika (input by Klaus Wille) \",\n",
       " 'Vasubandhu: Pancaskandhaprakarana (input by members of the Sanskrit Buddhist Canon Input Project) ',\n",
       " 'Vasubandhu: Trimsikavijnaptikarika (input by members of the Sanskrit Buddhist Canon Input Project) ',\n",
       " \"Vasubandhu: Trimsikavijnaptikarika, with Sthiramati's Trimsikavijnaptibhasya (input by Takamichi Fukita and Klaus Wille) \",\n",
       " 'Vasubandhu: Trisvabhavanirdesa (input by members of the Sanskrit Buddhist Canon Input Project) ',\n",
       " 'Vasubandhu: Vimsatika vijnaptimatratasiddhi (input by Takamichi Fukita) ',\n",
       " 'Vidyakarasanti: Tarkasopana (input by Klaus Wille) ',\n",
       " 'Vimalamitra(?): Abhidharmadipa, with auto(?)-commentary Vibhasaprabhasavrtti (input by members of the Sanskrit Buddhist Canon Input Project) ',\n",
       " 'Vimalamitra(?): Abhidharmadipa, Karikas extracted from the commented text (input by members of the Sanskrit Buddhist Canon Input Project) ',\n",
       " 'Vimalamitra(?): Abhidharmadipa, Karikas 1-383 (alternative version) (input by members of the Sanskrit Buddhist Canon Input Project) ',\n",
       " 'Vimsatikakarika (input by members of the Sanskrit Buddhist Canon Input Project) ',\n",
       " 'Vimsikavrtti (input by members of the Sanskrit Buddhist Canon Input Project) ',\n",
       " 'Vinitadeva: Samtanantarasiddhitika (input by members of the Sanskrit Buddhist Canon Input Project) ',\n",
       " 'Yasomitra: Sphutartha Abhidharmakosavyakhya (input by Seishi Karashima) ']"
      ]
     },
     "execution_count": 33,
     "metadata": {},
     "output_type": "execute_result"
    }
   ],
   "source": [
    "[c.contents[0] for c in corpora]"
   ]
  },
  {
   "cell_type": "code",
   "execution_count": 40,
   "metadata": {
    "collapsed": false
   },
   "outputs": [
    {
     "name": "stdout",
     "output_type": "stream",
     "text": [
      "Aryadeva: Catuhsatika (input by members of the Sanskrit Buddhist Canon Input Project) \n",
      "{'author': 'Aryadeva', 'source': 'input by members of the Sanskrit Buddhist Canon Input Project', 'title': 'Catuhsatika (input by members of the Sanskrit Buddhist Canon Input Project'}\n"
     ]
    }
   ],
   "source": [
    "def get_author_title_source(corpus):\n",
    "    entry = corpus.contents[0]\n",
    "    \n",
    "    if re.findall(r\".+:\", entry):\n",
    "        author = re.findall(r\".+:\", entry)[0][:-1]\n",
    "        title = re.findall(r\": .+ \\(*\", entry)[0][2:-2]\n",
    "    else:\n",
    "        author = \"AUTHOR WANTED\"\n",
    "        title = re.findall(r\".+ \\(*\", entry)[0][:-2]\n",
    "        \n",
    "    if re.findall(r\"\\(.+\\)\", entry):\n",
    "        source = re.findall(r\"\\(.+\\)\", entry)[0][1:-1]\n",
    "    else:\n",
    "        source = \"UNKNOWN\"\n",
    "        \n",
    "    o = { \"author\": author,\n",
    "          \"title\": title,\n",
    "          \"source\": source}\n",
    "    print(o)\n",
    "\n",
    "print(corpora[10].contents[0])\n",
    "get_author_title_source(corpora[10])"
   ]
  },
  {
   "cell_type": "code",
   "execution_count": 41,
   "metadata": {
    "collapsed": false
   },
   "outputs": [
    {
     "name": "stdout",
     "output_type": "stream",
     "text": [
      "{'author': 'AUTHOR WANTED', 'source': 'input by members of the Sanskrit Buddhist Canon Input Project', 'title': 'Abhidharmasamuccayabhasya (input by members of the Sanskrit Buddhist Canon Input Project'}\n",
      "{'author': 'AUTHOR WANTED', 'source': 'input by members of the Sanskrit Buddhist Canon Input Project', 'title': 'Abhisamayalamkara [Abhisamayalankara] (input by members of the Sanskrit Buddhist Canon Input Project'}\n",
      "{'author': 'AUTHOR WANTED', 'source': 'input by members of the Sanskrit Buddhist Canon Input Project', 'title': 'Abhisamayalankarantah patinam (input by members of the Sanskrit Buddhist Canon Input Project'}\n",
      "{'author': 'AUTHOR WANTED', 'source': 'input by members of the Sanskrit Buddhist Canon Input Project', 'title': 'Abhisamayalankaravrttih sphutartha (input by members of the Sanskrit Buddhist Canon Input Project'}\n",
      "{'author': 'AUTHOR WANTED', 'source': 'input by members of the Sanskrit Buddhist Canon Input Project', 'title': 'Alambanapariksa (input by members of the Sanskrit Buddhist Canon Input Project'}\n",
      "{'author': 'AUTHOR WANTED', 'source': 'input by members of the Sanskrit Buddhist Canon Input Project', 'title': 'Alambanapariksa with Alambanapariksavrtti (input by members of the Sanskrit Buddhist Canon Input Project'}\n",
      "{'author': 'AUTHOR WANTED', 'source': 'input by members of the Sanskrit Buddhist Canon Input Project', 'title': 'Antarvyaptisamarthana (input by members of the Sanskrit Buddhist Canon Input Project'}\n",
      "{'author': 'Arcata', 'source': 'provided by Helmut Krasser', 'title': \"Hetubindutika [comm. on Dharmakirti's Hetubindu] (provided by Helmut Krasser\"}\n",
      "{'author': 'Arcata', 'source': 'input by members of the Sanskrit Buddhist Canon Input Project', 'title': 'Hetubindutika [alternative version] (input by members of the Sanskrit Buddhist Canon Input Project'}\n",
      "{'author': 'Aryadeva', 'source': 'input by members of the Sanskrit Buddhist Canon Input Project', 'title': 'Caryamelavanapradipa (input by members of the Sanskrit Buddhist Canon Input Project'}\n",
      "{'author': 'Aryadeva', 'source': 'input by members of the Sanskrit Buddhist Canon Input Project', 'title': 'Catuhsatika (input by members of the Sanskrit Buddhist Canon Input Project'}\n",
      "{'author': 'Aryadeva', 'source': 'input by members of the Sanskrit Buddhist Canon Input Project', 'title': 'Cittavisuddhiprakarana (input by members of the Sanskrit Buddhist Canon Input Project'}\n",
      "{'author': 'Aryasura', 'source': 'input by members of the Sanskrit Buddhist Canon Input Project', 'title': 'Paramitasamasa (input by members of the Sanskrit Buddhist Canon Input Project'}\n",
      "{'author': 'Asanga', 'source': 'input by members of the Sanskrit Buddhist Canon Input Project', 'title': 'Abhidharmasamuccaya (input by members of the Sanskrit Buddhist Canon Input Project'}\n",
      "{'author': 'Asvaghosa', 'source': 'input by members of the Sanskrit Buddhist Canon Input Project', 'title': 'Gurupancasika (input by members of the Sanskrit Buddhist Canon Input Project'}\n",
      "{'author': 'Asvaghosa', 'source': 'input by members of the Sanskrit Buddhist Canon Input Project', 'title': 'Vajrasuci (input by members of the Sanskrit Buddhist Canon Input Project'}\n",
      "{'author': 'AUTHOR WANTED', 'source': 'input by members of the Sanskrit Buddhist Canon Input Project', 'title': 'Bhiksukarmavakya (input by members of the Sanskrit Buddhist Canon Input Project'}\n",
      "{'author': 'AUTHOR WANTED', 'source': 'input by members of the Sanskrit Buddhist Canon Input Project', 'title': 'Bodhipathapradipa (input by members of the Sanskrit Buddhist Canon Input Project'}\n",
      "{'author': 'AUTHOR WANTED', 'source': 'input by members of the Sanskrit Buddhist Canon Input Project', 'title': 'Bodhisattvabhumi (input by members of the Sanskrit Buddhist Canon Input Project'}\n",
      "{'author': 'Candrakirti', 'source': 'input by members of the Sanskrit Buddhist Canon Input Project', 'title': 'Prasannapada [or Madhyamakasastravrtti] (input by members of the Sanskrit Buddhist Canon Input Project'}\n",
      "{'author': 'Dharmakirti', 'source': 'UNKNOWN', 'title': 'Hetubind'}\n",
      "{'author': 'Dharmakirti', 'source': 'UNKNOWN', 'title': 'Nyayabind'}\n",
      "{'author': 'Dharmakirti', 'source': 'input by members of the Sanskrit Buddhist Canon Input Project', 'title': 'Nyayabinduprakarana (input by members of the Sanskrit Buddhist Canon Input Project'}\n",
      "{'author': 'Dharmakirti', 'source': 'input by Motoi Ono', 'title': 'Pramanavarttikakarika (input by Motoi Ono'}\n",
      "{'author': 'Dharmakirti', 'source': 'input by Motoi Ono', 'title': 'Pramanavarttikasvavrtti (input by Motoi Ono'}\n",
      "{'author': 'Dharmakirti', 'source': 'fragment) (input by Klaus Wille', 'title': 'Pramanaviniscaya (fragment) (input by Klaus Wille'}\n",
      "{'author': 'Dharmakirti', 'source': 'UNKNOWN', 'title': \"Sambandhapariksa, with Prabhacandra's commentar\"}\n",
      "{'author': 'Dharmakirti', 'source': 'input by members of the Sanskrit Buddhist Canon Input Project', 'title': 'Samtanantarasiddhi (input by members of the Sanskrit Buddhist Canon Input Project'}\n",
      "{'author': 'Dharmakirti', 'source': 'UNKNOWN', 'title': 'Vadanyay'}\n",
      "{'author': 'AUTHOR WANTED', 'source': 'input by members of the Sanskrit Buddhist Canon Input Project', 'title': 'Dharmasamuccaya (input by members of the Sanskrit Buddhist Canon Input Project'}\n",
      "{'author': 'Dignaga [ = Dinnaga]', 'source': 'input by members of the Sanskrit Buddhist Canon Input Project', 'title': 'Prajnaparamitapindartha (input by members of the Sanskrit Buddhist Canon Input Project'}\n",
      "{'author': 'Dignaga [ = Dinnaga]', 'source': 'input by members of the Sanskrit Buddhist Canon Input Project', 'title': 'Yogavatara (input by members of the Sanskrit Buddhist Canon Input Project'}\n",
      "{'author': 'Dipankarasrijnana [ = Dipamkarasrijnana = Atisa]', 'source': 'input by members of the Sanskrit Buddhist Canon Input Project', 'title': 'Apattidesanavidhi (input by members of the Sanskrit Buddhist Canon Input Project'}\n",
      "{'author': 'Dipankarasrijnana [ = Dipamkarasrijnana = Atisa]', 'source': 'input by members of the Sanskrit Buddhist Canon Input Project', 'title': 'Bodhisattvadikarmikamargavataradesana (input by members of the Sanskrit Buddhist Canon Input Project'}\n",
      "{'author': 'Dipankarasrijnana [ = Dipamkarasrijnana = Atisa]', 'source': 'input by members of the Sanskrit Buddhist Canon Input Project', 'title': 'Caryasamgrahapradipa (input by members of the Sanskrit Buddhist Canon Input Project'}\n",
      "{'author': 'Dipankarasrijnana [ = Dipamkarasrijnana = Atisa]', 'source': 'input by members of the Sanskrit Buddhist Canon Input Project', 'title': 'Cittotpadasamvaravidhikrama (input by members of the Sanskrit Buddhist Canon Input Project'}\n",
      "{'author': 'Dipankarasrijnana [ = Dipamkarasrijnana = Atisa]', 'source': 'input by members of the Sanskrit Buddhist Canon Input Project', 'title': 'Dasakusalakarmapathadesana (input by members of the Sanskrit Buddhist Canon Input Project'}\n",
      "{'author': 'Dipankarasrijnana [ = Dipamkarasrijnana = Atisa]', 'source': 'input by members of the Sanskrit Buddhist Canon Input Project', 'title': 'Gurukriyakrama (input by members of the Sanskrit Buddhist Canon Input Project'}\n",
      "{'author': 'AUTHOR WANTED', 'source': 'input by members of the Sanskrit Buddhist Canon Input Project', 'title': 'Dipankarasrijnana [ = Dipamkarasrijnana = Atisa] Mahayanapathasadhanasamgraha (input by members of the Sanskrit Buddhist Canon Input Project'}\n",
      "{'author': 'Dipankarasrijnana [ = Dipamkarasrijnana = Atisa]', 'source': 'input by members of the Sanskrit Buddhist Canon Input Project', 'title': 'Samadhisambharaparivarta (input by members of the Sanskrit Buddhist Canon Input Project'}\n",
      "{'author': 'Dipankarasrijnana [ = Dipamkarasrijnana = Atisa]', 'source': 'input by members of the Sanskrit Buddhist Canon Input Project', 'title': 'Saranagamanadesana (input by members of the Sanskrit Buddhist Canon Input Project'}\n",
      "{'author': 'Dipankarasrijnana [ = Dipamkarasrijnana = Atisa]', 'source': 'input by members of the Sanskrit Buddhist Canon Input Project', 'title': 'Satyadvayavataranama (input by members of the Sanskrit Buddhist Canon Input Project'}\n",
      "{'author': 'Dipankarasrijnana [ = Dipamkarasrijnana = Atisa]', 'source': 'input by members of the Sanskrit Buddhist Canon Input Project', 'title': 'Sutrarthasamuccayopadesa (input by members of the Sanskrit Buddhist Canon Input Project'}\n",
      "{'author': 'Durveka Misra', 'source': 'provided by Helmut Krasser', 'title': 'Dharmottarapradipa (provided by Helmut Krasser'}\n",
      "{'author': 'AUTHOR WANTED', 'source': 'provided by Helmut Krasser', 'title': \"< [subcomm. on Arcata's Hetubindutika] (provided by Helmut Krasser\"}\n",
      "{'author': 'AUTHOR WANTED', 'source': 'input by members of the Sanskrit Buddhist Canon Input Project', 'title': 'Garbhasamgraha (input by members of the Sanskrit Buddhist Canon Input Project'}\n",
      "{'author': 'Haribhadrasuri', 'source': 'input by members of the Sanskrit Buddhist Canon Input Project', 'title': 'Nyayapravesapravrtti (input by members of the Sanskrit Buddhist Canon Input Project'}\n",
      "{'author': 'Harivarman', 'source': 'input by Udip Shakya', 'title': 'Satyasiddhisastra (input by Udip Shakya'}\n",
      "{'author': 'AUTHOR WANTED', 'source': 'input by members of the Sanskrit Buddhist Canon Input Project', 'title': 'Hastavalaprakaranavrtti (input by members of the Sanskrit Buddhist Canon Input Project'}\n",
      "{'author': 'Jitari', 'source': 'input by members of the Sanskrit Buddhist Canon Input Project', 'title': 'Hetutattvopadesa (input by members of the Sanskrit Buddhist Canon Input Project'}\n",
      "{'author': 'Jitari', 'source': 'input by Klaus Wille', 'title': 'Hetutattvopadesa [alternative version] (input by Klaus Wille'}\n",
      "{'author': 'Kamalasila', 'source': 'input by members of the Sanskrit Buddhist Canon Input Project', 'title': 'Bhavanakrama (input by members of the Sanskrit Buddhist Canon Input Project'}\n",
      "{'author': 'Kamalasila', 'source': 'input by members of the Sanskrit Buddhist Canon Input Project', 'title': 'Madhyamakaloka (input by members of the Sanskrit Buddhist Canon Input Project'}\n",
      "{'author': 'AUTHOR WANTED', 'source': 'input by members of the Sanskrit Buddhist Canon Input Project', 'title': 'Madhyamakavatara (input by members of the Sanskrit Buddhist Canon Input Project'}\n",
      "{'author': 'AUTHOR WANTED', 'source': 'input by members of the Sanskrit Buddhist Canon Input Project', 'title': 'Mahayanasutralamkara (input by members of the Sanskrit Buddhist Canon Input Project'}\n",
      "{'author': 'Maitreyanatha', 'source': 'input by members of the Sanskrit Buddhist Canon Input Project', 'title': 'Bhavasamkrantitika (input by members of the Sanskrit Buddhist Canon Input Project'}\n",
      "{'author': 'Maitreyanatha [attrib.]', 'source': 'input by members of the Sanskrit Buddhist Canon Input Project', 'title': 'Madhyantavibhagakarika (input by members of the Sanskrit Buddhist Canon Input Project'}\n",
      "{'author': 'Nagarjuna', 'source': 'input by Richard Mahoney', 'title': 'Acintyastava (input by Richard Mahoney'}\n",
      "{'author': 'Nagarjuna', 'source': 'input by members of the Sanskrit Buddhist Canon Input Project', 'title': 'Bhavasamkrantiparikatha (input by members of the Sanskrit Buddhist Canon Input Project'}\n",
      "{'author': 'Nagarjuna', 'source': 'input by Richard Mahoney', 'title': 'Bodhicittavivarana (input by Richard Mahoney'}\n",
      "{'author': 'Nagarjuna', 'source': 'input by members of the Sanskrit Buddhist Canon Input Project', 'title': 'Dharmadhatugarbhavivarana (input by members of the Sanskrit Buddhist Canon Input Project'}\n",
      "{'author': 'Nagarjuna', 'source': 'input by members of the Sanskrit Buddhist Canon Input Project', 'title': 'Dharmasamgraha [Dharmasangraha] (input by members of the Sanskrit Buddhist Canon Input Project'}\n",
      "{'author': 'Nagarjuna', 'source': 'input by members of the Sanskrit Buddhist Canon Input Project', 'title': 'Kriyasamgrahakarika (input by members of the Sanskrit Buddhist Canon Input Project'}\n",
      "{'author': 'Nagarjuna', 'source': 'input by Richard Mahoney', 'title': 'Lokatitastava (input by Richard Mahoney'}\n",
      "{'author': 'Nagarjuna', 'source': 'input by members of the Sanskrit Buddhist Canon Input Project', 'title': 'Madhyamakasastra [Karika only!] (input by members of the Sanskrit Buddhist Canon Input Project'}\n",
      "{'author': 'Nagarjuna', 'source': 'input by members of the Sanskrit Buddhist Canon Input Project', 'title': 'Mahayanavimsika (input by members of the Sanskrit Buddhist Canon Input Project'}\n",
      "{'author': 'Nagarjuna', 'source': 'input by Douglas Bachman, revised by Richard Mahoney', 'title': 'Mulamadhyamakakarika (input by Douglas Bachman, revised by Richard Mahoney'}\n",
      "{'author': 'Nagarjuna', 'source': 'input by members of the Sanskrit Buddhist Canon Input Project', 'title': 'Pancakrama (input by members of the Sanskrit Buddhist Canon Input Project'}\n",
      "{'author': 'Nagarjuna', 'source': 'input by members of the Sanskrit Buddhist Canon Input Project', 'title': 'Pindikrama [transmitted as krama 1 of Pancakrama] (input by members of the Sanskrit Buddhist Canon Input Project'}\n",
      "{'author': 'Nagarjuna', 'source': 'input by members of the Sanskrit Buddhist Canon Input Project', 'title': 'Pratityasamutpadahrdayakarika (input by members of the Sanskrit Buddhist Canon Input Project'}\n",
      "{'author': 'Nagarjuna', 'source': 'input by members of the Sanskrit Buddhist Canon Input Project', 'title': 'Pratityasamutpadahrdayavyakhyana (input by members of the Sanskrit Buddhist Canon Input Project'}\n",
      "{'author': 'Nagarjuna', 'source': 'input by members of the Sanskrit Buddhist Canon Input Project', 'title': 'Ratnavali [1-2.46, and 4; Sanskrit text of 2.47-95 and 3 lost] (input by members of the Sanskrit Buddhist Canon Input Project'}\n",
      "{'author': 'Nagarjuna', 'source': 'input by Richard Mahoney', 'title': 'Ratnavali 1, 2 & 4 (input by Richard Mahoney'}\n",
      "{'author': 'Nagarjuna', 'source': 'input by members of the Sanskrit Buddhist Canon Input Project', 'title': 'Salistambakakarika (input by members of the Sanskrit Buddhist Canon Input Project'}\n",
      "{'author': 'Nagarjuna', 'source': 'input by members of the Sanskrit Buddhist Canon Input Project', 'title': 'Salistambakamahayanasutratika (input by members of the Sanskrit Buddhist Canon Input Project'}\n",
      "{'author': 'Nagarjuna', 'source': 'input by members of the Sanskrit Buddhist Canon Input Project', 'title': 'Suhrllekha (input by members of the Sanskrit Buddhist Canon Input Project'}\n",
      "{'author': 'Nagarjuna', 'source': 'input by members of the Sanskrit Buddhist Canon Input Project', 'title': 'Sunyatasaptati (input by members of the Sanskrit Buddhist Canon Input Project'}\n",
      "{'author': 'Nagarjuna', 'source': 'input by Klaus Wille', 'title': 'Vigrahavyavartani (input by Klaus Wille'}\n",
      "{'author': 'Nagarjuna', 'source': 'input by Richard Mahoney', 'title': 'Vigrahavyavartani [karikas only] (input by Richard Mahoney'}\n",
      "{'author': 'Nagarjuna', 'source': 'input by members of the Sanskrit Buddhist Canon Input Project', 'title': 'Vigrahavyavartini [karikas only, alternative version] (input by members of the Sanskrit Buddhist Canon Input Project'}\n",
      "{'author': 'Nagarjuna', 'source': 'input by Richard Mahoney', 'title': 'Yuktisastikarika (input by Richard Mahoney'}\n",
      "{'author': 'Nagarjuna', 'source': 'input by members of the Sanskrit Buddhist Canon Input Project', 'title': 'Yuktisastikarika [alternative version] (input by members of the Sanskrit Buddhist Canon Input Project'}\n",
      "{'author': 'Naropa', 'source': 'input by members of the Sanskrit Buddhist Canon Input Project', 'title': 'Sekoddesa (input by members of the Sanskrit Buddhist Canon Input Project'}\n",
      "{'author': 'Panditasoka', 'source': 'input by members of the Sanskrit Buddhist Canon Input Project', 'title': 'Avayavinirakarana (input by members of the Sanskrit Buddhist Canon Input Project'}\n",
      "{'author': 'Panditasoka', 'source': 'input by members of the Sanskrit Buddhist Canon Input Project', 'title': 'Samanyadusanadikprasarita (input by members of the Sanskrit Buddhist Canon Input Project'}\n",
      "{'author': 'Prajnakaramati', 'source': 'input by members of the Sanskrit Buddhist Canon Input Project', 'title': \"Bodhicaryavatarapanjika [comm. on Santideva's Bodhicaryavatara] (input by members of the Sanskrit Buddhist Canon Input Project\"}\n",
      "{'author': 'AUTHOR WANTED', 'source': 'input by members of the Sanskrit Buddhist Canon Input Project', 'title': 'Pramanavartika (input by members of the Sanskrit Buddhist Canon Input Project'}\n",
      "{'author': 'AUTHOR WANTED', 'source': 'input by members of the Sanskrit Buddhist Canon Input Project', 'title': 'Ratnagotravibhaga (input by members of the Sanskrit Buddhist Canon Input Project'}\n",
      "{'author': 'Ratnakirti', 'source': 'input by members of the Sanskrit Buddhist Canon Input Project', 'title': 'Apohasiddhi (input by members of the Sanskrit Buddhist Canon Input Project'}\n",
      "{'author': 'Ratnakirti', 'source': 'input by members of the Sanskrit Buddhist Canon Input Project', 'title': 'Ksanabhangasiddhi (input by members of the Sanskrit Buddhist Canon Input Project'}\n",
      "{'author': 'Ratnakirti', 'source': 'input by Somadeva Vasudeva', 'title': 'Ksanabhangasiddhir Vyatirekatmika (input by Somadeva Vasudeva'}\n",
      "{'author': 'Ratnakirti', 'source': 'input by members of the Sanskrit Buddhist Canon Input Project', 'title': 'Ksanabhangasiddhir Vyatirekatmika (input by members of the Sanskrit Buddhist Canon Input Project'}\n",
      "{'author': 'Ratnakirti', 'source': 'input by members of the Sanskrit Buddhist Canon Input Project', 'title': 'Nibandhavali (input by members of the Sanskrit Buddhist Canon Input Project'}\n",
      "{'author': 'Ratnakirti (?)', 'source': '?): Vadarahasya, also known as Udayananirakarana (input by members of the Sanskrit Buddhist Canon Input Project', 'title': 'Vadarahasya, also known as Udayananirakarana (input by members of the Sanskrit Buddhist Canon Input Project'}\n",
      "{'author': 'Sakyabuddhi', 'source': 'input by Klaus Wille', 'title': 'Pramanavarttikatika (input by Klaus Wille'}\n",
      "{'author': 'Santaraksita', 'source': 'input by Timothy Cahill and Elliot Stern', 'title': 'Tattvasamgraha [grammatical analysis] (input by Timothy Cahill and Elliot Stern'}\n",
      "{'author': 'Santideva', 'source': 'input by Richard Mahoney', 'title': 'Bodhicaryavatara (input by Richard Mahoney'}\n",
      "{'author': 'Santideva', 'source': 'input by members of the Sanskrit Buddhist Canon Input Project', 'title': 'Bodhicaryavatara [alternative version] (input by members of the Sanskrit Buddhist Canon Input Project'}\n",
      "{'author': 'Santideva', 'source': 'input by Mirek Rozehnahl and Jens Braarvig', 'title': 'Siksasamuccaya (input by Mirek Rozehnahl and Jens Braarvig'}\n",
      "{'author': 'AUTHOR WANTED', 'source': 'input by members of the Sanskrit Buddhist Canon Input Project', 'title': 'Siksasamuccayakarika (input by members of the Sanskrit Buddhist Canon Input Project'}\n"
     ]
    },
    {
     "ename": "IndexError",
     "evalue": "list index out of range",
     "output_type": "error",
     "traceback": [
      "\u001b[0;31m---------------------------------------------------------------------------\u001b[0m",
      "\u001b[0;31mIndexError\u001b[0m                                Traceback (most recent call last)",
      "\u001b[0;32m<ipython-input-41-a19109f65de3>\u001b[0m in \u001b[0;36m<module>\u001b[0;34m()\u001b[0m\n\u001b[1;32m      1\u001b[0m \u001b[0;32mfor\u001b[0m \u001b[0mc\u001b[0m \u001b[0;32min\u001b[0m \u001b[0mcorpora\u001b[0m\u001b[0;34m:\u001b[0m\u001b[0;34m\u001b[0m\u001b[0m\n\u001b[1;32m      2\u001b[0m     \u001b[0;31m#print(c.contents[0])\u001b[0m\u001b[0;34m\u001b[0m\u001b[0;34m\u001b[0m\u001b[0m\n\u001b[0;32m----> 3\u001b[0;31m     \u001b[0mget_author_title_source\u001b[0m\u001b[0;34m(\u001b[0m\u001b[0mc\u001b[0m\u001b[0;34m)\u001b[0m\u001b[0;34m\u001b[0m\u001b[0m\n\u001b[0m",
      "\u001b[0;32m<ipython-input-40-c63602dfb8a2>\u001b[0m in \u001b[0;36mget_author_title_source\u001b[0;34m(corpus)\u001b[0m\n\u001b[1;32m      4\u001b[0m     \u001b[0;32mif\u001b[0m \u001b[0mre\u001b[0m\u001b[0;34m.\u001b[0m\u001b[0mfindall\u001b[0m\u001b[0;34m(\u001b[0m\u001b[0;34mr\".+:\"\u001b[0m\u001b[0;34m,\u001b[0m \u001b[0mentry\u001b[0m\u001b[0;34m)\u001b[0m\u001b[0;34m:\u001b[0m\u001b[0;34m\u001b[0m\u001b[0m\n\u001b[1;32m      5\u001b[0m         \u001b[0mauthor\u001b[0m \u001b[0;34m=\u001b[0m \u001b[0mre\u001b[0m\u001b[0;34m.\u001b[0m\u001b[0mfindall\u001b[0m\u001b[0;34m(\u001b[0m\u001b[0;34mr\".+:\"\u001b[0m\u001b[0;34m,\u001b[0m \u001b[0mentry\u001b[0m\u001b[0;34m)\u001b[0m\u001b[0;34m[\u001b[0m\u001b[0;36m0\u001b[0m\u001b[0;34m]\u001b[0m\u001b[0;34m[\u001b[0m\u001b[0;34m:\u001b[0m\u001b[0;34m-\u001b[0m\u001b[0;36m1\u001b[0m\u001b[0;34m]\u001b[0m\u001b[0;34m\u001b[0m\u001b[0m\n\u001b[0;32m----> 6\u001b[0;31m         \u001b[0mtitle\u001b[0m \u001b[0;34m=\u001b[0m \u001b[0mre\u001b[0m\u001b[0;34m.\u001b[0m\u001b[0mfindall\u001b[0m\u001b[0;34m(\u001b[0m\u001b[0;34mr\": .+ \\(*\"\u001b[0m\u001b[0;34m,\u001b[0m \u001b[0mentry\u001b[0m\u001b[0;34m)\u001b[0m\u001b[0;34m[\u001b[0m\u001b[0;36m0\u001b[0m\u001b[0;34m]\u001b[0m\u001b[0;34m[\u001b[0m\u001b[0;36m2\u001b[0m\u001b[0;34m:\u001b[0m\u001b[0;34m-\u001b[0m\u001b[0;36m2\u001b[0m\u001b[0;34m]\u001b[0m\u001b[0;34m\u001b[0m\u001b[0m\n\u001b[0m\u001b[1;32m      7\u001b[0m     \u001b[0;32melse\u001b[0m\u001b[0;34m:\u001b[0m\u001b[0;34m\u001b[0m\u001b[0m\n\u001b[1;32m      8\u001b[0m         \u001b[0mauthor\u001b[0m \u001b[0;34m=\u001b[0m \u001b[0;34m\"AUTHOR WANTED\"\u001b[0m\u001b[0;34m\u001b[0m\u001b[0m\n",
      "\u001b[0;31mIndexError\u001b[0m: list index out of range"
     ]
    }
   ],
   "source": [
    "for c in corpora:\n",
    "    #print(c.contents[0])\n",
    "    get_author_title_source(c)"
   ]
  },
  {
   "cell_type": "code",
   "execution_count": null,
   "metadata": {
    "collapsed": false
   },
   "outputs": [],
   "source": [
    "type(corpora[7])"
   ]
  },
  {
   "cell_type": "code",
   "execution_count": null,
   "metadata": {
    "collapsed": true
   },
   "outputs": [],
   "source": [
    "raw = BeautifulSoup(html, \"lxml\").get_text()"
   ]
  },
  {
   "cell_type": "code",
   "execution_count": null,
   "metadata": {
    "collapsed": false
   },
   "outputs": [],
   "source": [
    "raw.find(\"GRETIL - Göttingen Register of Electronic Texts in Indian Languages\")"
   ]
  },
  {
   "cell_type": "code",
   "execution_count": null,
   "metadata": {
    "collapsed": false
   },
   "outputs": [],
   "source": [
    "raw[1870:2850]"
   ]
  },
  {
   "cell_type": "code",
   "execution_count": null,
   "metadata": {
    "collapsed": true
   },
   "outputs": [],
   "source": []
  }
 ],
 "metadata": {
  "kernelspec": {
   "display_name": "Python 3",
   "language": "python",
   "name": "python3"
  },
  "language_info": {
   "codemirror_mode": {
    "name": "ipython",
    "version": 3
   },
   "file_extension": ".py",
   "mimetype": "text/x-python",
   "name": "python",
   "nbconvert_exporter": "python",
   "pygments_lexer": "ipython3",
   "version": "3.5.1"
  }
 },
 "nbformat": 4,
 "nbformat_minor": 0
}
