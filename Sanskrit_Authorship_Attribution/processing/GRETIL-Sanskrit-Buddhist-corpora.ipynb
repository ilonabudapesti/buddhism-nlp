{
 "cells": [
  {
   "cell_type": "code",
   "execution_count": 18,
   "metadata": {
    "collapsed": false
   },
   "outputs": [
    {
     "data": {
      "text/plain": [
       "'<!DOCTYPE html>\\n<html lang=\"en\">\\n<head>\\n<!-- 2017-11-03 Fr 12:12 -->\\n<meta charset=\"utf-8\">\\n<meta name=\"viewport\" content=\"width=device-width, initial-scale=1\">\\n<title>GRETIL - Göttingen Register of Electronic Texts in Indian Languages</title>\\n<meta name=\"generator\" content=\"Org mode\">\\n<style>\\nbody   { background-color: #FFFFFF; text-align: center; padding: 30pt; }\\nhr     { height: 1px; border-width: 0; color :gray; background-color: gray }\\na:link { text-decoration: none; font-weight: bold; color: Navy; }\\na:visited { text-decoration: none; font-weight: bold; color: Crimson; }\\na:hover { text-de'"
      ]
     },
     "execution_count": 18,
     "metadata": {},
     "output_type": "execute_result"
    }
   ],
   "source": [
    "import nltk, re, pprint\n",
    "from nltk import word_tokenize, sent_tokenize\n",
    "from urllib import request\n",
    "from bs4 import BeautifulSoup\n",
    "\n",
    "url = \"http://gretil.sub.uni-goettingen.de/gret_utf.htm\"\n",
    "html = request.urlopen(url).read().decode('utf8')\n",
    "html[:600]"
   ]
  },
  {
   "cell_type": "code",
   "execution_count": 19,
   "metadata": {
    "collapsed": false
   },
   "outputs": [
    {
     "data": {
      "text/plain": [
       "385516"
      ]
     },
     "execution_count": 19,
     "metadata": {},
     "output_type": "execute_result"
    }
   ],
   "source": [
    "html.find('<div class=\"outline-text-5\" id=\"text-Bauddha\">')"
   ]
  },
  {
   "cell_type": "code",
   "execution_count": 20,
   "metadata": {
    "collapsed": false
   },
   "outputs": [
    {
     "data": {
      "text/plain": [
       "'<div class=\"outline-text-5\" id=\"text-Bauddha\">\\n<ol class=\"org-ol\">\\n<li>Abhidharmasamuccayabhasya (in'"
      ]
     },
     "execution_count": 20,
     "metadata": {},
     "output_type": "execute_result"
    }
   ],
   "source": [
    "html[385516:385616]"
   ]
  },
  {
   "cell_type": "code",
   "execution_count": 21,
   "metadata": {
    "collapsed": false
   },
   "outputs": [
    {
     "data": {
      "text/plain": [
       "'<div class=\"outline-text-5\" id=\"text-Bauddha\">\\n<ol class=\"org-ol\">\\n<li>Abhidharmasamuccayabhasya (input by members of the Sanskrit Buddhist Canon Input Project) <span id=\"Abhsubh\"></span>\\n<ul class=\"org-ul\">\\n<li><a href=\"gretil/1_sanskr/6_sastra/3_phil/buddh/abhsubhu.htm\"><img src=\"i_download.gif\" alt=\"i_download.gif\" style=\"vertical-align:bottom\"> abhsubhu.htm</a></li>\\n<li>File(s) in <a  href=\"gret_csx.htm#Abhsubh\"  target=\"_blank\">CSX</a> | <a  href=\"gret_ree.htm#Abhsubh\"  target=\"_blank\">REE<'"
      ]
     },
     "execution_count": 21,
     "metadata": {},
     "output_type": "execute_result"
    }
   ],
   "source": [
    "html2 = html[385516:]\n",
    "html2[:500]"
   ]
  },
  {
   "cell_type": "code",
   "execution_count": 22,
   "metadata": {
    "collapsed": false
   },
   "outputs": [
    {
     "data": {
      "text/plain": [
       "64377"
      ]
     },
     "execution_count": 22,
     "metadata": {},
     "output_type": "execute_result"
    }
   ],
   "source": [
    "html2.find('</div>')"
   ]
  },
  {
   "cell_type": "code",
   "execution_count": 25,
   "metadata": {
    "collapsed": false
   },
   "outputs": [
    {
     "data": {
      "text/plain": [
       "'rget=\"_blank\">REE</a> encoding</li>\\n</ul></li>\\n<li>Yasomitra: Sphutartha Abhidharmakosavyakhya (input by Seishi Karashima) <span id=\"YasSphut\"></span>\\n<ul class=\"org-ul\">\\n<li><a href=\"gretil/1_sanskr/6_sastra/3_phil/buddh/yabhkvyu.htm\"><img src=\"i_download.gif\" alt=\"i_download.gif\" style=\"vertical-align:bottom\"> yabhkvyu.htm</a></li>\\n<li>File(s) in <a  href=\"gret_csx.htm#YasSphut\"  target=\"_blank\">CSX</a> | <a  href=\"gret_ree.htm#YasSphut\"  target=\"_blank\">REE</a> encoding</li>\\n</ul></li>\\n</ol>\\n</div>'"
      ]
     },
     "execution_count": 25,
     "metadata": {},
     "output_type": "execute_result"
    }
   ],
   "source": [
    "html2[63877:64383]"
   ]
  },
  {
   "cell_type": "code",
   "execution_count": 175,
   "metadata": {
    "collapsed": false
   },
   "outputs": [
    {
     "data": {
      "text/plain": [
       "'ass=\"org-ul\">\\n<li><a href=\"gretil/1_sanskr/6_sastra/3_phil/buddh/bsa061_u.htm\"><img src=\"i_download.gif\" alt=\"i_download.gif\" style=\"vertical-align:bottom\"> bsa061_u.htm</a></li>\\n<li>File(s) in <a  href=\"gret_csx.htm#DSBC_Sa061\"  target=\"_blank\">CSX</a> | <a  href=\"gret_ree.htm#DSBC_Sa061\"  target=\"_blank\">REE</a> encoding</li>\\n</ul></li>\\n<li>Yasomitra: Sphutartha Abhidharmakosavyakhya (input by Seishi Karashima) <span id=\"YasSphut\"></span>\\n<ul class=\"org-ul\">\\n<li><a href=\"gretil/1_sanskr/6_sastra/3_phil/buddh/yabhkvyu.htm\"><img src=\"i_download.gif\" alt=\"i_download.gif\" style=\"vertical-align:bottom\"> yabhkvyu.htm</a></li>\\n<li>File(s) in <a  href=\"gret_csx.htm#YasSphut\"  target=\"_blank\">CSX</a> | <a  href=\"gret_ree.htm#YasSphut\"  target=\"_blank\">REE</a> encoding</li>\\n</ul></li>\\n</ol>\\n</div>'"
      ]
     },
     "execution_count": 175,
     "metadata": {},
     "output_type": "execute_result"
    }
   ],
   "source": [
    "html3 = html2[:64383]\n",
    "html3[-800:]"
   ]
  },
  {
   "cell_type": "code",
   "execution_count": 183,
   "metadata": {
    "collapsed": false
   },
   "outputs": [
    {
     "data": {
      "text/plain": [
       "['<a id=\"orgf24afd2\">Arcata: Hetubindutika</a>',\n",
       " '<a id=\"orgdae93ea\">Mahayanapathasadhanasamgraha</a>',\n",
       " '<a id=\"org29a49f9\"></a>',\n",
       " '<a id=\"org0ca383b\">Prajnakaramati: Bodhicaryavatarapanjika</a>',\n",
       " '<a id=\"org5f5aba0\">Vasubandhu: Madhyantavibhagakarikabhasya</a>',\n",
       " '<a id=\"org1005ee6\">Vasubandhu: Trimsikavijnaptikarika</a>',\n",
       " '<a id=\"org764daf9\">Vasubandhu: Trimsikavijnaptikarika</a>']"
      ]
     },
     "execution_count": 183,
     "metadata": {},
     "output_type": "execute_result"
    }
   ],
   "source": [
    "# Note: dirty data\n",
    "# <a id=\"org1005ee6\">Vasubandhu: Trimsikavijnaptikarika</a> should be\n",
    "# \"Vasubandhu: Trimsikavijnaptikarika\"\n",
    "# 7 occurances\n",
    "\n",
    "re.findall(r\"<a id=.*>.*</a>\", html3)"
   ]
  },
  {
   "cell_type": "code",
   "execution_count": 193,
   "metadata": {
    "collapsed": false
   },
   "outputs": [
    {
     "name": "stdout",
     "output_type": "stream",
     "text": [
      "<a id=\"orgf24afd2\">Arcata: Hetubindutika</a>\n",
      "<a id=\"orgdae93ea\">Mahayanapathasadhanasamgraha</a>\n",
      "<a id=\"org29a49f9\"></a>\n",
      "<a id=\"org0ca383b\">Prajnakaramati: Bodhicaryavatarapanjika</a>\n",
      "<a id=\"org5f5aba0\">Vasubandhu: Madhyantavibhagakarikabhasya</a>\n",
      "<a id=\"org1005ee6\">Vasubandhu: Trimsikavijnaptikarika</a>\n",
      "<a id=\"org764daf9\">Vasubandhu: Trimsikavijnaptikarika</a>\n"
     ]
    }
   ],
   "source": [
    "dirt = re.findall(r\"<a id=.*>.*</a>\", html3)\n",
    "for d in dirt:\n",
    "    re.sub(r'<a id=.*\">', \"\",d)\n",
    "    re.sub(r\"</a>\",\"\", d)\n",
    "    print(d)\n",
    "\n"
   ]
  },
  {
   "cell_type": "code",
   "execution_count": 177,
   "metadata": {
    "collapsed": false
   },
   "outputs": [],
   "source": [
    "with open(\"GRETIL_buddhist1.html\", \"w\") as file:\n",
    "    file.write(html3)"
   ]
  },
  {
   "cell_type": "code",
   "execution_count": 40,
   "metadata": {
    "collapsed": false
   },
   "outputs": [
    {
     "data": {
      "text/plain": [
       "'Abhidharmasamuccayabhasya (input by members of the Sanskrit Buddhist Canon Input Project) \\n\\n abhsubhu.htm\\nFile(s) in CSX | REE encoding\\n'"
      ]
     },
     "execution_count": 40,
     "metadata": {},
     "output_type": "execute_result"
    }
   ],
   "source": [
    "soup = BeautifulSoup(html3, \"lxml\")\n",
    "soup.li.text"
   ]
  },
  {
   "cell_type": "code",
   "execution_count": 41,
   "metadata": {
    "collapsed": false
   },
   "outputs": [
    {
     "data": {
      "text/plain": [
       "<li>Abhidharmasamuccayabhasya (input by members of the Sanskrit Buddhist Canon Input Project) <span id=\"Abhsubh\"></span>\n",
       "<ul class=\"org-ul\">\n",
       "<li><a href=\"gretil/1_sanskr/6_sastra/3_phil/buddh/abhsubhu.htm\"><img alt=\"i_download.gif\" src=\"i_download.gif\" style=\"vertical-align:bottom\"/> abhsubhu.htm</a></li>\n",
       "<li>File(s) in <a href=\"gret_csx.htm#Abhsubh\" target=\"_blank\">CSX</a> | <a href=\"gret_ree.htm#Abhsubh\" target=\"_blank\">REE</a> encoding</li>\n",
       "</ul></li>"
      ]
     },
     "execution_count": 41,
     "metadata": {},
     "output_type": "execute_result"
    }
   ],
   "source": [
    "soup.li"
   ]
  },
  {
   "cell_type": "code",
   "execution_count": 44,
   "metadata": {
    "collapsed": false
   },
   "outputs": [
    {
     "name": "stdout",
     "output_type": "stream",
     "text": [
      "gretil/1_sanskr/6_sastra/3_phil/buddh/abhsubhu.htm\n",
      "gret_csx.htm#Abhsubh\n",
      "gret_ree.htm#Abhsubh\n"
     ]
    }
   ],
   "source": [
    "for link in soup.li.find_all('a'):\n",
    "    print(link.get('href'))"
   ]
  },
  {
   "cell_type": "code",
   "execution_count": 56,
   "metadata": {
    "collapsed": false
   },
   "outputs": [
    {
     "data": {
      "text/plain": [
       "{'class': ['org-ol']}"
      ]
     },
     "execution_count": 56,
     "metadata": {},
     "output_type": "execute_result"
    }
   ],
   "source": [
    "soup.ol.attrs"
   ]
  },
  {
   "cell_type": "code",
   "execution_count": 68,
   "metadata": {
    "collapsed": false
   },
   "outputs": [
    {
     "data": {
      "text/plain": [
       "['org-ol']"
      ]
     },
     "execution_count": 68,
     "metadata": {},
     "output_type": "execute_result"
    }
   ],
   "source": [
    "soup.ol['class']"
   ]
  },
  {
   "cell_type": "code",
   "execution_count": 75,
   "metadata": {
    "collapsed": false
   },
   "outputs": [
    {
     "data": {
      "text/plain": [
       "'\\n'"
      ]
     },
     "execution_count": 75,
     "metadata": {},
     "output_type": "execute_result"
    }
   ],
   "source": [
    "soup.ol.contents[0]"
   ]
  },
  {
   "cell_type": "code",
   "execution_count": 74,
   "metadata": {
    "collapsed": false
   },
   "outputs": [
    {
     "data": {
      "text/plain": [
       "253"
      ]
     },
     "execution_count": 74,
     "metadata": {},
     "output_type": "execute_result"
    }
   ],
   "source": [
    "len(soup.ol.contents)\n",
    "# lots of \"\\n\", we'll remove those below"
   ]
  },
  {
   "cell_type": "code",
   "execution_count": 67,
   "metadata": {
    "collapsed": false
   },
   "outputs": [
    {
     "data": {
      "text/plain": [
       "126"
      ]
     },
     "execution_count": 67,
     "metadata": {},
     "output_type": "execute_result"
    }
   ],
   "source": [
    "corpora = [text for text in soup.ol.contents if text.name == 'li']\n",
    "len(corpora)"
   ]
  },
  {
   "cell_type": "code",
   "execution_count": 96,
   "metadata": {
    "collapsed": false
   },
   "outputs": [
    {
     "data": {
      "text/plain": [
       "<li>Aryadeva: Catuhsatika (input by members of the Sanskrit Buddhist Canon Input Project) <span id=\"DSBC_Sa028\"></span>\n",
       "<ul class=\"org-ul\">\n",
       "<li><a href=\"gretil/1_sanskr/6_sastra/3_phil/buddh/bsa028_u.htm\"><img alt=\"i_download.gif\" src=\"i_download.gif\" style=\"vertical-align:bottom\"/> bsa028_u.htm</a></li>\n",
       "<li>File(s) in <a href=\"gret_csx.htm#DSBC_Sa028\" target=\"_blank\">CSX</a> | <a href=\"gret_ree.htm#DSBC_Sa028\" target=\"_blank\">REE</a> encoding</li>\n",
       "</ul></li>"
      ]
     },
     "execution_count": 96,
     "metadata": {},
     "output_type": "execute_result"
    }
   ],
   "source": [
    "corpora[10]"
   ]
  },
  {
   "cell_type": "code",
   "execution_count": 97,
   "metadata": {
    "collapsed": false
   },
   "outputs": [
    {
     "data": {
      "text/plain": [
       "'Aryadeva: Catuhsatika (input by members of the Sanskrit Buddhist Canon Input Project)'"
      ]
     },
     "execution_count": 97,
     "metadata": {},
     "output_type": "execute_result"
    }
   ],
   "source": [
    "corpora[10].contents[0][:-1]  # we strip the \"\\n\" from the end"
   ]
  },
  {
   "cell_type": "code",
   "execution_count": 99,
   "metadata": {
    "collapsed": false
   },
   "outputs": [
    {
     "name": "stdout",
     "output_type": "stream",
     "text": [
      "Aryadeva: Catuhsatika (input by members of the Sanskrit Buddhist Canon Input Project)\n",
      "bsa028_u.htm\n",
      "File(s) in\n",
      "CSX\n",
      "|\n",
      "REE\n",
      "encoding\n"
     ]
    }
   ],
   "source": [
    "for s in corpora[10].stripped_strings:\n",
    "    print(s)"
   ]
  },
  {
   "cell_type": "code",
   "execution_count": 94,
   "metadata": {
    "collapsed": false
   },
   "outputs": [
    {
     "ename": "AttributeError",
     "evalue": "'generator' object has no attribute 'first'",
     "output_type": "error",
     "traceback": [
      "\u001b[0;31m---------------------------------------------------------------------------\u001b[0m",
      "\u001b[0;31mAttributeError\u001b[0m                            Traceback (most recent call last)",
      "\u001b[0;32m<ipython-input-94-bd9b6dd27476>\u001b[0m in \u001b[0;36m<module>\u001b[0;34m()\u001b[0m\n\u001b[0;32m----> 1\u001b[0;31m \u001b[0mcorpora\u001b[0m\u001b[0;34m[\u001b[0m\u001b[0;36m0\u001b[0m\u001b[0;34m]\u001b[0m\u001b[0;34m.\u001b[0m\u001b[0mstripped_strings\u001b[0m\u001b[0;34m.\u001b[0m\u001b[0mfirst\u001b[0m\u001b[0;34m\u001b[0m\u001b[0m\n\u001b[0m",
      "\u001b[0;31mAttributeError\u001b[0m: 'generator' object has no attribute 'first'"
     ]
    }
   ],
   "source": [
    "# desired output\n",
    "\n",
    "{        'author': 'Aryadeva',\n",
    "          'title': 'Catuhsatika',\n",
    "         'source': 'input by members of the Sanskrit Buddhist Canon Input Project',\n",
    "            'url': 'http://gretil.sub.uni-goettingen.de/gretil/1_sanskr/6_sastra/3_phil/buddh/bsa028_u.htm'\n",
    "      'num_sents': '',\n",
    "      'num_words': '',\n",
    "      'num_vocab': '', # unique lemmas\n",
    "    'avglen_word': '', # = num_chars/num_words; should be property of Sanskrit, not dependent on author\n",
    "    'avglen_sent': '', # = num_words/num_sents; should depend on author\n",
    "'lexical_diversity': '', # = num_words/num_vocab; lower is more diverse; \n",
    "                         # higher implies lots of repetition of the same word; should depend on author\n",
    " \n",
    "}"
   ]
  },
  {
   "cell_type": "code",
   "execution_count": 106,
   "metadata": {
    "collapsed": false
   },
   "outputs": [
    {
     "data": {
      "text/plain": [
       "['Abhidharmasamuccayabhasya (input by members of the Sanskrit Buddhist Canon Input Project) ',\n",
       " 'Abhisamayalamkara [Abhisamayalankara] (input by members of the Sanskrit Buddhist Canon Input Project) ',\n",
       " 'Abhisamayalankarantah patinam (input by members of the Sanskrit Buddhist Canon Input Project) ',\n",
       " 'Abhisamayalankaravrttih sphutartha (input by members of the Sanskrit Buddhist Canon Input Project) ',\n",
       " 'Alambanapariksa (input by members of the Sanskrit Buddhist Canon Input Project) ',\n",
       " 'Alambanapariksa with Alambanapariksavrtti (input by members of the Sanskrit Buddhist Canon Input Project) ',\n",
       " 'Antarvyaptisamarthana (input by members of the Sanskrit Buddhist Canon Input Project) ',\n",
       " <a id=\"orgf24afd2\">Arcata: Hetubindutika</a>,\n",
       " 'Arcata: Hetubindutika [alternative version] (input by members of the Sanskrit Buddhist Canon Input Project) ',\n",
       " 'Aryadeva: Caryamelavanapradipa (input by members of the Sanskrit Buddhist Canon Input Project) ',\n",
       " 'Aryadeva: Catuhsatika (input by members of the Sanskrit Buddhist Canon Input Project) ',\n",
       " 'Aryadeva: Cittavisuddhiprakarana (input by members of the Sanskrit Buddhist Canon Input Project) ',\n",
       " 'Aryasura: Paramitasamasa (input by members of the Sanskrit Buddhist Canon Input Project) ',\n",
       " 'Asanga: Abhidharmasamuccaya (input by members of the Sanskrit Buddhist Canon Input Project) ',\n",
       " 'Asvaghosa: Gurupancasika (input by members of the Sanskrit Buddhist Canon Input Project) ',\n",
       " 'Asvaghosa: Vajrasuci (input by members of the Sanskrit Buddhist Canon Input Project) ',\n",
       " 'Bhiksukarmavakya (input by members of the Sanskrit Buddhist Canon Input Project) ',\n",
       " 'Bodhipathapradipa (input by members of the Sanskrit Buddhist Canon Input Project) ',\n",
       " 'Bodhisattvabhumi (input by members of the Sanskrit Buddhist Canon Input Project) ',\n",
       " 'Candrakirti: Prasannapada [or Madhyamakasastravrtti] (input by members of the Sanskrit Buddhist Canon Input Project) ',\n",
       " 'Dharmakirti: Hetubindu ',\n",
       " 'Dharmakirti: Nyayabindu ',\n",
       " 'Dharmakirti: Nyayabinduprakarana (input by members of the Sanskrit Buddhist Canon Input Project) ',\n",
       " 'Dharmakirti: Pramanavarttikakarika (input by Motoi Ono) ',\n",
       " 'Dharmakirti: Pramanavarttikasvavrtti (input by Motoi Ono) ',\n",
       " 'Dharmakirti: Pramanaviniscaya (fragment) (input by Klaus Wille) ',\n",
       " \"Dharmakirti: Sambandhapariksa, with Prabhacandra's commentary \",\n",
       " 'Dharmakirti: Samtanantarasiddhi (input by members of the Sanskrit Buddhist Canon Input Project) ',\n",
       " 'Dharmakirti: Vadanyaya ',\n",
       " 'Dharmasamuccaya (input by members of the Sanskrit Buddhist Canon Input Project) ',\n",
       " 'Dignaga [ = Dinnaga]: Prajnaparamitapindartha (input by members of the Sanskrit Buddhist Canon Input Project) ',\n",
       " 'Dignaga [ = Dinnaga]: Yogavatara (input by members of the Sanskrit Buddhist Canon Input Project) ',\n",
       " 'Dipankarasrijnana [ = Dipamkarasrijnana = Atisa]: Apattidesanavidhi (input by members of the Sanskrit Buddhist Canon Input Project) ',\n",
       " 'Dipankarasrijnana [ = Dipamkarasrijnana = Atisa]: Bodhisattvadikarmikamargavataradesana (input by members of the Sanskrit Buddhist Canon Input Project) ',\n",
       " 'Dipankarasrijnana [ = Dipamkarasrijnana = Atisa]: Caryasamgrahapradipa (input by members of the Sanskrit Buddhist Canon Input Project) ',\n",
       " 'Dipankarasrijnana [ = Dipamkarasrijnana = Atisa]: Cittotpadasamvaravidhikrama (input by members of the Sanskrit Buddhist Canon Input Project) ',\n",
       " 'Dipankarasrijnana [ = Dipamkarasrijnana = Atisa]: Dasakusalakarmapathadesana (input by members of the Sanskrit Buddhist Canon Input Project) ',\n",
       " 'Dipankarasrijnana [ = Dipamkarasrijnana = Atisa]: Gurukriyakrama (input by members of the Sanskrit Buddhist Canon Input Project) ',\n",
       " 'Dipankarasrijnana [ = Dipamkarasrijnana = Atisa] ',\n",
       " 'Dipankarasrijnana [ = Dipamkarasrijnana = Atisa]: Samadhisambharaparivarta (input by members of the Sanskrit Buddhist Canon Input Project) ',\n",
       " 'Dipankarasrijnana [ = Dipamkarasrijnana = Atisa]: Saranagamanadesana (input by members of the Sanskrit Buddhist Canon Input Project) ',\n",
       " 'Dipankarasrijnana [ = Dipamkarasrijnana = Atisa]: Satyadvayavataranama (input by members of the Sanskrit Buddhist Canon Input Project) ',\n",
       " 'Dipankarasrijnana [ = Dipamkarasrijnana = Atisa]: Sutrarthasamuccayopadesa (input by members of the Sanskrit Buddhist Canon Input Project) ',\n",
       " 'Durveka Misra: Dharmottarapradipa (provided by Helmut Krasser) ',\n",
       " '<',\n",
       " 'Garbhasamgraha (input by members of the Sanskrit Buddhist Canon Input Project) ',\n",
       " 'Haribhadrasuri: Nyayapravesapravrtti (input by members of the Sanskrit Buddhist Canon Input Project) ',\n",
       " 'Harivarman: Satyasiddhisastra (input by Udip Shakya) ',\n",
       " 'Hastavalaprakaranavrtti (input by members of the Sanskrit Buddhist Canon Input Project) ',\n",
       " 'Jitari: Hetutattvopadesa (input by members of the Sanskrit Buddhist Canon Input Project) ',\n",
       " 'Jitari: Hetutattvopadesa [alternative version] (input by Klaus Wille) ',\n",
       " 'Kamalasila: Bhavanakrama (input by members of the Sanskrit Buddhist Canon Input Project) ',\n",
       " 'Kamalasila: Madhyamakaloka (input by members of the Sanskrit Buddhist Canon Input Project) ',\n",
       " 'Madhyamakavatara (input by members of the Sanskrit Buddhist Canon Input Project) ',\n",
       " 'Mahayanasutralamkara (input by members of the Sanskrit Buddhist Canon Input Project) ',\n",
       " 'Maitreyanatha: Bhavasamkrantitika (input by members of the Sanskrit Buddhist Canon Input Project) ',\n",
       " 'Maitreyanatha [attrib.]: Madhyantavibhagakarika (input by members of the Sanskrit Buddhist Canon Input Project) ',\n",
       " 'Nagarjuna: Acintyastava (input by Richard Mahoney) ',\n",
       " 'Nagarjuna: Bhavasamkrantiparikatha (input by members of the Sanskrit Buddhist Canon Input Project) ',\n",
       " 'Nagarjuna: Bodhicittavivarana (input by Richard Mahoney) ',\n",
       " 'Nagarjuna: Dharmadhatugarbhavivarana (input by members of the Sanskrit Buddhist Canon Input Project) ',\n",
       " 'Nagarjuna: Dharmasamgraha [Dharmasangraha] (input by members of the Sanskrit Buddhist Canon Input Project) ',\n",
       " 'Nagarjuna: Kriyasamgrahakarika (input by members of the Sanskrit Buddhist Canon Input Project) ',\n",
       " 'Nagarjuna: Lokatitastava (input by Richard Mahoney) ',\n",
       " 'Nagarjuna: Madhyamakasastra [Karika only!] (input by members of the Sanskrit Buddhist Canon Input Project) ',\n",
       " 'Nagarjuna: Mahayanavimsika (input by members of the Sanskrit Buddhist Canon Input Project) ',\n",
       " 'Nagarjuna: Mulamadhyamakakarika (input by Douglas Bachman, revised by Richard Mahoney) ',\n",
       " 'Nagarjuna: Pancakrama (input by members of the Sanskrit Buddhist Canon Input Project) ',\n",
       " 'Nagarjuna: Pindikrama [transmitted as krama 1 of Pancakrama] (input by members of the Sanskrit Buddhist Canon Input Project) ',\n",
       " 'Nagarjuna: Pratityasamutpadahrdayakarika (input by members of the Sanskrit Buddhist Canon Input Project) ',\n",
       " 'Nagarjuna: Pratityasamutpadahrdayavyakhyana (input by members of the Sanskrit Buddhist Canon Input Project) ',\n",
       " 'Nagarjuna: Ratnavali [1-2.46, and 4; Sanskrit text of 2.47-95 and 3 lost] (input by members of the Sanskrit Buddhist Canon Input Project) ',\n",
       " 'Nagarjuna: Ratnavali 1, 2 & 4 (input by Richard Mahoney) ',\n",
       " 'Nagarjuna: Salistambakakarika (input by members of the Sanskrit Buddhist Canon Input Project) ',\n",
       " 'Nagarjuna: Salistambakamahayanasutratika (input by members of the Sanskrit Buddhist Canon Input Project) ',\n",
       " 'Nagarjuna: Suhrllekha (input by members of the Sanskrit Buddhist Canon Input Project) ',\n",
       " 'Nagarjuna: Sunyatasaptati (input by members of the Sanskrit Buddhist Canon Input Project) ',\n",
       " 'Nagarjuna: Vigrahavyavartani (input by Klaus Wille) ',\n",
       " 'Nagarjuna: Vigrahavyavartani [karikas only] (input by Richard Mahoney) ',\n",
       " 'Nagarjuna: Vigrahavyavartini [karikas only, alternative version] (input by members of the Sanskrit Buddhist Canon Input Project) ',\n",
       " 'Nagarjuna: Yuktisastikarika (input by Richard Mahoney) ',\n",
       " 'Nagarjuna: Yuktisastikarika [alternative version] (input by members of the Sanskrit Buddhist Canon Input Project) ',\n",
       " 'Naropa: Sekoddesa (input by members of the Sanskrit Buddhist Canon Input Project) ',\n",
       " 'Panditasoka: Avayavinirakarana (input by members of the Sanskrit Buddhist Canon Input Project) ',\n",
       " 'Panditasoka: Samanyadusanadikprasarita (input by members of the Sanskrit Buddhist Canon Input Project) ',\n",
       " <a id=\"org0ca383b\">Prajnakaramati: Bodhicaryavatarapanjika</a>,\n",
       " 'Pramanavartika (input by members of the Sanskrit Buddhist Canon Input Project) ',\n",
       " 'Ratnagotravibhaga (input by members of the Sanskrit Buddhist Canon Input Project) ',\n",
       " 'Ratnakirti: Apohasiddhi (input by members of the Sanskrit Buddhist Canon Input Project) ',\n",
       " 'Ratnakirti: Ksanabhangasiddhi (input by members of the Sanskrit Buddhist Canon Input Project) ',\n",
       " 'Ratnakirti: Ksanabhangasiddhir Vyatirekatmika (input by Somadeva Vasudeva) ',\n",
       " 'Ratnakirti: Ksanabhangasiddhir Vyatirekatmika (input by members of the Sanskrit Buddhist Canon Input Project) ',\n",
       " 'Ratnakirti: Nibandhavali (input by members of the Sanskrit Buddhist Canon Input Project) ',\n",
       " 'Ratnakirti (?): Vadarahasya, also known as Udayananirakarana (input by members of the Sanskrit Buddhist Canon Input Project) ',\n",
       " 'Sakyabuddhi: Pramanavarttikatika (input by Klaus Wille) ',\n",
       " 'Santaraksita: Tattvasamgraha [grammatical analysis] (input by Timothy Cahill and Elliot Stern) ',\n",
       " 'Santideva: Bodhicaryavatara (input by Richard Mahoney) ',\n",
       " 'Santideva: Bodhicaryavatara [alternative version] (input by members of the Sanskrit Buddhist Canon Input Project) ',\n",
       " 'Santideva: Siksasamuccaya (input by Mirek Rozehnahl and Jens Braarvig) ',\n",
       " 'Siksasamuccayakarika (input by members of the Sanskrit Buddhist Canon Input Project) ',\n",
       " 'Sthiramati: Trimsikavijnaptibhasya \\n',\n",
       " 'Sunyasamadhipada: Tattvajnanasamsiddhi (input by members of the Sanskrit Buddhist Canon Input Project) ',\n",
       " 'Tarkabhasa (input by members of the Sanskrit Buddhist Canon Input Project) ',\n",
       " 'Tarkarahasya (provided by Helmut Krasser) ',\n",
       " 'Tarkarahasya, Pratyaksalaksana (provided by Helmut Krasser) ',\n",
       " 'Tarkasastra (input by members of the Sanskrit Buddhist Canon Input Project) ',\n",
       " 'Tattvaratnavaloka (input by members of the Sanskrit Buddhist Canon Input Project) ',\n",
       " 'Upayahrdaya (input by members of the Sanskrit Buddhist Canon Input Project) ',\n",
       " 'Vararuci: Satagatha (input by members of the Sanskrit Buddhist Canon Input Project) ',\n",
       " 'Vasubandhu: Abhidharmakosabhasya (input by N.N., edited & revised by Paul Hackett and Dan Lusthaus) ',\n",
       " 'Vasubandhu: Abhidharmakosa [Karikas only] (input by members of the Sanskrit Buddhist Canon Input Project) ',\n",
       " 'Vasubandhu: Bodhicittotpadasutrasastra (input by members of the Sanskrit Buddhist Canon Input Project) ',\n",
       " <a id=\"org5f5aba0\">Vasubandhu: Madhyantavibhagakarikabhasya</a>,\n",
       " 'Vasubandhu: Pancaskandhaprakarana (input by members of the Sanskrit Buddhist Canon Input Project) ',\n",
       " <a id=\"org1005ee6\">Vasubandhu: Trimsikavijnaptikarika</a>,\n",
       " <a id=\"org764daf9\">Vasubandhu: Trimsikavijnaptikarika</a>,\n",
       " 'Vasubandhu: Trisvabhavanirdesa (input by members of the Sanskrit Buddhist Canon Input Project) ',\n",
       " 'Vasubandhu: Vimsatika vijnaptimatratasiddhi (input by Takamichi Fukita) ',\n",
       " 'Vidyakarasanti: Tarkasopana (input by Klaus Wille) ',\n",
       " 'Vimalamitra(?): Abhidharmadipa, with auto(?)-commentary Vibhasaprabhasavrtti (input by members of the Sanskrit Buddhist Canon Input Project) ',\n",
       " 'Vimalamitra(?): Abhidharmadipa, Karikas extracted from the commented text (input by members of the Sanskrit Buddhist Canon Input Project) ',\n",
       " 'Vimalamitra(?): Abhidharmadipa, Karikas 1-383 (alternative version) (input by members of the Sanskrit Buddhist Canon Input Project) ',\n",
       " 'Vimsatikakarika (input by members of the Sanskrit Buddhist Canon Input Project) ',\n",
       " 'Vimsikavrtti (input by members of the Sanskrit Buddhist Canon Input Project) ',\n",
       " 'Vinitadeva: Samtanantarasiddhitika (input by members of the Sanskrit Buddhist Canon Input Project) ',\n",
       " 'Yasomitra: Sphutartha Abhidharmakosavyakhya (input by Seishi Karashima) ']"
      ]
     },
     "execution_count": 106,
     "metadata": {},
     "output_type": "execute_result"
    }
   ],
   "source": [
    "[c.contents[0] for c in corpora]"
   ]
  },
  {
   "cell_type": "code",
   "execution_count": 169,
   "metadata": {
    "collapsed": false
   },
   "outputs": [
    {
     "name": "stdout",
     "output_type": "stream",
     "text": [
      "Aryadeva: Catuhsatika (input by members of the Sanskrit Buddhist Canon Input Project) \n",
      "{'author': 'Aryadeva', 'title': 'Catuhsatika', 'source': 'input by members of the Sanskrit Buddhist Canon Input Project'}\n"
     ]
    }
   ],
   "source": [
    "def well_formed(corpus):\n",
    "    entry = corpus.contents[0]\n",
    "    if \n",
    "    \n",
    "    \n",
    "def get_author_title_source(corpus):\n",
    "    entry = corpus.contents[0]\n",
    "    \n",
    "    if re.findall(r\".+:\", entry):\n",
    "        author = re.findall(r\".+:\", entry)[0][:-1]\n",
    "        title = re.findall(r\": .+ \\(\", entry)[0][2:-2]\n",
    "    else:\n",
    "        author = \"AUTHOR WANTED\"\n",
    "        title = re.findall(r\".+ \\(\", entry)[0][:-2]\n",
    "        \n",
    "    source = re.findall(r\"\\(.+\\)\", entry)[0][1:-1]\n",
    "    o = { \"author\": author,\n",
    "          \"title\": title,\n",
    "          \"source\": source}\n",
    "    print(o)\n",
    "\n",
    "print(corpora[10].contents[0])\n",
    "get_author_title_source(corpora[10])"
   ]
  },
  {
   "cell_type": "code",
   "execution_count": 168,
   "metadata": {
    "collapsed": false
   },
   "outputs": [
    {
     "name": "stdout",
     "output_type": "stream",
     "text": [
      "{'author': 'AUTHOR WANTED', 'title': 'Abhidharmasamuccayabhasya', 'source': 'input by members of the Sanskrit Buddhist Canon Input Project'}\n",
      "{'author': 'AUTHOR WANTED', 'title': 'Abhisamayalamkara [Abhisamayalankara]', 'source': 'input by members of the Sanskrit Buddhist Canon Input Project'}\n",
      "{'author': 'AUTHOR WANTED', 'title': 'Abhisamayalankarantah patinam', 'source': 'input by members of the Sanskrit Buddhist Canon Input Project'}\n",
      "{'author': 'AUTHOR WANTED', 'title': 'Abhisamayalankaravrttih sphutartha', 'source': 'input by members of the Sanskrit Buddhist Canon Input Project'}\n",
      "{'author': 'AUTHOR WANTED', 'title': 'Alambanapariksa', 'source': 'input by members of the Sanskrit Buddhist Canon Input Project'}\n",
      "{'author': 'AUTHOR WANTED', 'title': 'Alambanapariksa with Alambanapariksavrtti', 'source': 'input by members of the Sanskrit Buddhist Canon Input Project'}\n",
      "{'author': 'AUTHOR WANTED', 'title': 'Antarvyaptisamarthana', 'source': 'input by members of the Sanskrit Buddhist Canon Input Project'}\n"
     ]
    },
    {
     "ename": "TypeError",
     "evalue": "expected string or bytes-like object",
     "output_type": "error",
     "traceback": [
      "\u001b[0;31m---------------------------------------------------------------------------\u001b[0m",
      "\u001b[0;31mTypeError\u001b[0m                                 Traceback (most recent call last)",
      "\u001b[0;32m<ipython-input-168-a19109f65de3>\u001b[0m in \u001b[0;36m<module>\u001b[0;34m()\u001b[0m\n\u001b[1;32m      1\u001b[0m \u001b[0;32mfor\u001b[0m \u001b[0mc\u001b[0m \u001b[0;32min\u001b[0m \u001b[0mcorpora\u001b[0m\u001b[0;34m:\u001b[0m\u001b[0;34m\u001b[0m\u001b[0m\n\u001b[1;32m      2\u001b[0m     \u001b[0;31m#print(c.contents[0])\u001b[0m\u001b[0;34m\u001b[0m\u001b[0;34m\u001b[0m\u001b[0m\n\u001b[0;32m----> 3\u001b[0;31m     \u001b[0mget_author_title_source\u001b[0m\u001b[0;34m(\u001b[0m\u001b[0mc\u001b[0m\u001b[0;34m)\u001b[0m\u001b[0;34m\u001b[0m\u001b[0m\n\u001b[0m",
      "\u001b[0;32m<ipython-input-167-5e1bcde90cc1>\u001b[0m in \u001b[0;36mget_author_title_source\u001b[0;34m(corpus)\u001b[0m\n\u001b[1;32m      2\u001b[0m     \u001b[0mentry\u001b[0m \u001b[0;34m=\u001b[0m \u001b[0mcorpus\u001b[0m\u001b[0;34m.\u001b[0m\u001b[0mcontents\u001b[0m\u001b[0;34m[\u001b[0m\u001b[0;36m0\u001b[0m\u001b[0;34m]\u001b[0m\u001b[0;34m\u001b[0m\u001b[0m\n\u001b[1;32m      3\u001b[0m \u001b[0;34m\u001b[0m\u001b[0m\n\u001b[0;32m----> 4\u001b[0;31m     \u001b[0;32mif\u001b[0m \u001b[0mre\u001b[0m\u001b[0;34m.\u001b[0m\u001b[0mfindall\u001b[0m\u001b[0;34m(\u001b[0m\u001b[0;34mr\".+:\"\u001b[0m\u001b[0;34m,\u001b[0m \u001b[0mentry\u001b[0m\u001b[0;34m)\u001b[0m\u001b[0;34m:\u001b[0m\u001b[0;34m\u001b[0m\u001b[0m\n\u001b[0m\u001b[1;32m      5\u001b[0m         \u001b[0mauthor\u001b[0m \u001b[0;34m=\u001b[0m \u001b[0mre\u001b[0m\u001b[0;34m.\u001b[0m\u001b[0mfindall\u001b[0m\u001b[0;34m(\u001b[0m\u001b[0;34mr\".+:\"\u001b[0m\u001b[0;34m,\u001b[0m \u001b[0mentry\u001b[0m\u001b[0;34m)\u001b[0m\u001b[0;34m[\u001b[0m\u001b[0;36m0\u001b[0m\u001b[0;34m]\u001b[0m\u001b[0;34m[\u001b[0m\u001b[0;34m:\u001b[0m\u001b[0;34m-\u001b[0m\u001b[0;36m1\u001b[0m\u001b[0;34m]\u001b[0m\u001b[0;34m\u001b[0m\u001b[0m\n\u001b[1;32m      6\u001b[0m         \u001b[0mtitle\u001b[0m \u001b[0;34m=\u001b[0m \u001b[0mre\u001b[0m\u001b[0;34m.\u001b[0m\u001b[0mfindall\u001b[0m\u001b[0;34m(\u001b[0m\u001b[0;34mr\": .+ \\(\"\u001b[0m\u001b[0;34m,\u001b[0m \u001b[0mentry\u001b[0m\u001b[0;34m)\u001b[0m\u001b[0;34m[\u001b[0m\u001b[0;36m0\u001b[0m\u001b[0;34m]\u001b[0m\u001b[0;34m[\u001b[0m\u001b[0;36m2\u001b[0m\u001b[0;34m:\u001b[0m\u001b[0;34m-\u001b[0m\u001b[0;36m2\u001b[0m\u001b[0;34m]\u001b[0m\u001b[0;34m\u001b[0m\u001b[0m\n",
      "\u001b[0;32m//anaconda/lib/python3.5/re.py\u001b[0m in \u001b[0;36mfindall\u001b[0;34m(pattern, string, flags)\u001b[0m\n\u001b[1;32m    211\u001b[0m \u001b[0;34m\u001b[0m\u001b[0m\n\u001b[1;32m    212\u001b[0m     Empty matches are included in the result.\"\"\"\n\u001b[0;32m--> 213\u001b[0;31m     \u001b[0;32mreturn\u001b[0m \u001b[0m_compile\u001b[0m\u001b[0;34m(\u001b[0m\u001b[0mpattern\u001b[0m\u001b[0;34m,\u001b[0m \u001b[0mflags\u001b[0m\u001b[0;34m)\u001b[0m\u001b[0;34m.\u001b[0m\u001b[0mfindall\u001b[0m\u001b[0;34m(\u001b[0m\u001b[0mstring\u001b[0m\u001b[0;34m)\u001b[0m\u001b[0;34m\u001b[0m\u001b[0m\n\u001b[0m\u001b[1;32m    214\u001b[0m \u001b[0;34m\u001b[0m\u001b[0m\n\u001b[1;32m    215\u001b[0m \u001b[0;32mdef\u001b[0m \u001b[0mfinditer\u001b[0m\u001b[0;34m(\u001b[0m\u001b[0mpattern\u001b[0m\u001b[0;34m,\u001b[0m \u001b[0mstring\u001b[0m\u001b[0;34m,\u001b[0m \u001b[0mflags\u001b[0m\u001b[0;34m=\u001b[0m\u001b[0;36m0\u001b[0m\u001b[0;34m)\u001b[0m\u001b[0;34m:\u001b[0m\u001b[0;34m\u001b[0m\u001b[0m\n",
      "\u001b[0;31mTypeError\u001b[0m: expected string or bytes-like object"
     ]
    }
   ],
   "source": [
    "for c in corpora:\n",
    "    #print(c.contents[0])\n",
    "    get_author_title_source(c)"
   ]
  },
  {
   "cell_type": "code",
   "execution_count": 174,
   "metadata": {
    "collapsed": false
   },
   "outputs": [
    {
     "data": {
      "text/plain": [
       "bs4.element.Tag"
      ]
     },
     "execution_count": 174,
     "metadata": {},
     "output_type": "execute_result"
    }
   ],
   "source": [
    "type(corpora[7])"
   ]
  },
  {
   "cell_type": "code",
   "execution_count": 13,
   "metadata": {
    "collapsed": true
   },
   "outputs": [],
   "source": [
    "raw = BeautifulSoup(html, \"lxml\").get_text()"
   ]
  },
  {
   "cell_type": "code",
   "execution_count": 14,
   "metadata": {
    "collapsed": false
   },
   "outputs": [
    {
     "data": {
      "text/plain": [
       "5"
      ]
     },
     "execution_count": 14,
     "metadata": {},
     "output_type": "execute_result"
    }
   ],
   "source": [
    "raw.find(\"GRETIL - Göttingen Register of Electronic Texts in Indian Languages\")"
   ]
  },
  {
   "cell_type": "code",
   "execution_count": 16,
   "metadata": {
    "collapsed": false
   },
   "outputs": [
    {
     "data": {
      "text/plain": [
       "'\\nGRETIL - Göttingen Register of Electronic Texts in Indian Languages\\nand related Indological materials from Central and Southeast Asia\\n\\nArchive of E-Texts in Unicode (UTF-8)\\n \\n\\nIndex\\n\\n\\nIntroduction\\n\\n\\nContact\\n\\n\\n E-texts in Sanskrit \\n\\n\\nVeda \\nSamhita | Brahmana | Aranyaka | Upanisad \\nVedanga: Srautasutra | Sulbasutra | Grhyasutra | Parisista | Pratisakhya \\nEpics \\nMahabharata | Bhagavadgita | Narayaniya | Harivamsa \\nRamayana \\nPurana \\nReligious Literature \\nVaisnava | Saiva | Buddhist | Jaina \\nPoetry \\nAlamkara | Natya | Chandas (prosody) | Kavya | Drama | Narrative Literature | Subhasita | Historical \\nSastra \\nGrammar | Lexicography \\nPhilosophy: General | Mimamsa | Vedanta | Advaita | Samkhya | Yoga | Nyaya | Vaisesika || Saiva | Buddhist | Other \\nDharmasastra: Sutra | Smrti | Nibandha and other \\nArthasastra | Kamasastra | Ayurveda, alchemy etc. | Astrology, astronomy, mathematics | Miscellanea \\n Download All Sanskrit Texts (UTF-8 only)\\n\\n\\n E-texts in Pali \\n\\n\\nTipitaka \\nVina'"
      ]
     },
     "execution_count": 16,
     "metadata": {},
     "output_type": "execute_result"
    }
   ],
   "source": [
    "raw[1870:2850]"
   ]
  },
  {
   "cell_type": "code",
   "execution_count": null,
   "metadata": {
    "collapsed": true
   },
   "outputs": [],
   "source": []
  }
 ],
 "metadata": {
  "kernelspec": {
   "display_name": "Python 3",
   "language": "python",
   "name": "python3"
  },
  "language_info": {
   "codemirror_mode": {
    "name": "ipython",
    "version": 3
   },
   "file_extension": ".py",
   "mimetype": "text/x-python",
   "name": "python",
   "nbconvert_exporter": "python",
   "pygments_lexer": "ipython3",
   "version": "3.5.1"
  }
 },
 "nbformat": 4,
 "nbformat_minor": 0
}
